{
 "cells": [
  {
   "cell_type": "markdown",
   "metadata": {},
   "source": [
    "# Tutorial 09 - Grouping and Aggregating - Part 1"
   ]
  },
  {
   "cell_type": "markdown",
   "metadata": {},
   "source": [
    "The real power of data analysis with `DataFrames` comes into focus when we start utilizing the `.groupby()` and `.agg()` methods.  \n",
    "\n",
    "This is known as *grouping* and *aggregating*.\n",
    "\n",
    "Talking about grouping in the abstract can be confusing; I think it's best to see grouping in action by doing meaningful calculations.\n",
    "\n",
    "The purpose of this tutorial is to introduce grouping and aggregation by way of following finance task: calculating monthly returns and volatilities for several assets."
   ]
  },
  {
   "cell_type": "markdown",
   "metadata": {},
   "source": [
    "## Loading Packages"
   ]
  },
  {
   "cell_type": "markdown",
   "metadata": {},
   "source": [
    "Let's load the packages that we will need for this tutorial."
   ]
  },
  {
   "cell_type": "code",
   "execution_count": 1,
   "metadata": {},
   "outputs": [],
   "source": [
    "import numpy as np\n",
    "import pandas as pd"
   ]
  },
  {
   "cell_type": "markdown",
   "metadata": {},
   "source": [
    "## Reading-In Data"
   ]
  },
  {
   "cell_type": "markdown",
   "metadata": {},
   "source": [
    "The analysis we will be performing will be on the set of of December 2018 prices for `SPY`, `IWM`, `QQQ`, `DIA`.\n",
    "\n",
    "Let's read that data in from the CSV file."
   ]
  },
  {
   "cell_type": "code",
   "execution_count": 2,
   "metadata": {},
   "outputs": [
    {
     "data": {
      "text/html": [
       "<div>\n",
       "<style scoped>\n",
       "    .dataframe tbody tr th:only-of-type {\n",
       "        vertical-align: middle;\n",
       "    }\n",
       "\n",
       "    .dataframe tbody tr th {\n",
       "        vertical-align: top;\n",
       "    }\n",
       "\n",
       "    .dataframe thead th {\n",
       "        text-align: right;\n",
       "    }\n",
       "</style>\n",
       "<table border=\"1\" class=\"dataframe\">\n",
       "  <thead>\n",
       "    <tr style=\"text-align: right;\">\n",
       "      <th></th>\n",
       "      <th>symbol</th>\n",
       "      <th>date</th>\n",
       "      <th>open</th>\n",
       "      <th>high</th>\n",
       "      <th>low</th>\n",
       "      <th>close</th>\n",
       "      <th>volume</th>\n",
       "      <th>adjusted</th>\n",
       "    </tr>\n",
       "  </thead>\n",
       "  <tbody>\n",
       "    <tr>\n",
       "      <th>0</th>\n",
       "      <td>SPY</td>\n",
       "      <td>2018-11-30</td>\n",
       "      <td>273.809998</td>\n",
       "      <td>276.279999</td>\n",
       "      <td>273.450012</td>\n",
       "      <td>275.649994</td>\n",
       "      <td>98204200</td>\n",
       "      <td>271.527222</td>\n",
       "    </tr>\n",
       "    <tr>\n",
       "      <th>1</th>\n",
       "      <td>SPY</td>\n",
       "      <td>2018-12-03</td>\n",
       "      <td>280.279999</td>\n",
       "      <td>280.399994</td>\n",
       "      <td>277.510010</td>\n",
       "      <td>279.299988</td>\n",
       "      <td>103176300</td>\n",
       "      <td>275.122589</td>\n",
       "    </tr>\n",
       "    <tr>\n",
       "      <th>2</th>\n",
       "      <td>SPY</td>\n",
       "      <td>2018-12-04</td>\n",
       "      <td>278.369995</td>\n",
       "      <td>278.850006</td>\n",
       "      <td>269.899994</td>\n",
       "      <td>270.250000</td>\n",
       "      <td>177986000</td>\n",
       "      <td>266.207977</td>\n",
       "    </tr>\n",
       "    <tr>\n",
       "      <th>3</th>\n",
       "      <td>SPY</td>\n",
       "      <td>2018-12-06</td>\n",
       "      <td>265.920013</td>\n",
       "      <td>269.970001</td>\n",
       "      <td>262.440002</td>\n",
       "      <td>269.839996</td>\n",
       "      <td>204185400</td>\n",
       "      <td>265.804108</td>\n",
       "    </tr>\n",
       "    <tr>\n",
       "      <th>4</th>\n",
       "      <td>SPY</td>\n",
       "      <td>2018-12-07</td>\n",
       "      <td>269.459991</td>\n",
       "      <td>271.220001</td>\n",
       "      <td>262.630005</td>\n",
       "      <td>263.570007</td>\n",
       "      <td>161018900</td>\n",
       "      <td>259.627899</td>\n",
       "    </tr>\n",
       "  </tbody>\n",
       "</table>\n",
       "</div>"
      ],
      "text/plain": [
       "  symbol        date        open        high         low       close  \\\n",
       "0    SPY  2018-11-30  273.809998  276.279999  273.450012  275.649994   \n",
       "1    SPY  2018-12-03  280.279999  280.399994  277.510010  279.299988   \n",
       "2    SPY  2018-12-04  278.369995  278.850006  269.899994  270.250000   \n",
       "3    SPY  2018-12-06  265.920013  269.970001  262.440002  269.839996   \n",
       "4    SPY  2018-12-07  269.459991  271.220001  262.630005  263.570007   \n",
       "\n",
       "      volume    adjusted  \n",
       "0   98204200  271.527222  \n",
       "1  103176300  275.122589  \n",
       "2  177986000  266.207977  \n",
       "3  204185400  265.804108  \n",
       "4  161018900  259.627899  "
      ]
     },
     "execution_count": 2,
     "metadata": {},
     "output_type": "execute_result"
    }
   ],
   "source": [
    "df_etf = pd.read_csv(\"../data/index_etf_dec_2018.csv\")\n",
    "df_etf.head()"
   ]
  },
  {
   "cell_type": "markdown",
   "metadata": {},
   "source": [
    "**Coding Challenge:** Use `DataFrame` masking to isolate all the `QQQ` rows."
   ]
  },
  {
   "cell_type": "code",
   "execution_count": null,
   "metadata": {},
   "outputs": [],
   "source": [
    "\n",
    "\n",
    "\n"
   ]
  },
  {
   "cell_type": "markdown",
   "metadata": {},
   "source": [
    "## Calculating Daily Log-Returns with `groupby()`"
   ]
  },
  {
   "cell_type": "markdown",
   "metadata": {},
   "source": [
    "Our ultimate goal is to calculate monthly returns and monthly volatilities for each ETF in `df_etf`.  These quantities are both functions of daily returns.  So, our first order of business is to calculate daily returns. \n",
    "\n",
    "In a previous tutorial we calculated daily returns in a vectorized fashion.  Unfortunately, we can't use the exact same approach here because there are multiple ETFs in the data set.\n",
    "\n",
    "To overcome this challenge we will use our first application of `groupby()`.\n",
    "\n",
    "Here is the vectorized code that calculated daily log-returns for each ETF."
   ]
  },
  {
   "cell_type": "code",
   "execution_count": 3,
   "metadata": {},
   "outputs": [
    {
     "data": {
      "text/html": [
       "<div>\n",
       "<style scoped>\n",
       "    .dataframe tbody tr th:only-of-type {\n",
       "        vertical-align: middle;\n",
       "    }\n",
       "\n",
       "    .dataframe tbody tr th {\n",
       "        vertical-align: top;\n",
       "    }\n",
       "\n",
       "    .dataframe thead th {\n",
       "        text-align: right;\n",
       "    }\n",
       "</style>\n",
       "<table border=\"1\" class=\"dataframe\">\n",
       "  <thead>\n",
       "    <tr style=\"text-align: right;\">\n",
       "      <th></th>\n",
       "      <th>symbol</th>\n",
       "      <th>date</th>\n",
       "      <th>open</th>\n",
       "      <th>high</th>\n",
       "      <th>low</th>\n",
       "      <th>close</th>\n",
       "      <th>volume</th>\n",
       "      <th>adjusted</th>\n",
       "      <th>ret</th>\n",
       "    </tr>\n",
       "  </thead>\n",
       "  <tbody>\n",
       "    <tr>\n",
       "      <th>60</th>\n",
       "      <td>DIA</td>\n",
       "      <td>2018-11-30</td>\n",
       "      <td>253.100006</td>\n",
       "      <td>255.839996</td>\n",
       "      <td>252.830002</td>\n",
       "      <td>255.509995</td>\n",
       "      <td>2991800</td>\n",
       "      <td>251.157043</td>\n",
       "      <td>NaN</td>\n",
       "    </tr>\n",
       "    <tr>\n",
       "      <th>61</th>\n",
       "      <td>DIA</td>\n",
       "      <td>2018-12-03</td>\n",
       "      <td>260.170013</td>\n",
       "      <td>260.299988</td>\n",
       "      <td>257.019989</td>\n",
       "      <td>258.730011</td>\n",
       "      <td>9544200</td>\n",
       "      <td>254.322189</td>\n",
       "      <td>0.012602</td>\n",
       "    </tr>\n",
       "    <tr>\n",
       "      <th>62</th>\n",
       "      <td>DIA</td>\n",
       "      <td>2018-12-04</td>\n",
       "      <td>257.640015</td>\n",
       "      <td>258.040009</td>\n",
       "      <td>250.380005</td>\n",
       "      <td>250.729996</td>\n",
       "      <td>5376900</td>\n",
       "      <td>246.458496</td>\n",
       "      <td>-0.030920</td>\n",
       "    </tr>\n",
       "    <tr>\n",
       "      <th>63</th>\n",
       "      <td>DIA</td>\n",
       "      <td>2018-12-06</td>\n",
       "      <td>246.360001</td>\n",
       "      <td>249.869995</td>\n",
       "      <td>242.820007</td>\n",
       "      <td>249.720001</td>\n",
       "      <td>8232800</td>\n",
       "      <td>245.465698</td>\n",
       "      <td>-0.004028</td>\n",
       "    </tr>\n",
       "    <tr>\n",
       "      <th>64</th>\n",
       "      <td>DIA</td>\n",
       "      <td>2018-12-07</td>\n",
       "      <td>249.660004</td>\n",
       "      <td>251.410004</td>\n",
       "      <td>243.289993</td>\n",
       "      <td>244.309998</td>\n",
       "      <td>5963700</td>\n",
       "      <td>240.147842</td>\n",
       "      <td>-0.021664</td>\n",
       "    </tr>\n",
       "  </tbody>\n",
       "</table>\n",
       "</div>"
      ],
      "text/plain": [
       "   symbol        date        open        high         low       close  \\\n",
       "60    DIA  2018-11-30  253.100006  255.839996  252.830002  255.509995   \n",
       "61    DIA  2018-12-03  260.170013  260.299988  257.019989  258.730011   \n",
       "62    DIA  2018-12-04  257.640015  258.040009  250.380005  250.729996   \n",
       "63    DIA  2018-12-06  246.360001  249.869995  242.820007  249.720001   \n",
       "64    DIA  2018-12-07  249.660004  251.410004  243.289993  244.309998   \n",
       "\n",
       "     volume    adjusted       ret  \n",
       "60  2991800  251.157043       NaN  \n",
       "61  9544200  254.322189  0.012602  \n",
       "62  5376900  246.458496 -0.030920  \n",
       "63  8232800  245.465698 -0.004028  \n",
       "64  5963700  240.147842 -0.021664  "
      ]
     },
     "execution_count": 3,
     "metadata": {},
     "output_type": "execute_result"
    }
   ],
   "source": [
    "# sorting values to get everything in the right order\n",
    "df_etf.sort_values(['symbol', 'date'], inplace=True)\n",
    "\n",
    "# vectorized return calculation\n",
    "df_etf['ret'] = \\\n",
    "    df_etf['close'].groupby(df_etf['symbol']).pct_change()\n",
    "df_etf.head()"
   ]
  },
  {
   "cell_type": "markdown",
   "metadata": {},
   "source": [
    "**Code Challenge:** If the `group_by()` worked correctly, we should see value of `NaN` in the `log_ret` column for the first trade-date of each ETF.  Use `DataFrame` masking to confirm this."
   ]
  },
  {
   "cell_type": "code",
   "execution_count": null,
   "metadata": {},
   "outputs": [],
   "source": [
    "\n",
    "\n",
    "\n"
   ]
  },
  {
   "cell_type": "markdown",
   "metadata": {},
   "source": [
    " "
   ]
  },
  {
   "cell_type": "markdown",
   "metadata": {},
   "source": [
    "The `group_by()` function actually saves us from a fair amount of hassle, as we see next.\n",
    "\n",
    "The following code calculates the daily return for each day and each symbol using a `for` loop.  It is similar to the code we used in a previous tutorial except there is some logic to deal with the fact that there are different symbols in the same data set.  For the purposes of this tutorial you can simply run the code.  If you are curious about it, I encourage you to analyze it on your own."
   ]
  },
  {
   "cell_type": "code",
   "execution_count": 4,
   "metadata": {},
   "outputs": [
    {
     "data": {
      "text/html": [
       "<div>\n",
       "<style scoped>\n",
       "    .dataframe tbody tr th:only-of-type {\n",
       "        vertical-align: middle;\n",
       "    }\n",
       "\n",
       "    .dataframe tbody tr th {\n",
       "        vertical-align: top;\n",
       "    }\n",
       "\n",
       "    .dataframe thead th {\n",
       "        text-align: right;\n",
       "    }\n",
       "</style>\n",
       "<table border=\"1\" class=\"dataframe\">\n",
       "  <thead>\n",
       "    <tr style=\"text-align: right;\">\n",
       "      <th></th>\n",
       "      <th>symbol</th>\n",
       "      <th>date</th>\n",
       "      <th>open</th>\n",
       "      <th>high</th>\n",
       "      <th>low</th>\n",
       "      <th>close</th>\n",
       "      <th>volume</th>\n",
       "      <th>adjusted</th>\n",
       "      <th>ret</th>\n",
       "      <th>ret_loop</th>\n",
       "    </tr>\n",
       "  </thead>\n",
       "  <tbody>\n",
       "    <tr>\n",
       "      <th>60</th>\n",
       "      <td>DIA</td>\n",
       "      <td>2018-11-30</td>\n",
       "      <td>253.100006</td>\n",
       "      <td>255.839996</td>\n",
       "      <td>252.830002</td>\n",
       "      <td>255.509995</td>\n",
       "      <td>2991800</td>\n",
       "      <td>251.157043</td>\n",
       "      <td>NaN</td>\n",
       "      <td>NaN</td>\n",
       "    </tr>\n",
       "    <tr>\n",
       "      <th>61</th>\n",
       "      <td>DIA</td>\n",
       "      <td>2018-12-03</td>\n",
       "      <td>260.170013</td>\n",
       "      <td>260.299988</td>\n",
       "      <td>257.019989</td>\n",
       "      <td>258.730011</td>\n",
       "      <td>9544200</td>\n",
       "      <td>254.322189</td>\n",
       "      <td>0.012602</td>\n",
       "      <td>0.012602</td>\n",
       "    </tr>\n",
       "    <tr>\n",
       "      <th>62</th>\n",
       "      <td>DIA</td>\n",
       "      <td>2018-12-04</td>\n",
       "      <td>257.640015</td>\n",
       "      <td>258.040009</td>\n",
       "      <td>250.380005</td>\n",
       "      <td>250.729996</td>\n",
       "      <td>5376900</td>\n",
       "      <td>246.458496</td>\n",
       "      <td>-0.030920</td>\n",
       "      <td>-0.030920</td>\n",
       "    </tr>\n",
       "    <tr>\n",
       "      <th>63</th>\n",
       "      <td>DIA</td>\n",
       "      <td>2018-12-06</td>\n",
       "      <td>246.360001</td>\n",
       "      <td>249.869995</td>\n",
       "      <td>242.820007</td>\n",
       "      <td>249.720001</td>\n",
       "      <td>8232800</td>\n",
       "      <td>245.465698</td>\n",
       "      <td>-0.004028</td>\n",
       "      <td>-0.004028</td>\n",
       "    </tr>\n",
       "    <tr>\n",
       "      <th>64</th>\n",
       "      <td>DIA</td>\n",
       "      <td>2018-12-07</td>\n",
       "      <td>249.660004</td>\n",
       "      <td>251.410004</td>\n",
       "      <td>243.289993</td>\n",
       "      <td>244.309998</td>\n",
       "      <td>5963700</td>\n",
       "      <td>240.147842</td>\n",
       "      <td>-0.021664</td>\n",
       "      <td>-0.021664</td>\n",
       "    </tr>\n",
       "  </tbody>\n",
       "</table>\n",
       "</div>"
      ],
      "text/plain": [
       "   symbol        date        open        high         low       close  \\\n",
       "60    DIA  2018-11-30  253.100006  255.839996  252.830002  255.509995   \n",
       "61    DIA  2018-12-03  260.170013  260.299988  257.019989  258.730011   \n",
       "62    DIA  2018-12-04  257.640015  258.040009  250.380005  250.729996   \n",
       "63    DIA  2018-12-06  246.360001  249.869995  242.820007  249.720001   \n",
       "64    DIA  2018-12-07  249.660004  251.410004  243.289993  244.309998   \n",
       "\n",
       "     volume    adjusted       ret  ret_loop  \n",
       "60  2991800  251.157043       NaN       NaN  \n",
       "61  9544200  254.322189  0.012602  0.012602  \n",
       "62  5376900  246.458496 -0.030920 -0.030920  \n",
       "63  8232800  245.465698 -0.004028 -0.004028  \n",
       "64  5963700  240.147842 -0.021664 -0.021664  "
      ]
     },
     "execution_count": 4,
     "metadata": {},
     "output_type": "execute_result"
    }
   ],
   "source": [
    "df_etf['ret_loop'] = np.nan\n",
    "for ix in range(1, df_etf.shape[0]):\n",
    "    \n",
    "    # grabbing symbols from df_etf\n",
    "    curr_sym = df_etf.at[ix, 'symbol']\n",
    "    prev_sym = df_etf.at[ix-1, 'symbol']\n",
    "    \n",
    "    # grabbling prices from df_etf\n",
    "    curr_px = df_etf.at[ix, 'close']\n",
    "    prev_px = df_etf.at[ix-1, 'close']\n",
    "    \n",
    "    # calculating return\n",
    "    if curr_sym == prev_sym:\n",
    "        df_etf.at[ix, 'ret_loop'] = (curr_px / prev_px) - 1\n",
    "\n",
    "df_etf.head()"
   ]
  },
  {
   "cell_type": "markdown",
   "metadata": {},
   "source": [
    "As you can see, both return methodologies yield the same result.  The vectorized code is far more succinct (though this isn't always a good thing).\n",
    "\n",
    "We'll now proceed to calculating monthly returns and volatility for each of the ETFs in our data set.  This amounts to first grouping by `symbol`, and then performing an aggregation calculation on `returns`.  \n",
    "\n",
    "Let's start with monthly returns."
   ]
  },
  {
   "cell_type": "markdown",
   "metadata": {},
   "source": [
    "## Monthly Return for Each `symbol`"
   ]
  },
  {
   "cell_type": "markdown",
   "metadata": {},
   "source": [
    "If you take a look at our data set, we now have daily returns for each day, for each of the four ETFs.  Given a bit of time, you could probably come up with a `for` loop to iterate through the `DataFrame` and produce the monthly returns for each ETF (in fact, you could modify the returns `for` loop from the previous section to do just that).  As a one-off solution, that would be fine.  But grouping and aggregating are such ubiquitous operations, that it would be inconvenient to have write a `for`-loop every time.\n",
    "\n",
    "\n",
    "Let's begin by calculating the daily growth factor in a separate column."
   ]
  },
  {
   "cell_type": "code",
   "execution_count": 5,
   "metadata": {},
   "outputs": [
    {
     "data": {
      "text/html": [
       "<div>\n",
       "<style scoped>\n",
       "    .dataframe tbody tr th:only-of-type {\n",
       "        vertical-align: middle;\n",
       "    }\n",
       "\n",
       "    .dataframe tbody tr th {\n",
       "        vertical-align: top;\n",
       "    }\n",
       "\n",
       "    .dataframe thead th {\n",
       "        text-align: right;\n",
       "    }\n",
       "</style>\n",
       "<table border=\"1\" class=\"dataframe\">\n",
       "  <thead>\n",
       "    <tr style=\"text-align: right;\">\n",
       "      <th></th>\n",
       "      <th>symbol</th>\n",
       "      <th>date</th>\n",
       "      <th>open</th>\n",
       "      <th>high</th>\n",
       "      <th>low</th>\n",
       "      <th>close</th>\n",
       "      <th>volume</th>\n",
       "      <th>adjusted</th>\n",
       "      <th>ret</th>\n",
       "      <th>ret_loop</th>\n",
       "      <th>growth_factor</th>\n",
       "    </tr>\n",
       "  </thead>\n",
       "  <tbody>\n",
       "    <tr>\n",
       "      <th>60</th>\n",
       "      <td>DIA</td>\n",
       "      <td>2018-11-30</td>\n",
       "      <td>253.100006</td>\n",
       "      <td>255.839996</td>\n",
       "      <td>252.830002</td>\n",
       "      <td>255.509995</td>\n",
       "      <td>2991800</td>\n",
       "      <td>251.157043</td>\n",
       "      <td>NaN</td>\n",
       "      <td>NaN</td>\n",
       "      <td>NaN</td>\n",
       "    </tr>\n",
       "    <tr>\n",
       "      <th>61</th>\n",
       "      <td>DIA</td>\n",
       "      <td>2018-12-03</td>\n",
       "      <td>260.170013</td>\n",
       "      <td>260.299988</td>\n",
       "      <td>257.019989</td>\n",
       "      <td>258.730011</td>\n",
       "      <td>9544200</td>\n",
       "      <td>254.322189</td>\n",
       "      <td>0.012602</td>\n",
       "      <td>0.012602</td>\n",
       "      <td>1.012602</td>\n",
       "    </tr>\n",
       "    <tr>\n",
       "      <th>62</th>\n",
       "      <td>DIA</td>\n",
       "      <td>2018-12-04</td>\n",
       "      <td>257.640015</td>\n",
       "      <td>258.040009</td>\n",
       "      <td>250.380005</td>\n",
       "      <td>250.729996</td>\n",
       "      <td>5376900</td>\n",
       "      <td>246.458496</td>\n",
       "      <td>-0.030920</td>\n",
       "      <td>-0.030920</td>\n",
       "      <td>0.969080</td>\n",
       "    </tr>\n",
       "    <tr>\n",
       "      <th>63</th>\n",
       "      <td>DIA</td>\n",
       "      <td>2018-12-06</td>\n",
       "      <td>246.360001</td>\n",
       "      <td>249.869995</td>\n",
       "      <td>242.820007</td>\n",
       "      <td>249.720001</td>\n",
       "      <td>8232800</td>\n",
       "      <td>245.465698</td>\n",
       "      <td>-0.004028</td>\n",
       "      <td>-0.004028</td>\n",
       "      <td>0.995972</td>\n",
       "    </tr>\n",
       "    <tr>\n",
       "      <th>64</th>\n",
       "      <td>DIA</td>\n",
       "      <td>2018-12-07</td>\n",
       "      <td>249.660004</td>\n",
       "      <td>251.410004</td>\n",
       "      <td>243.289993</td>\n",
       "      <td>244.309998</td>\n",
       "      <td>5963700</td>\n",
       "      <td>240.147842</td>\n",
       "      <td>-0.021664</td>\n",
       "      <td>-0.021664</td>\n",
       "      <td>0.978336</td>\n",
       "    </tr>\n",
       "  </tbody>\n",
       "</table>\n",
       "</div>"
      ],
      "text/plain": [
       "   symbol        date        open        high         low       close  \\\n",
       "60    DIA  2018-11-30  253.100006  255.839996  252.830002  255.509995   \n",
       "61    DIA  2018-12-03  260.170013  260.299988  257.019989  258.730011   \n",
       "62    DIA  2018-12-04  257.640015  258.040009  250.380005  250.729996   \n",
       "63    DIA  2018-12-06  246.360001  249.869995  242.820007  249.720001   \n",
       "64    DIA  2018-12-07  249.660004  251.410004  243.289993  244.309998   \n",
       "\n",
       "     volume    adjusted       ret  ret_loop  growth_factor  \n",
       "60  2991800  251.157043       NaN       NaN            NaN  \n",
       "61  9544200  254.322189  0.012602  0.012602       1.012602  \n",
       "62  5376900  246.458496 -0.030920 -0.030920       0.969080  \n",
       "63  8232800  245.465698 -0.004028 -0.004028       0.995972  \n",
       "64  5963700  240.147842 -0.021664 -0.021664       0.978336  "
      ]
     },
     "execution_count": 5,
     "metadata": {},
     "output_type": "execute_result"
    }
   ],
   "source": [
    "df_etf['growth_factor'] = 1 + df_etf['ret']\n",
    "df_etf.head()"
   ]
  },
  {
   "cell_type": "markdown",
   "metadata": {},
   "source": [
    "Recall that the monthly growth factor is the product of the daily growth factors.  Here is a way to write all that logic in a single line using `.groupby()` and `.agg()`:"
   ]
  },
  {
   "cell_type": "code",
   "execution_count": 6,
   "metadata": {},
   "outputs": [
    {
     "data": {
      "text/html": [
       "<div>\n",
       "<style scoped>\n",
       "    .dataframe tbody tr th:only-of-type {\n",
       "        vertical-align: middle;\n",
       "    }\n",
       "\n",
       "    .dataframe tbody tr th {\n",
       "        vertical-align: top;\n",
       "    }\n",
       "\n",
       "    .dataframe thead th {\n",
       "        text-align: right;\n",
       "    }\n",
       "</style>\n",
       "<table border=\"1\" class=\"dataframe\">\n",
       "  <thead>\n",
       "    <tr style=\"text-align: right;\">\n",
       "      <th></th>\n",
       "      <th>symbol</th>\n",
       "      <th>prod</th>\n",
       "    </tr>\n",
       "  </thead>\n",
       "  <tbody>\n",
       "    <tr>\n",
       "      <th>0</th>\n",
       "      <td>DIA</td>\n",
       "      <td>0.912684</td>\n",
       "    </tr>\n",
       "    <tr>\n",
       "      <th>1</th>\n",
       "      <td>IWM</td>\n",
       "      <td>0.877342</td>\n",
       "    </tr>\n",
       "    <tr>\n",
       "      <th>2</th>\n",
       "      <td>QQQ</td>\n",
       "      <td>0.910787</td>\n",
       "    </tr>\n",
       "    <tr>\n",
       "      <th>3</th>\n",
       "      <td>SPY</td>\n",
       "      <td>0.906657</td>\n",
       "    </tr>\n",
       "  </tbody>\n",
       "</table>\n",
       "</div>"
      ],
      "text/plain": [
       "  symbol      prod\n",
       "0    DIA  0.912684\n",
       "1    IWM  0.877342\n",
       "2    QQQ  0.910787\n",
       "3    SPY  0.906657"
      ]
     },
     "execution_count": 6,
     "metadata": {},
     "output_type": "execute_result"
    }
   ],
   "source": [
    "df_grouped_factor = \\\n",
    "    df_etf.groupby(['symbol'])['growth_factor'].agg([np.prod]).reset_index()\n",
    "df_grouped_factor"
   ]
  },
  {
   "cell_type": "markdown",
   "metadata": {},
   "source": [
    "Notice that `pandas` isn't very sophisticated about the name that it gives to the column that stores the aggregation calculation column.  It just gave it the name `prod`, which the name of the function that was used in the aggregation calculation.  Let's make `df_grouped_factor` a bit more readable by renaming that column."
   ]
  },
  {
   "cell_type": "code",
   "execution_count": 7,
   "metadata": {},
   "outputs": [
    {
     "data": {
      "text/html": [
       "<div>\n",
       "<style scoped>\n",
       "    .dataframe tbody tr th:only-of-type {\n",
       "        vertical-align: middle;\n",
       "    }\n",
       "\n",
       "    .dataframe tbody tr th {\n",
       "        vertical-align: top;\n",
       "    }\n",
       "\n",
       "    .dataframe thead th {\n",
       "        text-align: right;\n",
       "    }\n",
       "</style>\n",
       "<table border=\"1\" class=\"dataframe\">\n",
       "  <thead>\n",
       "    <tr style=\"text-align: right;\">\n",
       "      <th></th>\n",
       "      <th>symbol</th>\n",
       "      <th>monthly_factor</th>\n",
       "    </tr>\n",
       "  </thead>\n",
       "  <tbody>\n",
       "    <tr>\n",
       "      <th>0</th>\n",
       "      <td>DIA</td>\n",
       "      <td>0.912684</td>\n",
       "    </tr>\n",
       "    <tr>\n",
       "      <th>1</th>\n",
       "      <td>IWM</td>\n",
       "      <td>0.877342</td>\n",
       "    </tr>\n",
       "    <tr>\n",
       "      <th>2</th>\n",
       "      <td>QQQ</td>\n",
       "      <td>0.910787</td>\n",
       "    </tr>\n",
       "    <tr>\n",
       "      <th>3</th>\n",
       "      <td>SPY</td>\n",
       "      <td>0.906657</td>\n",
       "    </tr>\n",
       "  </tbody>\n",
       "</table>\n",
       "</div>"
      ],
      "text/plain": [
       "  symbol  monthly_factor\n",
       "0    DIA        0.912684\n",
       "1    IWM        0.877342\n",
       "2    QQQ        0.910787\n",
       "3    SPY        0.906657"
      ]
     },
     "execution_count": 7,
     "metadata": {},
     "output_type": "execute_result"
    }
   ],
   "source": [
    "df_grouped_factor.rename(columns={'prod': 'monthly_factor'}, inplace=True)\n",
    "df_grouped_factor"
   ]
  },
  {
   "cell_type": "markdown",
   "metadata": {},
   "source": [
    "And finally, recall that the monthly return is calculated by subtracting one from the monthly growth factor."
   ]
  },
  {
   "cell_type": "code",
   "execution_count": 8,
   "metadata": {},
   "outputs": [
    {
     "data": {
      "text/html": [
       "<div>\n",
       "<style scoped>\n",
       "    .dataframe tbody tr th:only-of-type {\n",
       "        vertical-align: middle;\n",
       "    }\n",
       "\n",
       "    .dataframe tbody tr th {\n",
       "        vertical-align: top;\n",
       "    }\n",
       "\n",
       "    .dataframe thead th {\n",
       "        text-align: right;\n",
       "    }\n",
       "</style>\n",
       "<table border=\"1\" class=\"dataframe\">\n",
       "  <thead>\n",
       "    <tr style=\"text-align: right;\">\n",
       "      <th></th>\n",
       "      <th>symbol</th>\n",
       "      <th>monthly_return</th>\n",
       "    </tr>\n",
       "  </thead>\n",
       "  <tbody>\n",
       "    <tr>\n",
       "      <th>0</th>\n",
       "      <td>DIA</td>\n",
       "      <td>-0.087316</td>\n",
       "    </tr>\n",
       "    <tr>\n",
       "      <th>1</th>\n",
       "      <td>IWM</td>\n",
       "      <td>-0.122658</td>\n",
       "    </tr>\n",
       "    <tr>\n",
       "      <th>2</th>\n",
       "      <td>QQQ</td>\n",
       "      <td>-0.089213</td>\n",
       "    </tr>\n",
       "    <tr>\n",
       "      <th>3</th>\n",
       "      <td>SPY</td>\n",
       "      <td>-0.093343</td>\n",
       "    </tr>\n",
       "  </tbody>\n",
       "</table>\n",
       "</div>"
      ],
      "text/plain": [
       "  symbol  monthly_return\n",
       "0    DIA       -0.087316\n",
       "1    IWM       -0.122658\n",
       "2    QQQ       -0.089213\n",
       "3    SPY       -0.093343"
      ]
     },
     "execution_count": 8,
     "metadata": {},
     "output_type": "execute_result"
    }
   ],
   "source": [
    "df_grouped_factor['monthly_return'] = df_grouped_factor['monthly_factor'] - 1\n",
    "df_grouped_factor[['symbol', 'monthly_return']]"
   ]
  },
  {
   "cell_type": "markdown",
   "metadata": {},
   "source": [
    "## Monthly Volatility for Each `symbol`"
   ]
  },
  {
   "cell_type": "markdown",
   "metadata": {},
   "source": [
    "Now let's calculate the (realized/historical) volatility for each of the ETFs.  Recall that volatility is the standard deviation of the daily returns.  If we were to do this in a brute force manner, we could use `DataFrame` masking to separate out the returns for each of the four ETFs, and then calculate four separate standard deviations.\n",
    "\n",
    "However, once again with the power of `.groupby()` and `.agg()` we can do all of this with a single line of code."
   ]
  },
  {
   "cell_type": "code",
   "execution_count": 9,
   "metadata": {},
   "outputs": [
    {
     "data": {
      "text/html": [
       "<div>\n",
       "<style scoped>\n",
       "    .dataframe tbody tr th:only-of-type {\n",
       "        vertical-align: middle;\n",
       "    }\n",
       "\n",
       "    .dataframe tbody tr th {\n",
       "        vertical-align: top;\n",
       "    }\n",
       "\n",
       "    .dataframe thead th {\n",
       "        text-align: right;\n",
       "    }\n",
       "</style>\n",
       "<table border=\"1\" class=\"dataframe\">\n",
       "  <thead>\n",
       "    <tr style=\"text-align: right;\">\n",
       "      <th></th>\n",
       "      <th>symbol</th>\n",
       "      <th>std</th>\n",
       "    </tr>\n",
       "  </thead>\n",
       "  <tbody>\n",
       "    <tr>\n",
       "      <th>0</th>\n",
       "      <td>DIA</td>\n",
       "      <td>0.019042</td>\n",
       "    </tr>\n",
       "    <tr>\n",
       "      <th>1</th>\n",
       "      <td>IWM</td>\n",
       "      <td>0.019526</td>\n",
       "    </tr>\n",
       "    <tr>\n",
       "      <th>2</th>\n",
       "      <td>QQQ</td>\n",
       "      <td>0.024004</td>\n",
       "    </tr>\n",
       "    <tr>\n",
       "      <th>3</th>\n",
       "      <td>SPY</td>\n",
       "      <td>0.019173</td>\n",
       "    </tr>\n",
       "  </tbody>\n",
       "</table>\n",
       "</div>"
      ],
      "text/plain": [
       "  symbol       std\n",
       "0    DIA  0.019042\n",
       "1    IWM  0.019526\n",
       "2    QQQ  0.024004\n",
       "3    SPY  0.019173"
      ]
     },
     "execution_count": 9,
     "metadata": {},
     "output_type": "execute_result"
    }
   ],
   "source": [
    "df_grouped_vol = \\\n",
    "    df_etf.groupby(['symbol'])['ret'].agg([np.std]).reset_index()\n",
    "\n",
    "df_grouped_vol"
   ]
  },
  {
   "cell_type": "markdown",
   "metadata": {},
   "source": [
    "Again, let's rename our aggregation column to something more descriptive."
   ]
  },
  {
   "cell_type": "code",
   "execution_count": 10,
   "metadata": {},
   "outputs": [],
   "source": [
    "df_grouped_vol.rename(columns={'std':'daily_vol'}, inplace=True)"
   ]
  },
  {
   "cell_type": "markdown",
   "metadata": {},
   "source": [
    "What we have calculated is a daily volatility, but when practitioners talk about volatility, the typically annualize it.  A daily volatility is annualized by multiplying by $\\sqrt{252}$."
   ]
  },
  {
   "cell_type": "code",
   "execution_count": 11,
   "metadata": {},
   "outputs": [
    {
     "data": {
      "text/html": [
       "<div>\n",
       "<style scoped>\n",
       "    .dataframe tbody tr th:only-of-type {\n",
       "        vertical-align: middle;\n",
       "    }\n",
       "\n",
       "    .dataframe tbody tr th {\n",
       "        vertical-align: top;\n",
       "    }\n",
       "\n",
       "    .dataframe thead th {\n",
       "        text-align: right;\n",
       "    }\n",
       "</style>\n",
       "<table border=\"1\" class=\"dataframe\">\n",
       "  <thead>\n",
       "    <tr style=\"text-align: right;\">\n",
       "      <th></th>\n",
       "      <th>symbol</th>\n",
       "      <th>daily_vol</th>\n",
       "      <th>ann_vol</th>\n",
       "    </tr>\n",
       "  </thead>\n",
       "  <tbody>\n",
       "    <tr>\n",
       "      <th>0</th>\n",
       "      <td>DIA</td>\n",
       "      <td>0.019042</td>\n",
       "      <td>0.302287</td>\n",
       "    </tr>\n",
       "    <tr>\n",
       "      <th>1</th>\n",
       "      <td>IWM</td>\n",
       "      <td>0.019526</td>\n",
       "      <td>0.309960</td>\n",
       "    </tr>\n",
       "    <tr>\n",
       "      <th>2</th>\n",
       "      <td>QQQ</td>\n",
       "      <td>0.024004</td>\n",
       "      <td>0.381056</td>\n",
       "    </tr>\n",
       "    <tr>\n",
       "      <th>3</th>\n",
       "      <td>SPY</td>\n",
       "      <td>0.019173</td>\n",
       "      <td>0.304359</td>\n",
       "    </tr>\n",
       "  </tbody>\n",
       "</table>\n",
       "</div>"
      ],
      "text/plain": [
       "  symbol  daily_vol   ann_vol\n",
       "0    DIA   0.019042  0.302287\n",
       "1    IWM   0.019526  0.309960\n",
       "2    QQQ   0.024004  0.381056\n",
       "3    SPY   0.019173  0.304359"
      ]
     },
     "execution_count": 11,
     "metadata": {},
     "output_type": "execute_result"
    }
   ],
   "source": [
    "df_grouped_vol['ann_vol'] = df_grouped_vol['daily_vol'] * np.sqrt(252)\n",
    "df_grouped_vol"
   ]
  },
  {
   "cell_type": "markdown",
   "metadata": {},
   "source": [
    " "
   ]
  },
  {
   "cell_type": "markdown",
   "metadata": {},
   "source": [
    "**Code Challenge** Use `groupby()` and `.agg()` to calculate the average daily return for each of the ETFs."
   ]
  },
  {
   "cell_type": "code",
   "execution_count": null,
   "metadata": {},
   "outputs": [],
   "source": [
    "\n",
    "\n",
    "\n"
   ]
  },
  {
   "cell_type": "markdown",
   "metadata": {},
   "source": [
    "## Related Reading\n",
    "\n",
    "*PDSH* - 3.8 - Aggregation and Grouping\n",
    "\n",
    "*Python for Data Analysis (McKinney)* - Chapter 9 (pp 251-274) Data Aggregation and Grouping Operations\n",
    "\n",
    "*Options, Futures, and Other Derivatives (Hull)* - Chapter 15 (pp 325-329) The Black-Scholes-Merton Model"
   ]
  }
 ],
 "metadata": {
  "kernelspec": {
   "display_name": "Python 3",
   "language": "python",
   "name": "python3"
  },
  "language_info": {
   "codemirror_mode": {
    "name": "ipython",
    "version": 3
   },
   "file_extension": ".py",
   "mimetype": "text/x-python",
   "name": "python",
   "nbconvert_exporter": "python",
   "pygments_lexer": "ipython3",
   "version": "3.6.8"
  }
 },
 "nbformat": 4,
 "nbformat_minor": 2
}
