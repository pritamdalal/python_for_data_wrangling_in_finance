{
 "cells": [
  {
   "cell_type": "markdown",
   "metadata": {},
   "source": [
    "# Tutorial 01 - Jupyter Notebook"
   ]
  },
  {
   "cell_type": "markdown",
   "metadata": {},
   "source": [
    "The purpose of this tutorial is to introduce you to Jupyter Notebook files.  \n",
    "\n",
    "This file - the one you are currently interacting with - is a Jupyter Notebook.  \n",
    "\n",
    "The notebook format allows you to combine words/sentences, computer code, code output, and mathematical notation.  Jupyter Notebooks are the primary environment for performing data analysis using Python.\n",
    "\n",
    "Some people spend a lot of time to creating beautiful and well organized notebooks books that are used for communicating analysis (e.g. *Python Data Science Handbook* is a collection of Jupyter Notebooks).  However, a vast majority of notebooks are used simply as a convenient interative programming environment.\n",
    "\n",
    "For those of you familiar with R, a Jupyter Notebook is similar in functionality to R Markdown notebooks.  In fact, there are lots of notebook formats out there now: Matlab, Google, etc.  This is analogous to the fact that Excel, Google Sheets, and Open Office are all different implementations of spreadsheets.\n",
    "\n",
    "Even though it opens up in your browser, *a Jupyter Notebook does not on live on the internet*, it lives on your computer.  Your web browser is simply being used as a piece of software to view and interact with the notebook.\n",
    "\n",
    "At its core, a notebook is a series of *cells*.  There are two kinds of cells: 1) code cells that contain code; 2) markdown cells which contain markdown or Latex."
   ]
  },
  {
   "cell_type": "markdown",
   "metadata": {},
   "source": [
    "## Code Cells"
   ]
  },
  {
   "cell_type": "markdown",
   "metadata": {},
   "source": [
    "This is a code cell - try typing the code that is commented out and the press **shift + enter**."
   ]
  },
  {
   "cell_type": "code",
   "execution_count": 1,
   "metadata": {},
   "outputs": [],
   "source": [
    "##> from IPython.display import Image\n",
    "##> Image(\"../data/not_ethical.png\")\n",
    "\n",
    "\n"
   ]
  },
  {
   "cell_type": "markdown",
   "metadata": {},
   "source": [
    "In addition to printing images of movie stars, you can do other things in cells, like financial data analysis."
   ]
  },
  {
   "cell_type": "markdown",
   "metadata": {},
   "source": [
    " "
   ]
  },
  {
   "cell_type": "markdown",
   "metadata": {},
   "source": [
    "**Code Challenge:**  Try the following sequences of operations:\n",
    "\n",
    "*Run and Insert Cell*\n",
    "1. From the menu select: **Kernel > Restart Kernel and Clear All Outputs...**\n",
    "2. Rerun the above cell with: **alt + enter**.\n",
    "\n",
    "\n",
    "*Run and Stay At Current Cell*\n",
    "1. From the menu select: **Kernel > Restart Kernel and Clear All Outputs...**\n",
    "2. Rerun the above cell with: **ctrl + enter**.\n",
    "\n",
    "\n",
    "How would you articulate the difference between the various ways of running a code cell:\n",
    "\n",
    "\n",
    "- **shift + enter**\n",
    "- **alt+enter**\n",
    "- **ctrl+enter**\n"
   ]
  },
  {
   "cell_type": "code",
   "execution_count": null,
   "metadata": {},
   "outputs": [],
   "source": [
    "\n"
   ]
  },
  {
   "cell_type": "markdown",
   "metadata": {},
   "source": [
    "## Markdown Cells"
   ]
  },
  {
   "cell_type": "markdown",
   "metadata": {},
   "source": [
    "Markdown cells allow you to place rich text into your Jupyter Notebook."
   ]
  },
  {
   "cell_type": "code",
   "execution_count": 2,
   "metadata": {},
   "outputs": [],
   "source": [
    "##> The cell below is a markdown cell.\n",
    "##> Try typing the following latex code in there:\n",
    "\n",
    "##> ## Section Heading\n",
    "\n",
    "##> This is some text for my section."
   ]
  },
  {
   "cell_type": "markdown",
   "metadata": {},
   "source": []
  },
  {
   "cell_type": "markdown",
   "metadata": {},
   "source": [
    "## Edit Mode vs Command Mode"
   ]
  },
  {
   "cell_type": "markdown",
   "metadata": {},
   "source": [
    "There are two modes in a notebook: 1) `edit` mode; 2) `command` mode.  \n",
    "\n",
    "In `edit` mode you are *inside* a cell and you can edit the contents of the cell.  \n",
    "\n",
    "In `command` mode, you are *outside* the cells and you can navigate between them."
   ]
  },
  {
   "cell_type": "markdown",
   "metadata": {},
   "source": [
    "## Keyboard Shortcuts"
   ]
  },
  {
   "cell_type": "markdown",
   "metadata": {},
   "source": [
    "Here are some of my favorite keyboard shortcuts:\n",
    "\n",
    "edit mode: **enter**\n",
    "\n",
    "cmd mode: **esc**\n",
    "\n",
    "insert cell above: **a**\n",
    "\n",
    "insert cell below: **b**\n",
    "\n",
    "code cell: **y**\n",
    "\n",
    "markup cell: **m**\n",
    "\n",
    "execute cell: **shift + enter**\n",
    "\n",
    "navigate up: **k**\n",
    "\n",
    "navigate down: **j**\n",
    "\n",
    "delete cell: **d, d** (press **d** twice)"
   ]
  }
 ],
 "metadata": {
  "kernelspec": {
   "display_name": "Python 3",
   "language": "python",
   "name": "python3"
  },
  "language_info": {
   "codemirror_mode": {
    "name": "ipython",
    "version": 3
   },
   "file_extension": ".py",
   "mimetype": "text/x-python",
   "name": "python",
   "nbconvert_exporter": "python",
   "pygments_lexer": "ipython3",
   "version": "3.6.8"
  }
 },
 "nbformat": 4,
 "nbformat_minor": 2
}
