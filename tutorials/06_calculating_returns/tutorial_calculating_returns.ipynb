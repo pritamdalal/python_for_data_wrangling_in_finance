{
 "cells": [
  {
   "cell_type": "markdown",
   "metadata": {},
   "source": [
    "# Tutorial 06 - Calculating Returns"
   ]
  },
  {
   "cell_type": "markdown",
   "metadata": {},
   "source": [
    "In this tutorial we start to perform some finance related calculations.  \n",
    "\n",
    "In particular, we will calculate daily returns for SPY during the month of December 2018.\n",
    "\n",
    "In order to do this we will first need to discuss two preliminary topics:\n",
    "\n",
    "1. conditional statemments: `if`-`else`\n",
    "\n",
    "2. iterating with `for` loops.\n",
    "\n",
    "After we calculate returns with a `for` loop, we will show how to perform them in a *vectorized* manner, which is considered best practice in data analysis."
   ]
  },
  {
   "cell_type": "markdown",
   "metadata": {},
   "source": [
    "## Loading Packages"
   ]
  },
  {
   "cell_type": "markdown",
   "metadata": {},
   "source": [
    "Let's begin by loading the packages we will need."
   ]
  },
  {
   "cell_type": "code",
   "execution_count": 1,
   "metadata": {},
   "outputs": [],
   "source": [
    "##> import numpy as np\n",
    "##> import pandas as pd\n",
    "\n",
    "\n"
   ]
  },
  {
   "cell_type": "markdown",
   "metadata": {},
   "source": [
    "## Conditional Statements: `if` - `else`"
   ]
  },
  {
   "cell_type": "markdown",
   "metadata": {},
   "source": [
    "Conditional statements are ubiquitous in programming and data analysis.  \n",
    "\n",
    "\n",
    "Here is a toy example to demonstrate the syntax of `if` statements in python:"
   ]
  },
  {
   "cell_type": "code",
   "execution_count": 2,
   "metadata": {},
   "outputs": [],
   "source": [
    "##> payoff = np.nan\n",
    "##> strike = 50\n",
    "##> upx = 45\n",
    "##> if (upx - strike) > 0:\n",
    "##>     payoff = upx - strike\n",
    "##> else:\n",
    "##>     payoff = 0\n",
    "##>     \n",
    "##> print(payoff)\n",
    "\n",
    "\n"
   ]
  },
  {
   "cell_type": "markdown",
   "metadata": {},
   "source": [
    " "
   ]
  },
  {
   "cell_type": "markdown",
   "metadata": {},
   "source": [
    "**Code Challenge:** Try modifying `upx` above and below `strike` and rerunning the code."
   ]
  },
  {
   "cell_type": "code",
   "execution_count": null,
   "metadata": {},
   "outputs": [],
   "source": [
    "\n",
    "\n",
    "\n"
   ]
  },
  {
   "cell_type": "markdown",
   "metadata": {},
   "source": [
    " "
   ]
  },
  {
   "cell_type": "markdown",
   "metadata": {},
   "source": [
    "**Question:** The above code represents the payoff of a vanilla option?  Is it a put or call?"
   ]
  },
  {
   "cell_type": "markdown",
   "metadata": {},
   "source": [
    "## Reading-In Data"
   ]
  },
  {
   "cell_type": "markdown",
   "metadata": {},
   "source": [
    "In order to discuss `for` loops we will need a `DataFrame` to play with; let's read in our data set of December 2018 SPY prices."
   ]
  },
  {
   "cell_type": "code",
   "execution_count": 3,
   "metadata": {},
   "outputs": [],
   "source": [
    "##> df_spy = pd.read_csv('../data/spy_dec_2018.csv')\n",
    "##> df_spy.head()\n",
    "\n",
    "\n"
   ]
  },
  {
   "cell_type": "markdown",
   "metadata": {},
   "source": [
    "## Iteration: `for` loops"
   ]
  },
  {
   "cell_type": "markdown",
   "metadata": {},
   "source": [
    "A `for` loop allows you to iterate through a block of code a fixed number of times."
   ]
  },
  {
   "cell_type": "markdown",
   "metadata": {},
   "source": [
    "#### iterating through a list"
   ]
  },
  {
   "cell_type": "markdown",
   "metadata": {},
   "source": [
    "Here is a toy example to demonstrate how to use a for-loop to iterate through the contents of a `list`:"
   ]
  },
  {
   "cell_type": "code",
   "execution_count": 4,
   "metadata": {},
   "outputs": [],
   "source": [
    "##> L = [np.pi, True, 'SPY']\n",
    "##> for ix in L:\n",
    "##>     print(ix)\n",
    "\n",
    "\n"
   ]
  },
  {
   "cell_type": "markdown",
   "metadata": {},
   "source": [
    "#### iterating over a set of integers with `range()`"
   ]
  },
  {
   "cell_type": "markdown",
   "metadata": {},
   "source": [
    "A very common pattern is to iterate through a consecutive set positive integers.  \n",
    "\n",
    "In Python, this is usually accomplished by using a `range` object.  A `range` object is a built-in Python type that creates a sequence of integers on the fly, as you need them. \n",
    "\n",
    "\n",
    "The benefit of using a `range` vs a `list` or `tuple` is that you don't create all the integers at once; this is helpful because if the set of integers is very large, it can take up a lot of memory."
   ]
  },
  {
   "cell_type": "code",
   "execution_count": 5,
   "metadata": {},
   "outputs": [],
   "source": [
    "##> for ix in range(10):\n",
    "##>     print(ix)\n",
    "\n",
    "\n"
   ]
  },
  {
   "cell_type": "markdown",
   "metadata": {},
   "source": [
    "#### iterating through the rows of a `DataFrame`"
   ]
  },
  {
   "cell_type": "markdown",
   "metadata": {},
   "source": [
    "A pattern that is often utilized in financial data analysis is iterating through a `DataFrame`."
   ]
  },
  {
   "cell_type": "code",
   "execution_count": 6,
   "metadata": {},
   "outputs": [],
   "source": [
    "##> for ix in df_spy.index:\n",
    "##>     print(df_spy.at[ix, 'date'])\n",
    "\n",
    "\n"
   ]
  },
  {
   "cell_type": "markdown",
   "metadata": {},
   "source": [
    "The effect of the above code was to iterate through `df_spy` row by row, and to print the date column for each row.  \n",
    "\n",
    "Notice that we use the indexer attribute `.at[]` - it is similar to `.loc[]` but `.at[]` can only grab a single row at a time."
   ]
  },
  {
   "cell_type": "markdown",
   "metadata": {},
   "source": [
    "## Calculating Returns - `for` loop"
   ]
  },
  {
   "cell_type": "markdown",
   "metadata": {},
   "source": [
    "We can now put together our tools of conditional exexcution and iteration to calculuate the daily returns of SPY during the month of December 2018.\n",
    "\n",
    "Our code will encapsulate the following two principles about returns:\n",
    "\n",
    "1. On the first day in our data set, the return is undefined and will be set to `NaN`.\n",
    "\n",
    "2. On all subsequent days the simple return is defined as `(curr_price / prev_price) - 1`. "
   ]
  },
  {
   "cell_type": "markdown",
   "metadata": {},
   "source": [
    "Let's begin with a couple of preliminary steps. \n",
    "\n",
    "First, we will sort the `DataFrame` by the `date` column because our algorithm for calculating returns requires the prices to be in the correct order."
   ]
  },
  {
   "cell_type": "code",
   "execution_count": 7,
   "metadata": {},
   "outputs": [],
   "source": [
    "##> df_spy.sort_values('date', axis = 0, ascending = True, inplace = True)\n",
    "##> df_spy\n",
    "\n",
    "\n"
   ]
  },
  {
   "cell_type": "markdown",
   "metadata": {},
   "source": [
    "Second, let's add a `return` column to `df_spy` and initialize it with `NaN` values.  `NaN` values represent missing numerical values. "
   ]
  },
  {
   "cell_type": "code",
   "execution_count": 8,
   "metadata": {},
   "outputs": [],
   "source": [
    "##> df_spy['return'] = np.nan\n",
    "##> df_spy\n",
    "\n",
    "\n"
   ]
  },
  {
   "cell_type": "markdown",
   "metadata": {},
   "source": [
    "Now we are ready to complete the task of calculating the daily returns.\n",
    "\n",
    "The following code iterates through `df_spy` and performs different calculation depending on whether it's the first date in the dataset."
   ]
  },
  {
   "cell_type": "code",
   "execution_count": 9,
   "metadata": {},
   "outputs": [],
   "source": [
    "##> for ix in df_spy.index:\n",
    "##>     if ix > 0:\n",
    "##>         # grabbing prices from data frame\n",
    "##>         curr_price = df_spy.at[ix, 'close']\n",
    "##>         prev_price = df_spy.at[ix - 1, 'close']\n",
    "##>         df_spy.at[ix, 'return'] = (curr_price / prev_price) - 1 # principle 2\n",
    "##>     else:\n",
    "##>         # for the first price, just set return to NaN\n",
    "##>         df_spy.at[ix, 'return'] = np.nan # principle 1\n",
    "##>         \n",
    "##> df_spy\n",
    "\n",
    "\n"
   ]
  },
  {
   "cell_type": "markdown",
   "metadata": {},
   "source": [
    "**Coding Challenge:** Calculate the one month return over the entirety of December 2018. (Bonus points if you can do it with using division; hint - `np.prod()` caclulates the products of an array of numbers.) "
   ]
  },
  {
   "cell_type": "code",
   "execution_count": null,
   "metadata": {},
   "outputs": [],
   "source": [
    "\n",
    "\n"
   ]
  },
  {
   "cell_type": "markdown",
   "metadata": {},
   "source": [
    "## Calculating Returns - Vectorized"
   ]
  },
  {
   "cell_type": "markdown",
   "metadata": {},
   "source": [
    "For a variety of reasons, writing `for` loops is often not considered best practice.\n",
    "\n",
    "That being said, don't confuse this to mean that you should *never* write a `for` loop.  In many situations, there isn't any harm in writing a `for`.  And in some situations, a `for` loop is necessary, or is the best way to keep careful track of what exactly you are doing.  I empower you to write `for` loops if it works.\n",
    "\n",
    "However, our returns calculation is a good example of a situation in which there is a better alternative to writing a `for` loop. In this final section of the tutorial we will show a more Pythonic way of doing this via *vectorized* code.\n",
    "\n",
    "Let's begin by seperating out the `close` column from `df_spy`, calling it `ser_close`.  Recall that `ser_close` is a `pandas.Series` object.  \n",
    "\n",
    "Next we are going to apply the `.shift(1)` method to it, which has the effect of *pushing* down the elements of the `Series`."
   ]
  },
  {
   "cell_type": "code",
   "execution_count": 10,
   "metadata": {},
   "outputs": [],
   "source": [
    "##> ser_close = df_spy['close']\n",
    "##> print(ser_close.head())\n",
    "##> print(ser_close.shift(1).head())\n",
    "\n",
    "\n"
   ]
  },
  {
   "cell_type": "markdown",
   "metadata": {},
   "source": [
    " "
   ]
  },
  {
   "cell_type": "markdown",
   "metadata": {},
   "source": [
    "Using `ser_close.shift(1)` we can calculate the returns in a single line."
   ]
  },
  {
   "cell_type": "code",
   "execution_count": 11,
   "metadata": {},
   "outputs": [],
   "source": [
    "##> df_spy['return_vec'] = (ser_close / ser_close.shift(1)) - 1\n",
    "##> df_spy\n",
    "\n",
    "\n"
   ]
  },
  {
   "cell_type": "markdown",
   "metadata": {},
   "source": [
    " "
   ]
  },
  {
   "cell_type": "markdown",
   "metadata": {},
   "source": [
    "**Code Challenge:** Add a column called `ret_adj` to `df_spy` that contains the returns using the `adjusted` prices.  Use a vectorized approach. "
   ]
  },
  {
   "cell_type": "code",
   "execution_count": null,
   "metadata": {},
   "outputs": [],
   "source": [
    "\n",
    "\n",
    "\n"
   ]
  },
  {
   "cell_type": "markdown",
   "metadata": {},
   "source": [
    " "
   ]
  },
  {
   "cell_type": "markdown",
   "metadata": {},
   "source": [
    "**Discussion:** Do you like vectorized approach more or less than the `for` loop above (this is an opinion question so there is no right or wrong answer)."
   ]
  },
  {
   "cell_type": "markdown",
   "metadata": {},
   "source": [
    "Final remarks on `for` loops:  There are a couple of considerations to keep in mind when choosing whether to use a `for` loop or not.\n",
    "\n",
    "1. Is there a big difference in performance one way or the other?\n",
    "2. Is one method easier for me to implement (given my current state of knowledge)?\n",
    "3. Does one help me write code that's more organized or readable?\n",
    "\n",
    "If performance is not a concern, and it very often is not, then do whatever makes your life easier (which is essentially a combination of #2 and #3)"
   ]
  },
  {
   "cell_type": "markdown",
   "metadata": {},
   "source": [
    "## Related Reading"
   ]
  },
  {
   "cell_type": "markdown",
   "metadata": {},
   "source": [
    "*WTP* - 8 - Control Flow\n",
    "\n",
    "*WTP* - 11 - Iterators\n",
    "\n",
    "*PDSH* - 2.5 - Computation on Arrays: Broadcasting\n",
    "\n",
    "*RFF* - 5.4 - Returns"
   ]
  }
 ],
 "metadata": {
  "kernelspec": {
   "display_name": "Python 3",
   "language": "python",
   "name": "python3"
  },
  "language_info": {
   "codemirror_mode": {
    "name": "ipython",
    "version": 3
   },
   "file_extension": ".py",
   "mimetype": "text/x-python",
   "name": "python",
   "nbconvert_exporter": "python",
   "pygments_lexer": "ipython3",
   "version": "3.6.8"
  }
 },
 "nbformat": 4,
 "nbformat_minor": 2
}
