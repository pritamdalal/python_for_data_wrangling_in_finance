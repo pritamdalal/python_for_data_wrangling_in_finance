{
 "cells": [
  {
   "cell_type": "markdown",
   "metadata": {},
   "source": [
    "# Tutorial 04 - `DataFrame` Indexing and Slicing"
   ]
  },
  {
   "cell_type": "markdown",
   "metadata": {},
   "source": [
    "While performing data analysis, you often have the need to access specific rows of a `DataFrame`. This action is referred to as *indexing*.  If you are accessing a sequence of contiguous rows, the action is sometimes called *slicing*.\n",
    "\n",
    "The purpose of this tutorial is to survey various methods for indexing and slicing in `pandas`."
   ]
  },
  {
   "cell_type": "markdown",
   "metadata": {},
   "source": [
    "## Importing Packages"
   ]
  },
  {
   "cell_type": "markdown",
   "metadata": {},
   "source": [
    "Let's begin by importing the packages that we will be using in this tutorial."
   ]
  },
  {
   "cell_type": "code",
   "execution_count": 1,
   "metadata": {},
   "outputs": [],
   "source": [
    "import numpy as np\n",
    "import pandas as pd"
   ]
  },
  {
   "cell_type": "markdown",
   "metadata": {},
   "source": [
    "## Reading-In Sample Data"
   ]
  },
  {
   "cell_type": "markdown",
   "metadata": {},
   "source": [
    "Next, we'll use the `read_csv()` function from `pandas` to read-in some sample data to work with.  We'll again use the SPY prices from December 2018."
   ]
  },
  {
   "cell_type": "code",
   "execution_count": 2,
   "metadata": {},
   "outputs": [
    {
     "data": {
      "text/html": [
       "<div>\n",
       "<style scoped>\n",
       "    .dataframe tbody tr th:only-of-type {\n",
       "        vertical-align: middle;\n",
       "    }\n",
       "\n",
       "    .dataframe tbody tr th {\n",
       "        vertical-align: top;\n",
       "    }\n",
       "\n",
       "    .dataframe thead th {\n",
       "        text-align: right;\n",
       "    }\n",
       "</style>\n",
       "<table border=\"1\" class=\"dataframe\">\n",
       "  <thead>\n",
       "    <tr style=\"text-align: right;\">\n",
       "      <th></th>\n",
       "      <th>date</th>\n",
       "      <th>open</th>\n",
       "      <th>high</th>\n",
       "      <th>low</th>\n",
       "      <th>close</th>\n",
       "      <th>volume</th>\n",
       "      <th>adjusted</th>\n",
       "    </tr>\n",
       "  </thead>\n",
       "  <tbody>\n",
       "    <tr>\n",
       "      <th>0</th>\n",
       "      <td>2018-11-30</td>\n",
       "      <td>273.809998</td>\n",
       "      <td>276.279999</td>\n",
       "      <td>273.450012</td>\n",
       "      <td>275.649994</td>\n",
       "      <td>98204200</td>\n",
       "      <td>271.527222</td>\n",
       "    </tr>\n",
       "    <tr>\n",
       "      <th>1</th>\n",
       "      <td>2018-12-03</td>\n",
       "      <td>280.279999</td>\n",
       "      <td>280.399994</td>\n",
       "      <td>277.510010</td>\n",
       "      <td>279.299988</td>\n",
       "      <td>103176300</td>\n",
       "      <td>275.122589</td>\n",
       "    </tr>\n",
       "    <tr>\n",
       "      <th>2</th>\n",
       "      <td>2018-12-04</td>\n",
       "      <td>278.369995</td>\n",
       "      <td>278.850006</td>\n",
       "      <td>269.899994</td>\n",
       "      <td>270.250000</td>\n",
       "      <td>177986000</td>\n",
       "      <td>266.207977</td>\n",
       "    </tr>\n",
       "    <tr>\n",
       "      <th>3</th>\n",
       "      <td>2018-12-06</td>\n",
       "      <td>265.920013</td>\n",
       "      <td>269.970001</td>\n",
       "      <td>262.440002</td>\n",
       "      <td>269.839996</td>\n",
       "      <td>204185400</td>\n",
       "      <td>265.804108</td>\n",
       "    </tr>\n",
       "    <tr>\n",
       "      <th>4</th>\n",
       "      <td>2018-12-07</td>\n",
       "      <td>269.459991</td>\n",
       "      <td>271.220001</td>\n",
       "      <td>262.630005</td>\n",
       "      <td>263.570007</td>\n",
       "      <td>161018900</td>\n",
       "      <td>259.627899</td>\n",
       "    </tr>\n",
       "    <tr>\n",
       "      <th>5</th>\n",
       "      <td>2018-12-10</td>\n",
       "      <td>263.369995</td>\n",
       "      <td>265.160004</td>\n",
       "      <td>258.619995</td>\n",
       "      <td>264.070007</td>\n",
       "      <td>151445900</td>\n",
       "      <td>260.120422</td>\n",
       "    </tr>\n",
       "    <tr>\n",
       "      <th>6</th>\n",
       "      <td>2018-12-11</td>\n",
       "      <td>267.660004</td>\n",
       "      <td>267.869995</td>\n",
       "      <td>262.480011</td>\n",
       "      <td>264.130005</td>\n",
       "      <td>121504400</td>\n",
       "      <td>260.179504</td>\n",
       "    </tr>\n",
       "    <tr>\n",
       "      <th>7</th>\n",
       "      <td>2018-12-12</td>\n",
       "      <td>267.470001</td>\n",
       "      <td>269.000000</td>\n",
       "      <td>265.369995</td>\n",
       "      <td>265.459991</td>\n",
       "      <td>97976700</td>\n",
       "      <td>261.489624</td>\n",
       "    </tr>\n",
       "    <tr>\n",
       "      <th>8</th>\n",
       "      <td>2018-12-13</td>\n",
       "      <td>266.519989</td>\n",
       "      <td>267.489990</td>\n",
       "      <td>264.119995</td>\n",
       "      <td>265.369995</td>\n",
       "      <td>96662700</td>\n",
       "      <td>261.400940</td>\n",
       "    </tr>\n",
       "    <tr>\n",
       "      <th>9</th>\n",
       "      <td>2018-12-14</td>\n",
       "      <td>262.959991</td>\n",
       "      <td>264.029999</td>\n",
       "      <td>259.850006</td>\n",
       "      <td>260.470001</td>\n",
       "      <td>116961100</td>\n",
       "      <td>256.574249</td>\n",
       "    </tr>\n",
       "    <tr>\n",
       "      <th>10</th>\n",
       "      <td>2018-12-17</td>\n",
       "      <td>259.399994</td>\n",
       "      <td>260.649994</td>\n",
       "      <td>253.529999</td>\n",
       "      <td>255.360001</td>\n",
       "      <td>165492300</td>\n",
       "      <td>251.540680</td>\n",
       "    </tr>\n",
       "    <tr>\n",
       "      <th>11</th>\n",
       "      <td>2018-12-18</td>\n",
       "      <td>257.200012</td>\n",
       "      <td>257.950012</td>\n",
       "      <td>253.279999</td>\n",
       "      <td>255.080002</td>\n",
       "      <td>134515100</td>\n",
       "      <td>251.264862</td>\n",
       "    </tr>\n",
       "    <tr>\n",
       "      <th>12</th>\n",
       "      <td>2018-12-19</td>\n",
       "      <td>255.169998</td>\n",
       "      <td>259.399994</td>\n",
       "      <td>249.350006</td>\n",
       "      <td>251.259995</td>\n",
       "      <td>214992800</td>\n",
       "      <td>247.501999</td>\n",
       "    </tr>\n",
       "    <tr>\n",
       "      <th>13</th>\n",
       "      <td>2018-12-20</td>\n",
       "      <td>249.860001</td>\n",
       "      <td>251.619995</td>\n",
       "      <td>244.649994</td>\n",
       "      <td>247.169998</td>\n",
       "      <td>252053400</td>\n",
       "      <td>243.473175</td>\n",
       "    </tr>\n",
       "    <tr>\n",
       "      <th>14</th>\n",
       "      <td>2018-12-21</td>\n",
       "      <td>246.740005</td>\n",
       "      <td>249.710007</td>\n",
       "      <td>239.979996</td>\n",
       "      <td>240.699997</td>\n",
       "      <td>255345600</td>\n",
       "      <td>238.484512</td>\n",
       "    </tr>\n",
       "    <tr>\n",
       "      <th>15</th>\n",
       "      <td>2018-12-24</td>\n",
       "      <td>239.039993</td>\n",
       "      <td>240.839996</td>\n",
       "      <td>234.270004</td>\n",
       "      <td>234.339996</td>\n",
       "      <td>147311600</td>\n",
       "      <td>232.183060</td>\n",
       "    </tr>\n",
       "    <tr>\n",
       "      <th>16</th>\n",
       "      <td>2018-12-26</td>\n",
       "      <td>235.970001</td>\n",
       "      <td>246.179993</td>\n",
       "      <td>233.759995</td>\n",
       "      <td>246.179993</td>\n",
       "      <td>218485400</td>\n",
       "      <td>243.914063</td>\n",
       "    </tr>\n",
       "    <tr>\n",
       "      <th>17</th>\n",
       "      <td>2018-12-27</td>\n",
       "      <td>242.570007</td>\n",
       "      <td>248.289993</td>\n",
       "      <td>238.960007</td>\n",
       "      <td>248.070007</td>\n",
       "      <td>186267300</td>\n",
       "      <td>245.786697</td>\n",
       "    </tr>\n",
       "    <tr>\n",
       "      <th>18</th>\n",
       "      <td>2018-12-28</td>\n",
       "      <td>249.580002</td>\n",
       "      <td>251.399994</td>\n",
       "      <td>246.449997</td>\n",
       "      <td>247.750000</td>\n",
       "      <td>153100200</td>\n",
       "      <td>245.469635</td>\n",
       "    </tr>\n",
       "    <tr>\n",
       "      <th>19</th>\n",
       "      <td>2018-12-31</td>\n",
       "      <td>249.559998</td>\n",
       "      <td>250.190002</td>\n",
       "      <td>247.470001</td>\n",
       "      <td>249.919998</td>\n",
       "      <td>144299400</td>\n",
       "      <td>247.619644</td>\n",
       "    </tr>\n",
       "  </tbody>\n",
       "</table>\n",
       "</div>"
      ],
      "text/plain": [
       "          date        open        high         low       close     volume  \\\n",
       "0   2018-11-30  273.809998  276.279999  273.450012  275.649994   98204200   \n",
       "1   2018-12-03  280.279999  280.399994  277.510010  279.299988  103176300   \n",
       "2   2018-12-04  278.369995  278.850006  269.899994  270.250000  177986000   \n",
       "3   2018-12-06  265.920013  269.970001  262.440002  269.839996  204185400   \n",
       "4   2018-12-07  269.459991  271.220001  262.630005  263.570007  161018900   \n",
       "5   2018-12-10  263.369995  265.160004  258.619995  264.070007  151445900   \n",
       "6   2018-12-11  267.660004  267.869995  262.480011  264.130005  121504400   \n",
       "7   2018-12-12  267.470001  269.000000  265.369995  265.459991   97976700   \n",
       "8   2018-12-13  266.519989  267.489990  264.119995  265.369995   96662700   \n",
       "9   2018-12-14  262.959991  264.029999  259.850006  260.470001  116961100   \n",
       "10  2018-12-17  259.399994  260.649994  253.529999  255.360001  165492300   \n",
       "11  2018-12-18  257.200012  257.950012  253.279999  255.080002  134515100   \n",
       "12  2018-12-19  255.169998  259.399994  249.350006  251.259995  214992800   \n",
       "13  2018-12-20  249.860001  251.619995  244.649994  247.169998  252053400   \n",
       "14  2018-12-21  246.740005  249.710007  239.979996  240.699997  255345600   \n",
       "15  2018-12-24  239.039993  240.839996  234.270004  234.339996  147311600   \n",
       "16  2018-12-26  235.970001  246.179993  233.759995  246.179993  218485400   \n",
       "17  2018-12-27  242.570007  248.289993  238.960007  248.070007  186267300   \n",
       "18  2018-12-28  249.580002  251.399994  246.449997  247.750000  153100200   \n",
       "19  2018-12-31  249.559998  250.190002  247.470001  249.919998  144299400   \n",
       "\n",
       "      adjusted  \n",
       "0   271.527222  \n",
       "1   275.122589  \n",
       "2   266.207977  \n",
       "3   265.804108  \n",
       "4   259.627899  \n",
       "5   260.120422  \n",
       "6   260.179504  \n",
       "7   261.489624  \n",
       "8   261.400940  \n",
       "9   256.574249  \n",
       "10  251.540680  \n",
       "11  251.264862  \n",
       "12  247.501999  \n",
       "13  243.473175  \n",
       "14  238.484512  \n",
       "15  232.183060  \n",
       "16  243.914063  \n",
       "17  245.786697  \n",
       "18  245.469635  \n",
       "19  247.619644  "
      ]
     },
     "execution_count": 2,
     "metadata": {},
     "output_type": "execute_result"
    }
   ],
   "source": [
    "df_spy = pd.read_csv(\"../data/spy_dec_2018.csv\")\n",
    "df_spy"
   ]
  },
  {
   "cell_type": "markdown",
   "metadata": {},
   "source": [
    "It is often useful to look at the data type of each of the columns of a new data set.\n",
    "\n",
    "That is what the following line of code accomplishes:"
   ]
  },
  {
   "cell_type": "code",
   "execution_count": 3,
   "metadata": {},
   "outputs": [
    {
     "data": {
      "text/plain": [
       "date         object\n",
       "open        float64\n",
       "high        float64\n",
       "low         float64\n",
       "close       float64\n",
       "volume        int64\n",
       "adjusted    float64\n",
       "dtype: object"
      ]
     },
     "execution_count": 3,
     "metadata": {},
     "output_type": "execute_result"
    }
   ],
   "source": [
    "df_spy.dtypes"
   ]
  },
  {
   "cell_type": "markdown",
   "metadata": {},
   "source": [
    " "
   ]
  },
  {
   "cell_type": "markdown",
   "metadata": {},
   "source": [
    "Some observations about the `date` column:\n",
    "- Notice that the `date` column has a `dtype` of `object`.  \n",
    "\n",
    "- This means that `pandas` is interpreting it as a text column, rather than a date.  \n",
    "\n",
    "- Formatting problems with dates are common in data analysis. \n",
    "\n",
    "- We'll address this issue a later in the tutorial."
   ]
  },
  {
   "cell_type": "markdown",
   "metadata": {},
   "source": [
    "## Simple Row Slicing"
   ]
  },
  {
   "cell_type": "markdown",
   "metadata": {},
   "source": [
    "The simplest way to slice a `DataFrame` is to use square brackets: `[]`.  The syntax `df[i:j]` will generate a `DataFrame` who's first row is the `i`th row of `df` and who's last row is the `(j-1)`th row of `df`.\n",
    "\n",
    "Let's demonstrate this with a couple of examples:"
   ]
  },
  {
   "cell_type": "markdown",
   "metadata": {},
   "source": [
    "Starting from the 0th row, and ending with the 0th row:"
   ]
  },
  {
   "cell_type": "code",
   "execution_count": 4,
   "metadata": {},
   "outputs": [
    {
     "data": {
      "text/html": [
       "<div>\n",
       "<style scoped>\n",
       "    .dataframe tbody tr th:only-of-type {\n",
       "        vertical-align: middle;\n",
       "    }\n",
       "\n",
       "    .dataframe tbody tr th {\n",
       "        vertical-align: top;\n",
       "    }\n",
       "\n",
       "    .dataframe thead th {\n",
       "        text-align: right;\n",
       "    }\n",
       "</style>\n",
       "<table border=\"1\" class=\"dataframe\">\n",
       "  <thead>\n",
       "    <tr style=\"text-align: right;\">\n",
       "      <th></th>\n",
       "      <th>date</th>\n",
       "      <th>open</th>\n",
       "      <th>high</th>\n",
       "      <th>low</th>\n",
       "      <th>close</th>\n",
       "      <th>volume</th>\n",
       "      <th>adjusted</th>\n",
       "    </tr>\n",
       "  </thead>\n",
       "  <tbody>\n",
       "    <tr>\n",
       "      <th>0</th>\n",
       "      <td>2018-11-30</td>\n",
       "      <td>273.809998</td>\n",
       "      <td>276.279999</td>\n",
       "      <td>273.450012</td>\n",
       "      <td>275.649994</td>\n",
       "      <td>98204200</td>\n",
       "      <td>271.527222</td>\n",
       "    </tr>\n",
       "  </tbody>\n",
       "</table>\n",
       "</div>"
      ],
      "text/plain": [
       "         date        open        high         low       close    volume  \\\n",
       "0  2018-11-30  273.809998  276.279999  273.450012  275.649994  98204200   \n",
       "\n",
       "     adjusted  \n",
       "0  271.527222  "
      ]
     },
     "execution_count": 4,
     "metadata": {},
     "output_type": "execute_result"
    }
   ],
   "source": [
    "df_spy[0:1]"
   ]
  },
  {
   "cell_type": "markdown",
   "metadata": {},
   "source": [
    "Starting with the 3rd row, and ending with the 6th row:"
   ]
  },
  {
   "cell_type": "code",
   "execution_count": 5,
   "metadata": {},
   "outputs": [
    {
     "data": {
      "text/html": [
       "<div>\n",
       "<style scoped>\n",
       "    .dataframe tbody tr th:only-of-type {\n",
       "        vertical-align: middle;\n",
       "    }\n",
       "\n",
       "    .dataframe tbody tr th {\n",
       "        vertical-align: top;\n",
       "    }\n",
       "\n",
       "    .dataframe thead th {\n",
       "        text-align: right;\n",
       "    }\n",
       "</style>\n",
       "<table border=\"1\" class=\"dataframe\">\n",
       "  <thead>\n",
       "    <tr style=\"text-align: right;\">\n",
       "      <th></th>\n",
       "      <th>date</th>\n",
       "      <th>open</th>\n",
       "      <th>high</th>\n",
       "      <th>low</th>\n",
       "      <th>close</th>\n",
       "      <th>volume</th>\n",
       "      <th>adjusted</th>\n",
       "    </tr>\n",
       "  </thead>\n",
       "  <tbody>\n",
       "    <tr>\n",
       "      <th>3</th>\n",
       "      <td>2018-12-06</td>\n",
       "      <td>265.920013</td>\n",
       "      <td>269.970001</td>\n",
       "      <td>262.440002</td>\n",
       "      <td>269.839996</td>\n",
       "      <td>204185400</td>\n",
       "      <td>265.804108</td>\n",
       "    </tr>\n",
       "    <tr>\n",
       "      <th>4</th>\n",
       "      <td>2018-12-07</td>\n",
       "      <td>269.459991</td>\n",
       "      <td>271.220001</td>\n",
       "      <td>262.630005</td>\n",
       "      <td>263.570007</td>\n",
       "      <td>161018900</td>\n",
       "      <td>259.627899</td>\n",
       "    </tr>\n",
       "    <tr>\n",
       "      <th>5</th>\n",
       "      <td>2018-12-10</td>\n",
       "      <td>263.369995</td>\n",
       "      <td>265.160004</td>\n",
       "      <td>258.619995</td>\n",
       "      <td>264.070007</td>\n",
       "      <td>151445900</td>\n",
       "      <td>260.120422</td>\n",
       "    </tr>\n",
       "    <tr>\n",
       "      <th>6</th>\n",
       "      <td>2018-12-11</td>\n",
       "      <td>267.660004</td>\n",
       "      <td>267.869995</td>\n",
       "      <td>262.480011</td>\n",
       "      <td>264.130005</td>\n",
       "      <td>121504400</td>\n",
       "      <td>260.179504</td>\n",
       "    </tr>\n",
       "  </tbody>\n",
       "</table>\n",
       "</div>"
      ],
      "text/plain": [
       "         date        open        high         low       close     volume  \\\n",
       "3  2018-12-06  265.920013  269.970001  262.440002  269.839996  204185400   \n",
       "4  2018-12-07  269.459991  271.220001  262.630005  263.570007  161018900   \n",
       "5  2018-12-10  263.369995  265.160004  258.619995  264.070007  151445900   \n",
       "6  2018-12-11  267.660004  267.869995  262.480011  264.130005  121504400   \n",
       "\n",
       "     adjusted  \n",
       "3  265.804108  \n",
       "4  259.627899  \n",
       "5  260.120422  \n",
       "6  260.179504  "
      ]
     },
     "execution_count": 5,
     "metadata": {},
     "output_type": "execute_result"
    }
   ],
   "source": [
    "df_spy[3:7]"
   ]
  },
  {
   "cell_type": "markdown",
   "metadata": {},
   "source": [
    "The full `DataFrame`:"
   ]
  },
  {
   "cell_type": "code",
   "execution_count": 6,
   "metadata": {},
   "outputs": [
    {
     "data": {
      "text/html": [
       "<div>\n",
       "<style scoped>\n",
       "    .dataframe tbody tr th:only-of-type {\n",
       "        vertical-align: middle;\n",
       "    }\n",
       "\n",
       "    .dataframe tbody tr th {\n",
       "        vertical-align: top;\n",
       "    }\n",
       "\n",
       "    .dataframe thead th {\n",
       "        text-align: right;\n",
       "    }\n",
       "</style>\n",
       "<table border=\"1\" class=\"dataframe\">\n",
       "  <thead>\n",
       "    <tr style=\"text-align: right;\">\n",
       "      <th></th>\n",
       "      <th>date</th>\n",
       "      <th>open</th>\n",
       "      <th>high</th>\n",
       "      <th>low</th>\n",
       "      <th>close</th>\n",
       "      <th>volume</th>\n",
       "      <th>adjusted</th>\n",
       "    </tr>\n",
       "  </thead>\n",
       "  <tbody>\n",
       "    <tr>\n",
       "      <th>0</th>\n",
       "      <td>2018-11-30</td>\n",
       "      <td>273.809998</td>\n",
       "      <td>276.279999</td>\n",
       "      <td>273.450012</td>\n",
       "      <td>275.649994</td>\n",
       "      <td>98204200</td>\n",
       "      <td>271.527222</td>\n",
       "    </tr>\n",
       "    <tr>\n",
       "      <th>1</th>\n",
       "      <td>2018-12-03</td>\n",
       "      <td>280.279999</td>\n",
       "      <td>280.399994</td>\n",
       "      <td>277.510010</td>\n",
       "      <td>279.299988</td>\n",
       "      <td>103176300</td>\n",
       "      <td>275.122589</td>\n",
       "    </tr>\n",
       "    <tr>\n",
       "      <th>2</th>\n",
       "      <td>2018-12-04</td>\n",
       "      <td>278.369995</td>\n",
       "      <td>278.850006</td>\n",
       "      <td>269.899994</td>\n",
       "      <td>270.250000</td>\n",
       "      <td>177986000</td>\n",
       "      <td>266.207977</td>\n",
       "    </tr>\n",
       "    <tr>\n",
       "      <th>3</th>\n",
       "      <td>2018-12-06</td>\n",
       "      <td>265.920013</td>\n",
       "      <td>269.970001</td>\n",
       "      <td>262.440002</td>\n",
       "      <td>269.839996</td>\n",
       "      <td>204185400</td>\n",
       "      <td>265.804108</td>\n",
       "    </tr>\n",
       "    <tr>\n",
       "      <th>4</th>\n",
       "      <td>2018-12-07</td>\n",
       "      <td>269.459991</td>\n",
       "      <td>271.220001</td>\n",
       "      <td>262.630005</td>\n",
       "      <td>263.570007</td>\n",
       "      <td>161018900</td>\n",
       "      <td>259.627899</td>\n",
       "    </tr>\n",
       "    <tr>\n",
       "      <th>5</th>\n",
       "      <td>2018-12-10</td>\n",
       "      <td>263.369995</td>\n",
       "      <td>265.160004</td>\n",
       "      <td>258.619995</td>\n",
       "      <td>264.070007</td>\n",
       "      <td>151445900</td>\n",
       "      <td>260.120422</td>\n",
       "    </tr>\n",
       "    <tr>\n",
       "      <th>6</th>\n",
       "      <td>2018-12-11</td>\n",
       "      <td>267.660004</td>\n",
       "      <td>267.869995</td>\n",
       "      <td>262.480011</td>\n",
       "      <td>264.130005</td>\n",
       "      <td>121504400</td>\n",
       "      <td>260.179504</td>\n",
       "    </tr>\n",
       "    <tr>\n",
       "      <th>7</th>\n",
       "      <td>2018-12-12</td>\n",
       "      <td>267.470001</td>\n",
       "      <td>269.000000</td>\n",
       "      <td>265.369995</td>\n",
       "      <td>265.459991</td>\n",
       "      <td>97976700</td>\n",
       "      <td>261.489624</td>\n",
       "    </tr>\n",
       "    <tr>\n",
       "      <th>8</th>\n",
       "      <td>2018-12-13</td>\n",
       "      <td>266.519989</td>\n",
       "      <td>267.489990</td>\n",
       "      <td>264.119995</td>\n",
       "      <td>265.369995</td>\n",
       "      <td>96662700</td>\n",
       "      <td>261.400940</td>\n",
       "    </tr>\n",
       "    <tr>\n",
       "      <th>9</th>\n",
       "      <td>2018-12-14</td>\n",
       "      <td>262.959991</td>\n",
       "      <td>264.029999</td>\n",
       "      <td>259.850006</td>\n",
       "      <td>260.470001</td>\n",
       "      <td>116961100</td>\n",
       "      <td>256.574249</td>\n",
       "    </tr>\n",
       "    <tr>\n",
       "      <th>10</th>\n",
       "      <td>2018-12-17</td>\n",
       "      <td>259.399994</td>\n",
       "      <td>260.649994</td>\n",
       "      <td>253.529999</td>\n",
       "      <td>255.360001</td>\n",
       "      <td>165492300</td>\n",
       "      <td>251.540680</td>\n",
       "    </tr>\n",
       "    <tr>\n",
       "      <th>11</th>\n",
       "      <td>2018-12-18</td>\n",
       "      <td>257.200012</td>\n",
       "      <td>257.950012</td>\n",
       "      <td>253.279999</td>\n",
       "      <td>255.080002</td>\n",
       "      <td>134515100</td>\n",
       "      <td>251.264862</td>\n",
       "    </tr>\n",
       "    <tr>\n",
       "      <th>12</th>\n",
       "      <td>2018-12-19</td>\n",
       "      <td>255.169998</td>\n",
       "      <td>259.399994</td>\n",
       "      <td>249.350006</td>\n",
       "      <td>251.259995</td>\n",
       "      <td>214992800</td>\n",
       "      <td>247.501999</td>\n",
       "    </tr>\n",
       "    <tr>\n",
       "      <th>13</th>\n",
       "      <td>2018-12-20</td>\n",
       "      <td>249.860001</td>\n",
       "      <td>251.619995</td>\n",
       "      <td>244.649994</td>\n",
       "      <td>247.169998</td>\n",
       "      <td>252053400</td>\n",
       "      <td>243.473175</td>\n",
       "    </tr>\n",
       "    <tr>\n",
       "      <th>14</th>\n",
       "      <td>2018-12-21</td>\n",
       "      <td>246.740005</td>\n",
       "      <td>249.710007</td>\n",
       "      <td>239.979996</td>\n",
       "      <td>240.699997</td>\n",
       "      <td>255345600</td>\n",
       "      <td>238.484512</td>\n",
       "    </tr>\n",
       "    <tr>\n",
       "      <th>15</th>\n",
       "      <td>2018-12-24</td>\n",
       "      <td>239.039993</td>\n",
       "      <td>240.839996</td>\n",
       "      <td>234.270004</td>\n",
       "      <td>234.339996</td>\n",
       "      <td>147311600</td>\n",
       "      <td>232.183060</td>\n",
       "    </tr>\n",
       "    <tr>\n",
       "      <th>16</th>\n",
       "      <td>2018-12-26</td>\n",
       "      <td>235.970001</td>\n",
       "      <td>246.179993</td>\n",
       "      <td>233.759995</td>\n",
       "      <td>246.179993</td>\n",
       "      <td>218485400</td>\n",
       "      <td>243.914063</td>\n",
       "    </tr>\n",
       "    <tr>\n",
       "      <th>17</th>\n",
       "      <td>2018-12-27</td>\n",
       "      <td>242.570007</td>\n",
       "      <td>248.289993</td>\n",
       "      <td>238.960007</td>\n",
       "      <td>248.070007</td>\n",
       "      <td>186267300</td>\n",
       "      <td>245.786697</td>\n",
       "    </tr>\n",
       "    <tr>\n",
       "      <th>18</th>\n",
       "      <td>2018-12-28</td>\n",
       "      <td>249.580002</td>\n",
       "      <td>251.399994</td>\n",
       "      <td>246.449997</td>\n",
       "      <td>247.750000</td>\n",
       "      <td>153100200</td>\n",
       "      <td>245.469635</td>\n",
       "    </tr>\n",
       "    <tr>\n",
       "      <th>19</th>\n",
       "      <td>2018-12-31</td>\n",
       "      <td>249.559998</td>\n",
       "      <td>250.190002</td>\n",
       "      <td>247.470001</td>\n",
       "      <td>249.919998</td>\n",
       "      <td>144299400</td>\n",
       "      <td>247.619644</td>\n",
       "    </tr>\n",
       "  </tbody>\n",
       "</table>\n",
       "</div>"
      ],
      "text/plain": [
       "          date        open        high         low       close     volume  \\\n",
       "0   2018-11-30  273.809998  276.279999  273.450012  275.649994   98204200   \n",
       "1   2018-12-03  280.279999  280.399994  277.510010  279.299988  103176300   \n",
       "2   2018-12-04  278.369995  278.850006  269.899994  270.250000  177986000   \n",
       "3   2018-12-06  265.920013  269.970001  262.440002  269.839996  204185400   \n",
       "4   2018-12-07  269.459991  271.220001  262.630005  263.570007  161018900   \n",
       "5   2018-12-10  263.369995  265.160004  258.619995  264.070007  151445900   \n",
       "6   2018-12-11  267.660004  267.869995  262.480011  264.130005  121504400   \n",
       "7   2018-12-12  267.470001  269.000000  265.369995  265.459991   97976700   \n",
       "8   2018-12-13  266.519989  267.489990  264.119995  265.369995   96662700   \n",
       "9   2018-12-14  262.959991  264.029999  259.850006  260.470001  116961100   \n",
       "10  2018-12-17  259.399994  260.649994  253.529999  255.360001  165492300   \n",
       "11  2018-12-18  257.200012  257.950012  253.279999  255.080002  134515100   \n",
       "12  2018-12-19  255.169998  259.399994  249.350006  251.259995  214992800   \n",
       "13  2018-12-20  249.860001  251.619995  244.649994  247.169998  252053400   \n",
       "14  2018-12-21  246.740005  249.710007  239.979996  240.699997  255345600   \n",
       "15  2018-12-24  239.039993  240.839996  234.270004  234.339996  147311600   \n",
       "16  2018-12-26  235.970001  246.179993  233.759995  246.179993  218485400   \n",
       "17  2018-12-27  242.570007  248.289993  238.960007  248.070007  186267300   \n",
       "18  2018-12-28  249.580002  251.399994  246.449997  247.750000  153100200   \n",
       "19  2018-12-31  249.559998  250.190002  247.470001  249.919998  144299400   \n",
       "\n",
       "      adjusted  \n",
       "0   271.527222  \n",
       "1   275.122589  \n",
       "2   266.207977  \n",
       "3   265.804108  \n",
       "4   259.627899  \n",
       "5   260.120422  \n",
       "6   260.179504  \n",
       "7   261.489624  \n",
       "8   261.400940  \n",
       "9   256.574249  \n",
       "10  251.540680  \n",
       "11  251.264862  \n",
       "12  247.501999  \n",
       "13  243.473175  \n",
       "14  238.484512  \n",
       "15  232.183060  \n",
       "16  243.914063  \n",
       "17  245.786697  \n",
       "18  245.469635  \n",
       "19  247.619644  "
      ]
     },
     "execution_count": 6,
     "metadata": {},
     "output_type": "execute_result"
    }
   ],
   "source": [
    "df_spy # full dataframe"
   ]
  },
  {
   "cell_type": "markdown",
   "metadata": {},
   "source": [
    " "
   ]
  },
  {
   "cell_type": "markdown",
   "metadata": {},
   "source": [
    "**Code Challenge:** Access the 15th, 16th, and 17th rows of `df_spy`."
   ]
  },
  {
   "cell_type": "code",
   "execution_count": null,
   "metadata": {},
   "outputs": [],
   "source": [
    "\n",
    "\n",
    "\n"
   ]
  },
  {
   "cell_type": "markdown",
   "metadata": {},
   "source": [
    "## `DataFrame` Index"
   ]
  },
  {
   "cell_type": "markdown",
   "metadata": {},
   "source": [
    "Under the hood of `pandas`, a `DataFrame` has several `index` attributes associated with it, which helps to organize the data and keep it internally consistent.  There are several `index` attributes worth mentioning:\n",
    "\n",
    "`columns` - the set of column names is an (explicit) index.\n",
    "\n",
    "`row` - whenever a `DataFrame` is created, there is an explicit row index that is created.  If one isn't specified, then the the sequence of non-negative integers is used.\n",
    "\n",
    "`implicit` - each row has an implicit row-number, and each column has an implicit column-number."
   ]
  },
  {
   "cell_type": "markdown",
   "metadata": {},
   "source": [
    "Let's take a look at the `columns` index of `df_spy`:"
   ]
  },
  {
   "cell_type": "code",
   "execution_count": 7,
   "metadata": {},
   "outputs": [
    {
     "data": {
      "text/plain": [
       "Index(['date', 'open', 'high', 'low', 'close', 'volume', 'adjusted'], dtype='object')"
      ]
     },
     "execution_count": 7,
     "metadata": {},
     "output_type": "execute_result"
    }
   ],
   "source": [
    "df_spy.columns"
   ]
  },
  {
   "cell_type": "code",
   "execution_count": 8,
   "metadata": {},
   "outputs": [
    {
     "data": {
      "text/plain": [
       "pandas.core.indexes.base.Index"
      ]
     },
     "execution_count": 8,
     "metadata": {},
     "output_type": "execute_result"
    }
   ],
   "source": [
    "type(df_spy.columns)"
   ]
  },
  {
   "cell_type": "markdown",
   "metadata": {},
   "source": [
    "Next, let's take a look at the explicit row `index` attribute of `df_spy`:"
   ]
  },
  {
   "cell_type": "code",
   "execution_count": 9,
   "metadata": {},
   "outputs": [
    {
     "data": {
      "text/plain": [
       "RangeIndex(start=0, stop=20, step=1)"
      ]
     },
     "execution_count": 9,
     "metadata": {},
     "output_type": "execute_result"
    }
   ],
   "source": [
    "df_spy.index"
   ]
  },
  {
   "cell_type": "code",
   "execution_count": 10,
   "metadata": {},
   "outputs": [
    {
     "data": {
      "text/plain": [
       "pandas.core.indexes.range.RangeIndex"
      ]
     },
     "execution_count": 10,
     "metadata": {},
     "output_type": "execute_result"
    }
   ],
   "source": [
    "type(df_spy.index)"
   ]
  },
  {
   "cell_type": "markdown",
   "metadata": {},
   "source": [
    "Since we didn't specify one when reading in the data, a `RangeIndex` object is used for the explicit row `index`.  You can think of a `RangeIndex` object as a glorified set of consecutive integers that start at 0.\n",
    "\n",
    "We won't be too concerned with `index` attributes at the moment.  A lot of data analysis can be done without worrying about them.  However, it's good to be aware `indexes` exist becase they can come into play for more advanced topics, such as joining tables together (Tutorial 10).\n",
    "\n",
    "The reason I mention `indexes` now is that they are related to two built-in `DataFrame` attributes that are used for indexing and slicing data: `DataFrame.iloc` and `DataFrame.loc`."
   ]
  },
  {
   "cell_type": "markdown",
   "metadata": {},
   "source": [
    "## Indexing with `DataFrame.iloc`"
   ]
  },
  {
   "cell_type": "markdown",
   "metadata": {},
   "source": [
    "The indexer attribute `DataFrame.iloc` can be used to access rows and columns using their implicit row and column numbers.\n",
    "\n",
    "Here is an example of `iloc` that retrieves the first two rows of `df_spy`:"
   ]
  },
  {
   "cell_type": "code",
   "execution_count": 11,
   "metadata": {},
   "outputs": [
    {
     "data": {
      "text/html": [
       "<div>\n",
       "<style scoped>\n",
       "    .dataframe tbody tr th:only-of-type {\n",
       "        vertical-align: middle;\n",
       "    }\n",
       "\n",
       "    .dataframe tbody tr th {\n",
       "        vertical-align: top;\n",
       "    }\n",
       "\n",
       "    .dataframe thead th {\n",
       "        text-align: right;\n",
       "    }\n",
       "</style>\n",
       "<table border=\"1\" class=\"dataframe\">\n",
       "  <thead>\n",
       "    <tr style=\"text-align: right;\">\n",
       "      <th></th>\n",
       "      <th>date</th>\n",
       "      <th>open</th>\n",
       "      <th>high</th>\n",
       "      <th>low</th>\n",
       "      <th>close</th>\n",
       "      <th>volume</th>\n",
       "      <th>adjusted</th>\n",
       "    </tr>\n",
       "  </thead>\n",
       "  <tbody>\n",
       "    <tr>\n",
       "      <th>0</th>\n",
       "      <td>2018-11-30</td>\n",
       "      <td>273.809998</td>\n",
       "      <td>276.279999</td>\n",
       "      <td>273.450012</td>\n",
       "      <td>275.649994</td>\n",
       "      <td>98204200</td>\n",
       "      <td>271.527222</td>\n",
       "    </tr>\n",
       "    <tr>\n",
       "      <th>1</th>\n",
       "      <td>2018-12-03</td>\n",
       "      <td>280.279999</td>\n",
       "      <td>280.399994</td>\n",
       "      <td>277.510010</td>\n",
       "      <td>279.299988</td>\n",
       "      <td>103176300</td>\n",
       "      <td>275.122589</td>\n",
       "    </tr>\n",
       "  </tbody>\n",
       "</table>\n",
       "</div>"
      ],
      "text/plain": [
       "         date        open        high         low       close     volume  \\\n",
       "0  2018-11-30  273.809998  276.279999  273.450012  275.649994   98204200   \n",
       "1  2018-12-03  280.279999  280.399994  277.510010  279.299988  103176300   \n",
       "\n",
       "     adjusted  \n",
       "0  271.527222  \n",
       "1  275.122589  "
      ]
     },
     "execution_count": 11,
     "metadata": {},
     "output_type": "execute_result"
    }
   ],
   "source": [
    "df_spy.iloc[0:2]"
   ]
  },
  {
   "cell_type": "markdown",
   "metadata": {},
   "source": [
    "Notice, that because didn't specify any particular column numbers, the code above retrieves all columns.\n",
    "\n",
    "The following code grabs just the first three rows and the first three columns of the first two rows of `df_spy`:"
   ]
  },
  {
   "cell_type": "code",
   "execution_count": 12,
   "metadata": {},
   "outputs": [
    {
     "data": {
      "text/html": [
       "<div>\n",
       "<style scoped>\n",
       "    .dataframe tbody tr th:only-of-type {\n",
       "        vertical-align: middle;\n",
       "    }\n",
       "\n",
       "    .dataframe tbody tr th {\n",
       "        vertical-align: top;\n",
       "    }\n",
       "\n",
       "    .dataframe thead th {\n",
       "        text-align: right;\n",
       "    }\n",
       "</style>\n",
       "<table border=\"1\" class=\"dataframe\">\n",
       "  <thead>\n",
       "    <tr style=\"text-align: right;\">\n",
       "      <th></th>\n",
       "      <th>date</th>\n",
       "      <th>open</th>\n",
       "      <th>high</th>\n",
       "    </tr>\n",
       "  </thead>\n",
       "  <tbody>\n",
       "    <tr>\n",
       "      <th>0</th>\n",
       "      <td>2018-11-30</td>\n",
       "      <td>273.809998</td>\n",
       "      <td>276.279999</td>\n",
       "    </tr>\n",
       "    <tr>\n",
       "      <th>1</th>\n",
       "      <td>2018-12-03</td>\n",
       "      <td>280.279999</td>\n",
       "      <td>280.399994</td>\n",
       "    </tr>\n",
       "  </tbody>\n",
       "</table>\n",
       "</div>"
      ],
      "text/plain": [
       "         date        open        high\n",
       "0  2018-11-30  273.809998  276.279999\n",
       "1  2018-12-03  280.279999  280.399994"
      ]
     },
     "execution_count": 12,
     "metadata": {},
     "output_type": "execute_result"
    }
   ],
   "source": [
    "df_spy.iloc[0:2, 0:3]"
   ]
  },
  {
   "cell_type": "markdown",
   "metadata": {},
   "source": [
    "We can also supply `.iloc` with `lists` rather than ranges to specify custom sets of columns and rows:"
   ]
  },
  {
   "cell_type": "code",
   "execution_count": 13,
   "metadata": {},
   "outputs": [
    {
     "data": {
      "text/html": [
       "<div>\n",
       "<style scoped>\n",
       "    .dataframe tbody tr th:only-of-type {\n",
       "        vertical-align: middle;\n",
       "    }\n",
       "\n",
       "    .dataframe tbody tr th {\n",
       "        vertical-align: top;\n",
       "    }\n",
       "\n",
       "    .dataframe thead th {\n",
       "        text-align: right;\n",
       "    }\n",
       "</style>\n",
       "<table border=\"1\" class=\"dataframe\">\n",
       "  <thead>\n",
       "    <tr style=\"text-align: right;\">\n",
       "      <th></th>\n",
       "      <th>date</th>\n",
       "      <th>adjusted</th>\n",
       "    </tr>\n",
       "  </thead>\n",
       "  <tbody>\n",
       "    <tr>\n",
       "      <th>0</th>\n",
       "      <td>2018-11-30</td>\n",
       "      <td>271.527222</td>\n",
       "    </tr>\n",
       "    <tr>\n",
       "      <th>2</th>\n",
       "      <td>2018-12-04</td>\n",
       "      <td>266.207977</td>\n",
       "    </tr>\n",
       "  </tbody>\n",
       "</table>\n",
       "</div>"
      ],
      "text/plain": [
       "         date    adjusted\n",
       "0  2018-11-30  271.527222\n",
       "2  2018-12-04  266.207977"
      ]
     },
     "execution_count": 13,
     "metadata": {},
     "output_type": "execute_result"
    }
   ],
   "source": [
    "lst_row = [0, 2] # first and third rows\n",
    "lst_col = [0, 6] # date and adjusted columns\n",
    "df_spy.iloc[lst_row, lst_col]"
   ]
  },
  {
   "cell_type": "markdown",
   "metadata": {},
   "source": [
    "Using `lists` as a means of indexing is sometimes referred to as *fancy indexing*."
   ]
  },
  {
   "cell_type": "markdown",
   "metadata": {},
   "source": [
    "**Code Challenge** Use fancy indexing to grab the 14th, 0th, and 5th rows of `df_spy` - in that order."
   ]
  },
  {
   "cell_type": "code",
   "execution_count": null,
   "metadata": {},
   "outputs": [],
   "source": [
    "\n",
    "\n",
    "\n"
   ]
  },
  {
   "cell_type": "markdown",
   "metadata": {},
   "source": [
    "## Indexing with `DataFrame.loc`"
   ]
  },
  {
   "cell_type": "markdown",
   "metadata": {},
   "source": [
    "Rather than using the implicit row or column numbers, it is often more useful to access data by using the explicit row or column indices.\n",
    "\n",
    "As a preliminary step, let's first recast the `date` column as a `datetime`.  This can be done easily by using `pandas` built-in `to_datetime()` method:"
   ]
  },
  {
   "cell_type": "code",
   "execution_count": 14,
   "metadata": {},
   "outputs": [
    {
     "data": {
      "text/plain": [
       "date        datetime64[ns]\n",
       "open               float64\n",
       "high               float64\n",
       "low                float64\n",
       "close              float64\n",
       "volume               int64\n",
       "adjusted           float64\n",
       "dtype: object"
      ]
     },
     "execution_count": 14,
     "metadata": {},
     "output_type": "execute_result"
    }
   ],
   "source": [
    "df_spy['date'] = pd.to_datetime(df_spy['date']) \n",
    "df_spy.dtypes"
   ]
  },
  {
   "cell_type": "markdown",
   "metadata": {},
   "source": [
    "Next we'll use the `DataFrame.set_index()` method to set the `date` column as our new index.  We are doing this because we ultimately want to use our dates as an index to access the data."
   ]
  },
  {
   "cell_type": "code",
   "execution_count": 15,
   "metadata": {},
   "outputs": [
    {
     "data": {
      "text/html": [
       "<div>\n",
       "<style scoped>\n",
       "    .dataframe tbody tr th:only-of-type {\n",
       "        vertical-align: middle;\n",
       "    }\n",
       "\n",
       "    .dataframe tbody tr th {\n",
       "        vertical-align: top;\n",
       "    }\n",
       "\n",
       "    .dataframe thead th {\n",
       "        text-align: right;\n",
       "    }\n",
       "</style>\n",
       "<table border=\"1\" class=\"dataframe\">\n",
       "  <thead>\n",
       "    <tr style=\"text-align: right;\">\n",
       "      <th></th>\n",
       "      <th>open</th>\n",
       "      <th>high</th>\n",
       "      <th>low</th>\n",
       "      <th>close</th>\n",
       "      <th>volume</th>\n",
       "      <th>adjusted</th>\n",
       "    </tr>\n",
       "    <tr>\n",
       "      <th>date</th>\n",
       "      <th></th>\n",
       "      <th></th>\n",
       "      <th></th>\n",
       "      <th></th>\n",
       "      <th></th>\n",
       "      <th></th>\n",
       "    </tr>\n",
       "  </thead>\n",
       "  <tbody>\n",
       "    <tr>\n",
       "      <th>2018-11-30</th>\n",
       "      <td>273.809998</td>\n",
       "      <td>276.279999</td>\n",
       "      <td>273.450012</td>\n",
       "      <td>275.649994</td>\n",
       "      <td>98204200</td>\n",
       "      <td>271.527222</td>\n",
       "    </tr>\n",
       "    <tr>\n",
       "      <th>2018-12-03</th>\n",
       "      <td>280.279999</td>\n",
       "      <td>280.399994</td>\n",
       "      <td>277.510010</td>\n",
       "      <td>279.299988</td>\n",
       "      <td>103176300</td>\n",
       "      <td>275.122589</td>\n",
       "    </tr>\n",
       "    <tr>\n",
       "      <th>2018-12-04</th>\n",
       "      <td>278.369995</td>\n",
       "      <td>278.850006</td>\n",
       "      <td>269.899994</td>\n",
       "      <td>270.250000</td>\n",
       "      <td>177986000</td>\n",
       "      <td>266.207977</td>\n",
       "    </tr>\n",
       "    <tr>\n",
       "      <th>2018-12-06</th>\n",
       "      <td>265.920013</td>\n",
       "      <td>269.970001</td>\n",
       "      <td>262.440002</td>\n",
       "      <td>269.839996</td>\n",
       "      <td>204185400</td>\n",
       "      <td>265.804108</td>\n",
       "    </tr>\n",
       "    <tr>\n",
       "      <th>2018-12-07</th>\n",
       "      <td>269.459991</td>\n",
       "      <td>271.220001</td>\n",
       "      <td>262.630005</td>\n",
       "      <td>263.570007</td>\n",
       "      <td>161018900</td>\n",
       "      <td>259.627899</td>\n",
       "    </tr>\n",
       "  </tbody>\n",
       "</table>\n",
       "</div>"
      ],
      "text/plain": [
       "                  open        high         low       close     volume  \\\n",
       "date                                                                    \n",
       "2018-11-30  273.809998  276.279999  273.450012  275.649994   98204200   \n",
       "2018-12-03  280.279999  280.399994  277.510010  279.299988  103176300   \n",
       "2018-12-04  278.369995  278.850006  269.899994  270.250000  177986000   \n",
       "2018-12-06  265.920013  269.970001  262.440002  269.839996  204185400   \n",
       "2018-12-07  269.459991  271.220001  262.630005  263.570007  161018900   \n",
       "\n",
       "              adjusted  \n",
       "date                    \n",
       "2018-11-30  271.527222  \n",
       "2018-12-03  275.122589  \n",
       "2018-12-04  266.207977  \n",
       "2018-12-06  265.804108  \n",
       "2018-12-07  259.627899  "
      ]
     },
     "execution_count": 15,
     "metadata": {},
     "output_type": "execute_result"
    }
   ],
   "source": [
    "df_spy.set_index('date', inplace = True)\n",
    "df_spy.head()"
   ]
  },
  {
   "cell_type": "markdown",
   "metadata": {},
   "source": [
    "To see the effect of the above code, we can have a look at the `index` of `df_spy`."
   ]
  },
  {
   "cell_type": "code",
   "execution_count": 16,
   "metadata": {},
   "outputs": [
    {
     "data": {
      "text/plain": [
       "DatetimeIndex(['2018-11-30', '2018-12-03', '2018-12-04', '2018-12-06',\n",
       "               '2018-12-07', '2018-12-10', '2018-12-11', '2018-12-12',\n",
       "               '2018-12-13', '2018-12-14', '2018-12-17', '2018-12-18',\n",
       "               '2018-12-19', '2018-12-20', '2018-12-21', '2018-12-24',\n",
       "               '2018-12-26', '2018-12-27', '2018-12-28', '2018-12-31'],\n",
       "              dtype='datetime64[ns]', name='date', freq=None)"
      ]
     },
     "execution_count": 16,
     "metadata": {},
     "output_type": "execute_result"
    }
   ],
   "source": [
    "df_spy.index"
   ]
  },
  {
   "cell_type": "markdown",
   "metadata": {},
   "source": [
    "Notice that `date` is no longer column of `df_spy`:"
   ]
  },
  {
   "cell_type": "code",
   "execution_count": 17,
   "metadata": {},
   "outputs": [
    {
     "data": {
      "text/plain": [
       "Index(['open', 'high', 'low', 'close', 'volume', 'adjusted'], dtype='object')"
      ]
     },
     "execution_count": 17,
     "metadata": {},
     "output_type": "execute_result"
    }
   ],
   "source": [
    "df_spy.columns"
   ]
  },
  {
   "cell_type": "markdown",
   "metadata": {},
   "source": [
    "Now that we have successful set the row `index` of `df_spy` to be the `date`, let's see how we can use this `index` to access the data via `.loc`.\n",
    "        \n",
    "Here is an example of how we can grab a slice of rows, associated with a date-range:"
   ]
  },
  {
   "cell_type": "code",
   "execution_count": 18,
   "metadata": {},
   "outputs": [
    {
     "data": {
      "text/html": [
       "<div>\n",
       "<style scoped>\n",
       "    .dataframe tbody tr th:only-of-type {\n",
       "        vertical-align: middle;\n",
       "    }\n",
       "\n",
       "    .dataframe tbody tr th {\n",
       "        vertical-align: top;\n",
       "    }\n",
       "\n",
       "    .dataframe thead th {\n",
       "        text-align: right;\n",
       "    }\n",
       "</style>\n",
       "<table border=\"1\" class=\"dataframe\">\n",
       "  <thead>\n",
       "    <tr style=\"text-align: right;\">\n",
       "      <th></th>\n",
       "      <th>open</th>\n",
       "      <th>high</th>\n",
       "      <th>low</th>\n",
       "      <th>close</th>\n",
       "      <th>volume</th>\n",
       "      <th>adjusted</th>\n",
       "    </tr>\n",
       "    <tr>\n",
       "      <th>date</th>\n",
       "      <th></th>\n",
       "      <th></th>\n",
       "      <th></th>\n",
       "      <th></th>\n",
       "      <th></th>\n",
       "      <th></th>\n",
       "    </tr>\n",
       "  </thead>\n",
       "  <tbody>\n",
       "    <tr>\n",
       "      <th>2018-12-21</th>\n",
       "      <td>246.740005</td>\n",
       "      <td>249.710007</td>\n",
       "      <td>239.979996</td>\n",
       "      <td>240.699997</td>\n",
       "      <td>255345600</td>\n",
       "      <td>238.484512</td>\n",
       "    </tr>\n",
       "    <tr>\n",
       "      <th>2018-12-24</th>\n",
       "      <td>239.039993</td>\n",
       "      <td>240.839996</td>\n",
       "      <td>234.270004</td>\n",
       "      <td>234.339996</td>\n",
       "      <td>147311600</td>\n",
       "      <td>232.183060</td>\n",
       "    </tr>\n",
       "    <tr>\n",
       "      <th>2018-12-26</th>\n",
       "      <td>235.970001</td>\n",
       "      <td>246.179993</td>\n",
       "      <td>233.759995</td>\n",
       "      <td>246.179993</td>\n",
       "      <td>218485400</td>\n",
       "      <td>243.914063</td>\n",
       "    </tr>\n",
       "    <tr>\n",
       "      <th>2018-12-27</th>\n",
       "      <td>242.570007</td>\n",
       "      <td>248.289993</td>\n",
       "      <td>238.960007</td>\n",
       "      <td>248.070007</td>\n",
       "      <td>186267300</td>\n",
       "      <td>245.786697</td>\n",
       "    </tr>\n",
       "    <tr>\n",
       "      <th>2018-12-28</th>\n",
       "      <td>249.580002</td>\n",
       "      <td>251.399994</td>\n",
       "      <td>246.449997</td>\n",
       "      <td>247.750000</td>\n",
       "      <td>153100200</td>\n",
       "      <td>245.469635</td>\n",
       "    </tr>\n",
       "  </tbody>\n",
       "</table>\n",
       "</div>"
      ],
      "text/plain": [
       "                  open        high         low       close     volume  \\\n",
       "date                                                                    \n",
       "2018-12-21  246.740005  249.710007  239.979996  240.699997  255345600   \n",
       "2018-12-24  239.039993  240.839996  234.270004  234.339996  147311600   \n",
       "2018-12-26  235.970001  246.179993  233.759995  246.179993  218485400   \n",
       "2018-12-27  242.570007  248.289993  238.960007  248.070007  186267300   \n",
       "2018-12-28  249.580002  251.399994  246.449997  247.750000  153100200   \n",
       "\n",
       "              adjusted  \n",
       "date                    \n",
       "2018-12-21  238.484512  \n",
       "2018-12-24  232.183060  \n",
       "2018-12-26  243.914063  \n",
       "2018-12-27  245.786697  \n",
       "2018-12-28  245.469635  "
      ]
     },
     "execution_count": 18,
     "metadata": {},
     "output_type": "execute_result"
    }
   ],
   "source": [
    "df_spy.loc['2018-12-21':'2018-12-28']"
   ]
  },
  {
   "cell_type": "markdown",
   "metadata": {},
   "source": [
    "If we want to select only the `volume` and `adjusted` columns for these dates, we would type the following: "
   ]
  },
  {
   "cell_type": "code",
   "execution_count": 19,
   "metadata": {},
   "outputs": [
    {
     "data": {
      "text/html": [
       "<div>\n",
       "<style scoped>\n",
       "    .dataframe tbody tr th:only-of-type {\n",
       "        vertical-align: middle;\n",
       "    }\n",
       "\n",
       "    .dataframe tbody tr th {\n",
       "        vertical-align: top;\n",
       "    }\n",
       "\n",
       "    .dataframe thead th {\n",
       "        text-align: right;\n",
       "    }\n",
       "</style>\n",
       "<table border=\"1\" class=\"dataframe\">\n",
       "  <thead>\n",
       "    <tr style=\"text-align: right;\">\n",
       "      <th></th>\n",
       "      <th>volume</th>\n",
       "      <th>adjusted</th>\n",
       "    </tr>\n",
       "    <tr>\n",
       "      <th>date</th>\n",
       "      <th></th>\n",
       "      <th></th>\n",
       "    </tr>\n",
       "  </thead>\n",
       "  <tbody>\n",
       "    <tr>\n",
       "      <th>2018-12-21</th>\n",
       "      <td>255345600</td>\n",
       "      <td>238.484512</td>\n",
       "    </tr>\n",
       "    <tr>\n",
       "      <th>2018-12-24</th>\n",
       "      <td>147311600</td>\n",
       "      <td>232.183060</td>\n",
       "    </tr>\n",
       "    <tr>\n",
       "      <th>2018-12-26</th>\n",
       "      <td>218485400</td>\n",
       "      <td>243.914063</td>\n",
       "    </tr>\n",
       "    <tr>\n",
       "      <th>2018-12-27</th>\n",
       "      <td>186267300</td>\n",
       "      <td>245.786697</td>\n",
       "    </tr>\n",
       "    <tr>\n",
       "      <th>2018-12-28</th>\n",
       "      <td>153100200</td>\n",
       "      <td>245.469635</td>\n",
       "    </tr>\n",
       "  </tbody>\n",
       "</table>\n",
       "</div>"
      ],
      "text/plain": [
       "               volume    adjusted\n",
       "date                             \n",
       "2018-12-21  255345600  238.484512\n",
       "2018-12-24  147311600  232.183060\n",
       "2018-12-26  218485400  243.914063\n",
       "2018-12-27  186267300  245.786697\n",
       "2018-12-28  153100200  245.469635"
      ]
     },
     "execution_count": 19,
     "metadata": {},
     "output_type": "execute_result"
    }
   ],
   "source": [
    "df_spy.loc['2018-12-21':'2018-12-28', ['volume', 'adjusted']]"
   ]
  },
  {
   "cell_type": "markdown",
   "metadata": {},
   "source": [
    " "
   ]
  },
  {
   "cell_type": "markdown",
   "metadata": {},
   "source": [
    "**Code Challenge:** Use `.loc` to grab the `date`, `volume`, and `close` columns of `df_spy`"
   ]
  },
  {
   "cell_type": "code",
   "execution_count": null,
   "metadata": {},
   "outputs": [],
   "source": [
    "\n",
    "\n",
    "\n"
   ]
  },
  {
   "cell_type": "markdown",
   "metadata": {},
   "source": [
    "## Related Reading"
   ]
  },
  {
   "cell_type": "markdown",
   "metadata": {},
   "source": [
    "*PDSH* - 2.6 - Comparisons, Masks, and Boolean Logic\n",
    "\n",
    "*PDSH* - 2.7 - Fancy Indexing\n",
    "\n",
    "*PDSH* - 3.2 - Data Indexing and Selection "
   ]
  }
 ],
 "metadata": {
  "kernelspec": {
   "display_name": "Python 3",
   "language": "python",
   "name": "python3"
  },
  "language_info": {
   "codemirror_mode": {
    "name": "ipython",
    "version": 3
   },
   "file_extension": ".py",
   "mimetype": "text/x-python",
   "name": "python",
   "nbconvert_exporter": "python",
   "pygments_lexer": "ipython3",
   "version": "3.6.8"
  }
 },
 "nbformat": 4,
 "nbformat_minor": 2
}
