{
 "cells": [
  {
   "cell_type": "markdown",
   "metadata": {},
   "source": [
    "# Tutorial 8 - The `DataFrame.apply()` Method "
   ]
  },
  {
   "cell_type": "markdown",
   "metadata": {},
   "source": [
    "We have already discussed how to add a new column to a `DataFrame` that is a simple function of existing columns.  \n",
    "\n",
    "Suppose the situation is a little more complicated, and that the column we want to add is some kind of custom (user defined) function of existing columns.\n",
    "\n",
    "In this tutorial we discuss two ways of doing this:\n",
    "\n",
    "1. A `for` loop\n",
    "\n",
    "2. `DataFrame.apply()`\n",
    "\n",
    "We will use a simple finance task to motivate these two techniques: calculating the payoffs of expiring options."
   ]
  },
  {
   "cell_type": "markdown",
   "metadata": {},
   "source": [
    "## Loading Packages"
   ]
  },
  {
   "cell_type": "markdown",
   "metadata": {},
   "source": [
    "Let's begin by loading the packages that we will need."
   ]
  },
  {
   "cell_type": "code",
   "execution_count": null,
   "metadata": {},
   "outputs": [],
   "source": [
    "##> import numpy as np\n",
    "##> import pandas as pd\n",
    "\n",
    "\n"
   ]
  },
  {
   "cell_type": "markdown",
   "metadata": {},
   "source": [
    "## Reading-In Data"
   ]
  },
  {
   "cell_type": "markdown",
   "metadata": {},
   "source": [
    "Next, let's read in a data file called `spy_expiring_option.csv`. \n",
    "\n",
    "This data set consists of 21 different options on `SPY` that expire on November 16, 2018.  \n",
    "\n",
    "The `upx` column is the settle price of `SPY` from that day, and it will be used to calculate the payoff of each of these options."
   ]
  },
  {
   "cell_type": "code",
   "execution_count": null,
   "metadata": {},
   "outputs": [],
   "source": [
    "##> df_opt = pd.read_csv(\"../data/spy_expiring_option.csv\")\n",
    "##> df_opt.head()\n",
    "\n",
    "\n"
   ]
  },
  {
   "cell_type": "markdown",
   "metadata": {},
   "source": [
    "## Initializing Payoff Column"
   ]
  },
  {
   "cell_type": "markdown",
   "metadata": {},
   "source": [
    "Our ultimate objective is to add a column of option payoffs to `df_opt`.  We are going to accomplish this task using two different methods.  \n",
    "\n",
    "As a first step, let's add two column,  one for each method, to `df_opt` and then initialize them both with `np.nan`, which is a special data type that represents missing numerical data."
   ]
  },
  {
   "cell_type": "code",
   "execution_count": null,
   "metadata": {},
   "outputs": [],
   "source": [
    "##> df_opt['payoff_loop'] = np.nan\n",
    "##> df_opt['payoff_apply'] = np.nan\n",
    "##> df_opt.head()\n",
    "\n",
    "\n"
   ]
  },
  {
   "cell_type": "markdown",
   "metadata": {},
   "source": [
    "## Defining the `option_payoff()` Function"
   ]
  },
  {
   "cell_type": "markdown",
   "metadata": {},
   "source": [
    "In the previous tutorial we defined an option payoff function.  Let's recycle that code here:"
   ]
  },
  {
   "cell_type": "code",
   "execution_count": null,
   "metadata": {},
   "outputs": [],
   "source": [
    "##> def option_payoff(cp, strike, upx):\n",
    "##>     if cp == 'call':\n",
    "##>         payoff = max(upx - strike, 0)\n",
    "##>     elif cp == 'put':\n",
    "##>         payoff = max(strike - upx, 0)\n",
    "##>     \n",
    "##>     return payoff\n",
    "\n",
    "\n"
   ]
  },
  {
   "cell_type": "markdown",
   "metadata": {},
   "source": [
    "Whenever I create a function, I like to test it out on a few values to make sure that it works as I expect."
   ]
  },
  {
   "cell_type": "code",
   "execution_count": null,
   "metadata": {},
   "outputs": [],
   "source": [
    "##> print(option_payoff('call', 100, 150))\n",
    "##> print(option_payoff('put', 100, 150))\n",
    "\n",
    "\n"
   ]
  },
  {
   "cell_type": "markdown",
   "metadata": {},
   "source": [
    "## Calculate `option_payoff` via `for` loop"
   ]
  },
  {
   "cell_type": "markdown",
   "metadata": {},
   "source": [
    "Let's iterate through `df_opt` with a `for` loop and calculate the payoffs one by one."
   ]
  },
  {
   "cell_type": "code",
   "execution_count": null,
   "metadata": {},
   "outputs": [],
   "source": [
    "##> for ix in df_opt.index:\n",
    "##>     \n",
    "##>     # grabbing data from dataframe\n",
    "##>     opt_type = df_opt.at[ix, 'type']\n",
    "##>     strike = df_opt.at[ix, 'strike']\n",
    "##>     upx = df_opt.at[ix, 'upx']\n",
    "##>     \n",
    "##>     # calculating payoff\n",
    "##>     payoff = option_payoff(opt_type, strike, upx)\n",
    "##>     \n",
    "##>     # putting payoff in dataframe\n",
    "##>     df_opt.at[ix, 'payoff_loop'] = payoff\n",
    "##>     \n",
    "##>     \n",
    "##> df_opt\n",
    "\n",
    "\n"
   ]
  },
  {
   "cell_type": "markdown",
   "metadata": {},
   "source": [
    "# Calculate `option_payoff` via `.apply()`"
   ]
  },
  {
   "cell_type": "markdown",
   "metadata": {},
   "source": [
    "The `DataFrame.apply()` method allows us to perform these calculations without explicitly iterating through `df_opt` with a `for` loop.\n",
    "\n",
    "In order to make use of `.apply()`, we will have to construct our custom payoff function slightly differently."
   ]
  },
  {
   "cell_type": "code",
   "execution_count": null,
   "metadata": {},
   "outputs": [],
   "source": [
    "##> def opt_pay(row):\n",
    "##>     cp = row['type']\n",
    "##>     strike = row['strike']\n",
    "##>     upx = row['upx']\n",
    "##>     \n",
    "##>     if cp == 'call':\n",
    "##>         payoff = max(upx - strike, 0)\n",
    "##>     elif cp == 'put':\n",
    "##>         payoff = max(strike - upx, 0)\n",
    "##>     \n",
    "##>     return payoff\n",
    "\n",
    "\n"
   ]
  },
  {
   "cell_type": "markdown",
   "metadata": {},
   "source": [
    "We can use `.apply()` to calculate the payoffs in a single line of code."
   ]
  },
  {
   "cell_type": "code",
   "execution_count": null,
   "metadata": {},
   "outputs": [],
   "source": [
    "##> df_opt['payoff_apply'] = df_opt.apply(opt_pay, axis = 1)\n",
    "##> df_opt\n",
    "\n",
    "\n"
   ]
  },
  {
   "cell_type": "markdown",
   "metadata": {},
   "source": [
    "**Code Challenge:** Add a column to `df_opt` that identifies if the `upx` is bigger or smaller than `strike`.  Do this by writing a custom function and then using `DataFrame.apply()`."
   ]
  },
  {
   "cell_type": "code",
   "execution_count": null,
   "metadata": {},
   "outputs": [],
   "source": [
    "\n",
    "\n",
    "\n"
   ]
  },
  {
   "cell_type": "markdown",
   "metadata": {},
   "source": [
    "## Related Reading"
   ]
  },
  {
   "cell_type": "markdown",
   "metadata": {},
   "source": [
    "*WTP* - 8 - Control Flow\n",
    "\n",
    "*WTP* - 9 - Defining Functions\n",
    "\n",
    "*LOD* - 2 - Options 101 "
   ]
  }
 ],
 "metadata": {
  "kernelspec": {
   "display_name": "Python 3",
   "language": "python",
   "name": "python3"
  },
  "language_info": {
   "codemirror_mode": {
    "name": "ipython",
    "version": 3
   },
   "file_extension": ".py",
   "mimetype": "text/x-python",
   "name": "python",
   "nbconvert_exporter": "python",
   "pygments_lexer": "ipython3",
   "version": "3.6.8"
  }
 },
 "nbformat": 4,
 "nbformat_minor": 2
}
