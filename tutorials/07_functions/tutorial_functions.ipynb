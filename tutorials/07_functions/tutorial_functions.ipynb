{
 "cells": [
  {
   "cell_type": "markdown",
   "metadata": {},
   "source": [
    "# Tutorial 7 - Writing Functions"
   ]
  },
  {
   "cell_type": "markdown",
   "metadata": {},
   "source": [
    "Writing `functions` is a fundamental part of programming and data analysis.\n",
    "\n",
    "The purpose of this tutorial is to demonstrate the syntax for creating functions by walking through simple examples.\n",
    "\n",
    "A function is a block of code that runs when it is called.  A function can take inputs and produce outputs, but neither is a formal requirement.\n",
    "\n",
    "Here is a simple example of how to define a function in Python.  Notice that this function doesn't take an input."
   ]
  },
  {
   "cell_type": "code",
   "execution_count": null,
   "metadata": {},
   "outputs": [],
   "source": [
    "##> def first_function():\n",
    "##>     print(\"printed from a function\")\n",
    "\n",
    "\n"
   ]
  },
  {
   "cell_type": "markdown",
   "metadata": {},
   "source": [
    "Now that the function is defined, it can be called later as follows:"
   ]
  },
  {
   "cell_type": "code",
   "execution_count": null,
   "metadata": {},
   "outputs": [],
   "source": [
    "##> first_function()\n",
    "\n"
   ]
  },
  {
   "cell_type": "markdown",
   "metadata": {},
   "source": [
    " "
   ]
  },
  {
   "cell_type": "markdown",
   "metadata": {},
   "source": [
    "The only thing the above function does is print a statement."
   ]
  },
  {
   "cell_type": "markdown",
   "metadata": {},
   "source": [
    "Here is a simple example of a function that takes an input and prints it."
   ]
  },
  {
   "cell_type": "code",
   "execution_count": null,
   "metadata": {},
   "outputs": [],
   "source": [
    "##> def second_function(input):\n",
    "##>     print(\"printed from second function: \" + input)\n",
    "\n",
    "\n"
   ]
  },
  {
   "cell_type": "code",
   "execution_count": null,
   "metadata": {},
   "outputs": [],
   "source": [
    "##> second_function(\"holler\")\n",
    "\n"
   ]
  },
  {
   "cell_type": "markdown",
   "metadata": {},
   "source": [
    " "
   ]
  },
  {
   "cell_type": "markdown",
   "metadata": {},
   "source": [
    "As a final toy example, and one that produces output, let's create a function that adds two numbers and returns the result:\n"
   ]
  },
  {
   "cell_type": "code",
   "execution_count": null,
   "metadata": {},
   "outputs": [],
   "source": [
    "##> def third_function(first_num, second_num):\n",
    "##>     return first_num + second_num \n",
    "##> \n",
    "##> print(third_function(5, 10))\n",
    "##> print(third_function(1, 1))\n",
    "\n",
    "\n"
   ]
  },
  {
   "cell_type": "markdown",
   "metadata": {},
   "source": [
    "**Code Challenge:**  Write a function that multiplies two numbers together."
   ]
  },
  {
   "cell_type": "code",
   "execution_count": null,
   "metadata": {},
   "outputs": [],
   "source": [
    "\n",
    "\n",
    "\n"
   ]
  },
  {
   "cell_type": "markdown",
   "metadata": {},
   "source": [
    "## Option Payoff Function"
   ]
  },
  {
   "cell_type": "markdown",
   "metadata": {},
   "source": [
    "Let's round out our introduction to function writing by creating an option payoff function for vanilla options.\n",
    "\n",
    "Let $K$ be the strike price of a vanilla option, and let $S_{T}$ price of it's underlying at the time of expiration.  Recall that the payoff of a `call` and `put` are as follows:\n",
    "\n",
    "1. `call`: $\\max(S_T - K, 0)$\n",
    "\n",
    "2. `put`: $\\max(K - S_T, 0)$\n",
    "\n",
    "Let's begin by writing the payoff function for a call option:"
   ]
  },
  {
   "cell_type": "code",
   "execution_count": null,
   "metadata": {},
   "outputs": [],
   "source": [
    "##> def call_payoff(strike, upx):\n",
    "##>     payoff = max(upx - strike, 0)\n",
    "##>     return payoff\n",
    "\n",
    "\n"
   ]
  },
  {
   "cell_type": "code",
   "execution_count": null,
   "metadata": {},
   "outputs": [],
   "source": [
    "##> print(call_payoff(strike = 100, upx = 110))\n",
    "##> print(call_payoff(strike = 100, upx = 90))\n",
    "\n",
    "\n"
   ]
  },
  {
   "cell_type": "markdown",
   "metadata": {},
   "source": [
    "Next, let's write the payoff for a put:"
   ]
  },
  {
   "cell_type": "code",
   "execution_count": null,
   "metadata": {},
   "outputs": [],
   "source": [
    "##> def put_payoff(strike, upx):\n",
    "##>     payoff = max(strike - upx, 0)\n",
    "##>     return payoff\n",
    "\n",
    "\n"
   ]
  },
  {
   "cell_type": "code",
   "execution_count": null,
   "metadata": {},
   "outputs": [],
   "source": [
    "##> print(put_payoff(strike = 100, upx = 110))\n",
    "##> print(put_payoff(strike = 100, upx = 90))\n",
    "\n",
    "\n"
   ]
  },
  {
   "cell_type": "markdown",
   "metadata": {},
   "source": [
    "It's actually unecessary to have two separate functions, and we can use an `if`-`elif` statement to create a single function to do what we want."
   ]
  },
  {
   "cell_type": "code",
   "execution_count": null,
   "metadata": {},
   "outputs": [],
   "source": [
    "##> def option_payoff(cp, strike, upx):\n",
    "##>     if cp == \"call\":\n",
    "##>         payoff = max(upx - strike, 0)\n",
    "##>     elif cp == \"put\":\n",
    "##>         payoff = max(strike - upx, 0)\n",
    "##>     \n",
    "##>     return payoff\n",
    "\n",
    "\n"
   ]
  },
  {
   "cell_type": "code",
   "execution_count": null,
   "metadata": {},
   "outputs": [],
   "source": [
    "##> print(option_payoff(\"call\", 100, 110))\n",
    "##> print(option_payoff(\"put\", 100, 110))\n",
    "##> print(option_payoff(\"call\", 100, 90))\n",
    "##> print(option_payoff(\"put\", 100, 90))\n",
    "\n",
    "\n"
   ]
  },
  {
   "cell_type": "markdown",
   "metadata": {},
   "source": [
    "## When Should I Write A Function?"
   ]
  },
  {
   "cell_type": "markdown",
   "metadata": {},
   "source": [
    "Here is a bit of general guidance on function writing:\n",
    "\n",
    "1. Write functions early.\n",
    "\n",
    "1. Write functions often.\n",
    "\n",
    "1. Writing functions is the simplest form of *modular programming* - breaking your code into smaller, manageable pieces.  It is essential to keeping your projects organized.\n",
    "\n",
    "1. Write **ANY** function that you think will help your analysis.\n",
    "\n",
    "1. If you've written 30 lines of code without writing a function, you're probably doing something wrong."
   ]
  },
  {
   "cell_type": "markdown",
   "metadata": {},
   "source": [
    "## Related Reading"
   ]
  },
  {
   "cell_type": "markdown",
   "metadata": {},
   "source": [
    "*WTP* - 9 - Defining Functions\n",
    "\n",
    "*RFF* - 2 - Options 101 "
   ]
  }
 ],
 "metadata": {
  "kernelspec": {
   "display_name": "Python 3",
   "language": "python",
   "name": "python3"
  },
  "language_info": {
   "codemirror_mode": {
    "name": "ipython",
    "version": 3
   },
   "file_extension": ".py",
   "mimetype": "text/x-python",
   "name": "python",
   "nbconvert_exporter": "python",
   "pygments_lexer": "ipython3",
   "version": "3.6.8"
  }
 },
 "nbformat": 4,
 "nbformat_minor": 2
}
