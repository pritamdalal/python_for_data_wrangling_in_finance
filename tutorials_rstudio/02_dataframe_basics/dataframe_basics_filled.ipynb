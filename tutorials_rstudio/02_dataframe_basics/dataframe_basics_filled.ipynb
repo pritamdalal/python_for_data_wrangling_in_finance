{
 "cells": [
  {
   "cell_type": "markdown",
   "metadata": {},
   "source": [
    "# `DataFrame` Basics"
   ]
  },
  {
   "cell_type": "markdown",
   "metadata": {},
   "source": [
    "In this tutorial we cover the basics of working with `DataFrames` in `pandas`."
   ]
  },
  {
   "cell_type": "markdown",
   "metadata": {},
   "source": [
    "### Importing Packages"
   ]
  },
  {
   "cell_type": "markdown",
   "metadata": {},
   "source": [
    "Let's begin by importing the packages that we will need."
   ]
  },
  {
   "cell_type": "code",
   "execution_count": 1,
   "metadata": {},
   "outputs": [],
   "source": [
    "import pandas as pd\n",
    "import pandas_datareader as pdr\n",
    "pd.set_option('display.max_rows', 10)"
   ]
  },
  {
   "cell_type": "markdown",
   "metadata": {},
   "source": [
    " "
   ]
  },
  {
   "cell_type": "markdown",
   "metadata": {},
   "source": [
    "### Reading-In Data"
   ]
  },
  {
   "cell_type": "markdown",
   "metadata": {},
   "source": [
    "Next, let's use `pandas_datareader` to read-in SPY prices from March 2020.  SPY is an ETF that tracks the S&P500 index."
   ]
  },
  {
   "cell_type": "code",
   "execution_count": 2,
   "metadata": {},
   "outputs": [
    {
     "data": {
      "text/html": [
       "<div>\n",
       "<style scoped>\n",
       "    .dataframe tbody tr th:only-of-type {\n",
       "        vertical-align: middle;\n",
       "    }\n",
       "\n",
       "    .dataframe tbody tr th {\n",
       "        vertical-align: top;\n",
       "    }\n",
       "\n",
       "    .dataframe thead th {\n",
       "        text-align: right;\n",
       "    }\n",
       "</style>\n",
       "<table border=\"1\" class=\"dataframe\">\n",
       "  <thead>\n",
       "    <tr style=\"text-align: right;\">\n",
       "      <th></th>\n",
       "      <th>High</th>\n",
       "      <th>Low</th>\n",
       "      <th>Open</th>\n",
       "      <th>Close</th>\n",
       "      <th>Volume</th>\n",
       "      <th>Adj Close</th>\n",
       "    </tr>\n",
       "    <tr>\n",
       "      <th>Date</th>\n",
       "      <th></th>\n",
       "      <th></th>\n",
       "      <th></th>\n",
       "      <th></th>\n",
       "      <th></th>\n",
       "      <th></th>\n",
       "    </tr>\n",
       "  </thead>\n",
       "  <tbody>\n",
       "    <tr>\n",
       "      <th>2020-02-28</th>\n",
       "      <td>297.89</td>\n",
       "      <td>285.54</td>\n",
       "      <td>288.70</td>\n",
       "      <td>296.26</td>\n",
       "      <td>384975800.0</td>\n",
       "      <td>288.93</td>\n",
       "    </tr>\n",
       "    <tr>\n",
       "      <th>2020-03-02</th>\n",
       "      <td>309.16</td>\n",
       "      <td>294.46</td>\n",
       "      <td>298.21</td>\n",
       "      <td>309.09</td>\n",
       "      <td>238703600.0</td>\n",
       "      <td>301.45</td>\n",
       "    </tr>\n",
       "    <tr>\n",
       "      <th>2020-03-03</th>\n",
       "      <td>313.84</td>\n",
       "      <td>297.57</td>\n",
       "      <td>309.50</td>\n",
       "      <td>300.24</td>\n",
       "      <td>300139100.0</td>\n",
       "      <td>292.82</td>\n",
       "    </tr>\n",
       "    <tr>\n",
       "      <th>2020-03-04</th>\n",
       "      <td>313.10</td>\n",
       "      <td>303.33</td>\n",
       "      <td>306.12</td>\n",
       "      <td>312.86</td>\n",
       "      <td>176613400.0</td>\n",
       "      <td>305.12</td>\n",
       "    </tr>\n",
       "    <tr>\n",
       "      <th>2020-03-05</th>\n",
       "      <td>308.47</td>\n",
       "      <td>300.01</td>\n",
       "      <td>304.98</td>\n",
       "      <td>302.46</td>\n",
       "      <td>186366800.0</td>\n",
       "      <td>294.98</td>\n",
       "    </tr>\n",
       "  </tbody>\n",
       "</table>\n",
       "</div>"
      ],
      "text/plain": [
       "              High     Low    Open   Close       Volume  Adj Close\n",
       "Date                                                              \n",
       "2020-02-28  297.89  285.54  288.70  296.26  384975800.0     288.93\n",
       "2020-03-02  309.16  294.46  298.21  309.09  238703600.0     301.45\n",
       "2020-03-03  313.84  297.57  309.50  300.24  300139100.0     292.82\n",
       "2020-03-04  313.10  303.33  306.12  312.86  176613400.0     305.12\n",
       "2020-03-05  308.47  300.01  304.98  302.46  186366800.0     294.98"
      ]
     },
     "execution_count": 2,
     "metadata": {},
     "output_type": "execute_result"
    }
   ],
   "source": [
    "df_spy = pdr.get_data_yahoo('SPY', start='2020-02-28', end='2020-03-31')\n",
    "df_spy = df_spy.round(2)\n",
    "df_spy.head()"
   ]
  },
  {
   "cell_type": "markdown",
   "metadata": {},
   "source": [
    "Let's make the `date` a regular column, instead of an index, and also make the column names snake-case."
   ]
  },
  {
   "cell_type": "code",
   "execution_count": 3,
   "metadata": {},
   "outputs": [
    {
     "data": {
      "text/html": [
       "<div>\n",
       "<style scoped>\n",
       "    .dataframe tbody tr th:only-of-type {\n",
       "        vertical-align: middle;\n",
       "    }\n",
       "\n",
       "    .dataframe tbody tr th {\n",
       "        vertical-align: top;\n",
       "    }\n",
       "\n",
       "    .dataframe thead th {\n",
       "        text-align: right;\n",
       "    }\n",
       "</style>\n",
       "<table border=\"1\" class=\"dataframe\">\n",
       "  <thead>\n",
       "    <tr style=\"text-align: right;\">\n",
       "      <th></th>\n",
       "      <th>date</th>\n",
       "      <th>high</th>\n",
       "      <th>low</th>\n",
       "      <th>open</th>\n",
       "      <th>close</th>\n",
       "      <th>volume</th>\n",
       "      <th>adj_close</th>\n",
       "    </tr>\n",
       "  </thead>\n",
       "  <tbody>\n",
       "    <tr>\n",
       "      <th>0</th>\n",
       "      <td>2020-02-28</td>\n",
       "      <td>297.89</td>\n",
       "      <td>285.54</td>\n",
       "      <td>288.70</td>\n",
       "      <td>296.26</td>\n",
       "      <td>384975800.0</td>\n",
       "      <td>288.93</td>\n",
       "    </tr>\n",
       "    <tr>\n",
       "      <th>1</th>\n",
       "      <td>2020-03-02</td>\n",
       "      <td>309.16</td>\n",
       "      <td>294.46</td>\n",
       "      <td>298.21</td>\n",
       "      <td>309.09</td>\n",
       "      <td>238703600.0</td>\n",
       "      <td>301.45</td>\n",
       "    </tr>\n",
       "    <tr>\n",
       "      <th>2</th>\n",
       "      <td>2020-03-03</td>\n",
       "      <td>313.84</td>\n",
       "      <td>297.57</td>\n",
       "      <td>309.50</td>\n",
       "      <td>300.24</td>\n",
       "      <td>300139100.0</td>\n",
       "      <td>292.82</td>\n",
       "    </tr>\n",
       "    <tr>\n",
       "      <th>3</th>\n",
       "      <td>2020-03-04</td>\n",
       "      <td>313.10</td>\n",
       "      <td>303.33</td>\n",
       "      <td>306.12</td>\n",
       "      <td>312.86</td>\n",
       "      <td>176613400.0</td>\n",
       "      <td>305.12</td>\n",
       "    </tr>\n",
       "    <tr>\n",
       "      <th>4</th>\n",
       "      <td>2020-03-05</td>\n",
       "      <td>308.47</td>\n",
       "      <td>300.01</td>\n",
       "      <td>304.98</td>\n",
       "      <td>302.46</td>\n",
       "      <td>186366800.0</td>\n",
       "      <td>294.98</td>\n",
       "    </tr>\n",
       "  </tbody>\n",
       "</table>\n",
       "</div>"
      ],
      "text/plain": [
       "        date    high     low    open   close       volume  adj_close\n",
       "0 2020-02-28  297.89  285.54  288.70  296.26  384975800.0     288.93\n",
       "1 2020-03-02  309.16  294.46  298.21  309.09  238703600.0     301.45\n",
       "2 2020-03-03  313.84  297.57  309.50  300.24  300139100.0     292.82\n",
       "3 2020-03-04  313.10  303.33  306.12  312.86  176613400.0     305.12\n",
       "4 2020-03-05  308.47  300.01  304.98  302.46  186366800.0     294.98"
      ]
     },
     "execution_count": 3,
     "metadata": {},
     "output_type": "execute_result"
    }
   ],
   "source": [
    "df_spy.reset_index(drop=False, inplace=True)\n",
    "df_spy.columns = df_spy.columns.str.lower().str.replace(' ', '_')\n",
    "df_spy.head()"
   ]
  },
  {
   "cell_type": "markdown",
   "metadata": {},
   "source": [
    "### Exploring a `DataFrame`"
   ]
  },
  {
   "cell_type": "markdown",
   "metadata": {},
   "source": [
    "We can explore our `df_spy` `DataFrame` in a variety of ways.\n",
    "\n",
    "First, we can first use the `type()` method to make sure what we have created is in fact a `DataFrame`."
   ]
  },
  {
   "cell_type": "code",
   "execution_count": 4,
   "metadata": {},
   "outputs": [
    {
     "data": {
      "text/plain": [
       "pandas.core.frame.DataFrame"
      ]
     },
     "execution_count": 4,
     "metadata": {},
     "output_type": "execute_result"
    }
   ],
   "source": [
    "type(df_spy)"
   ]
  },
  {
   "cell_type": "markdown",
   "metadata": {},
   "source": [
    "Next, we can use the `.dtypes` attribute of the `DataFrame` to see the data types of each of the columns."
   ]
  },
  {
   "cell_type": "code",
   "execution_count": 5,
   "metadata": {},
   "outputs": [
    {
     "data": {
      "text/plain": [
       "date         datetime64[ns]\n",
       "high                float64\n",
       "low                 float64\n",
       "open                float64\n",
       "close               float64\n",
       "volume              float64\n",
       "adj_close           float64\n",
       "dtype: object"
      ]
     },
     "execution_count": 5,
     "metadata": {},
     "output_type": "execute_result"
    }
   ],
   "source": [
    "df_spy.dtypes"
   ]
  },
  {
   "cell_type": "markdown",
   "metadata": {},
   "source": [
    "We can also check the number of rows and columns by using the `.shape` attribute."
   ]
  },
  {
   "cell_type": "code",
   "execution_count": 6,
   "metadata": {},
   "outputs": [
    {
     "data": {
      "text/plain": [
       "(23, 7)"
      ]
     },
     "execution_count": 6,
     "metadata": {},
     "output_type": "execute_result"
    }
   ],
   "source": [
    "df_spy.shape"
   ]
  },
  {
   "cell_type": "markdown",
   "metadata": {},
   "source": [
    "As we can see, our dataframe `df_spy` consists of 23 row and 7 columns."
   ]
  },
  {
   "cell_type": "markdown",
   "metadata": {},
   "source": [
    " "
   ]
  },
  {
   "cell_type": "markdown",
   "metadata": {},
   "source": [
    "**Code Challenge:** Try the `DataFrame.info()` and `DataFrame.describe()` methods on `df_spy`."
   ]
  },
  {
   "cell_type": "code",
   "execution_count": 7,
   "metadata": {},
   "outputs": [
    {
     "name": "stdout",
     "output_type": "stream",
     "text": [
      "<class 'pandas.core.frame.DataFrame'>\n",
      "RangeIndex: 23 entries, 0 to 22\n",
      "Data columns (total 7 columns):\n",
      " #   Column     Non-Null Count  Dtype         \n",
      "---  ------     --------------  -----         \n",
      " 0   date       23 non-null     datetime64[ns]\n",
      " 1   high       23 non-null     float64       \n",
      " 2   low        23 non-null     float64       \n",
      " 3   open       23 non-null     float64       \n",
      " 4   close      23 non-null     float64       \n",
      " 5   volume     23 non-null     float64       \n",
      " 6   adj_close  23 non-null     float64       \n",
      "dtypes: datetime64[ns](1), float64(6)\n",
      "memory usage: 1.4 KB\n"
     ]
    }
   ],
   "source": [
    "df_spy.info()"
   ]
  },
  {
   "cell_type": "code",
   "execution_count": 8,
   "metadata": {},
   "outputs": [
    {
     "data": {
      "text/html": [
       "<div>\n",
       "<style scoped>\n",
       "    .dataframe tbody tr th:only-of-type {\n",
       "        vertical-align: middle;\n",
       "    }\n",
       "\n",
       "    .dataframe tbody tr th {\n",
       "        vertical-align: top;\n",
       "    }\n",
       "\n",
       "    .dataframe thead th {\n",
       "        text-align: right;\n",
       "    }\n",
       "</style>\n",
       "<table border=\"1\" class=\"dataframe\">\n",
       "  <thead>\n",
       "    <tr style=\"text-align: right;\">\n",
       "      <th></th>\n",
       "      <th>high</th>\n",
       "      <th>low</th>\n",
       "      <th>open</th>\n",
       "      <th>close</th>\n",
       "      <th>volume</th>\n",
       "      <th>adj_close</th>\n",
       "    </tr>\n",
       "  </thead>\n",
       "  <tbody>\n",
       "    <tr>\n",
       "      <th>count</th>\n",
       "      <td>23.00</td>\n",
       "      <td>23.00</td>\n",
       "      <td>23.00</td>\n",
       "      <td>23.00</td>\n",
       "      <td>2.300000e+01</td>\n",
       "      <td>23.00</td>\n",
       "    </tr>\n",
       "    <tr>\n",
       "      <th>mean</th>\n",
       "      <td>272.47</td>\n",
       "      <td>258.70</td>\n",
       "      <td>264.83</td>\n",
       "      <td>266.16</td>\n",
       "      <td>2.743910e+08</td>\n",
       "      <td>260.07</td>\n",
       "    </tr>\n",
       "    <tr>\n",
       "      <th>std</th>\n",
       "      <td>24.93</td>\n",
       "      <td>26.36</td>\n",
       "      <td>25.84</td>\n",
       "      <td>26.98</td>\n",
       "      <td>6.239095e+07</td>\n",
       "      <td>25.96</td>\n",
       "    </tr>\n",
       "    <tr>\n",
       "      <th>min</th>\n",
       "      <td>229.68</td>\n",
       "      <td>218.26</td>\n",
       "      <td>228.19</td>\n",
       "      <td>222.95</td>\n",
       "      <td>1.713695e+08</td>\n",
       "      <td>218.72</td>\n",
       "    </tr>\n",
       "    <tr>\n",
       "      <th>25%</th>\n",
       "      <td>256.26</td>\n",
       "      <td>237.22</td>\n",
       "      <td>243.70</td>\n",
       "      <td>244.97</td>\n",
       "      <td>2.320808e+08</td>\n",
       "      <td>240.25</td>\n",
       "    </tr>\n",
       "    <tr>\n",
       "      <th>50%</th>\n",
       "      <td>263.33</td>\n",
       "      <td>251.05</td>\n",
       "      <td>256.00</td>\n",
       "      <td>261.20</td>\n",
       "      <td>2.764441e+08</td>\n",
       "      <td>256.24</td>\n",
       "    </tr>\n",
       "    <tr>\n",
       "      <th>75%</th>\n",
       "      <td>293.20</td>\n",
       "      <td>279.52</td>\n",
       "      <td>286.67</td>\n",
       "      <td>292.34</td>\n",
       "      <td>3.177212e+08</td>\n",
       "      <td>285.11</td>\n",
       "    </tr>\n",
       "    <tr>\n",
       "      <th>max</th>\n",
       "      <td>313.84</td>\n",
       "      <td>303.33</td>\n",
       "      <td>309.50</td>\n",
       "      <td>312.86</td>\n",
       "      <td>3.922207e+08</td>\n",
       "      <td>305.12</td>\n",
       "    </tr>\n",
       "  </tbody>\n",
       "</table>\n",
       "</div>"
      ],
      "text/plain": [
       "         high     low    open   close        volume  adj_close\n",
       "count   23.00   23.00   23.00   23.00  2.300000e+01      23.00\n",
       "mean   272.47  258.70  264.83  266.16  2.743910e+08     260.07\n",
       "std     24.93   26.36   25.84   26.98  6.239095e+07      25.96\n",
       "min    229.68  218.26  228.19  222.95  1.713695e+08     218.72\n",
       "25%    256.26  237.22  243.70  244.97  2.320808e+08     240.25\n",
       "50%    263.33  251.05  256.00  261.20  2.764441e+08     256.24\n",
       "75%    293.20  279.52  286.67  292.34  3.177212e+08     285.11\n",
       "max    313.84  303.33  309.50  312.86  3.922207e+08     305.12"
      ]
     },
     "execution_count": 8,
     "metadata": {},
     "output_type": "execute_result"
    }
   ],
   "source": [
    "df_spy.describe().round(2)"
   ]
  },
  {
   "cell_type": "markdown",
   "metadata": {},
   "source": [
    " "
   ]
  },
  {
   "cell_type": "markdown",
   "metadata": {},
   "source": [
    "### `DataFrame` Columns"
   ]
  },
  {
   "cell_type": "markdown",
   "metadata": {},
   "source": [
    "In order to isolate a particular column we can use square brackets (`[ ]`).  The following code isolates the `close` price column of `df_spy`:"
   ]
  },
  {
   "cell_type": "code",
   "execution_count": 9,
   "metadata": {},
   "outputs": [
    {
     "data": {
      "text/plain": [
       "0     296.26\n",
       "1     309.09\n",
       "2     300.24\n",
       "3     312.86\n",
       "4     302.46\n",
       "       ...  \n",
       "18    246.79\n",
       "19    261.20\n",
       "20    253.42\n",
       "21    261.65\n",
       "22    257.75\n",
       "Name: close, Length: 23, dtype: float64"
      ]
     },
     "execution_count": 9,
     "metadata": {},
     "output_type": "execute_result"
    }
   ],
   "source": [
    "df_spy['close']"
   ]
  },
  {
   "cell_type": "markdown",
   "metadata": {},
   "source": [
    " "
   ]
  },
  {
   "cell_type": "markdown",
   "metadata": {},
   "source": [
    " \n",
    "\n",
    "\n",
    "**Code Challenge:** Isolate the `date` column of `df_spy`."
   ]
  },
  {
   "cell_type": "code",
   "execution_count": 10,
   "metadata": {},
   "outputs": [
    {
     "data": {
      "text/plain": [
       "0    2020-02-28\n",
       "1    2020-03-02\n",
       "2    2020-03-03\n",
       "3    2020-03-04\n",
       "4    2020-03-05\n",
       "        ...    \n",
       "18   2020-03-25\n",
       "19   2020-03-26\n",
       "20   2020-03-27\n",
       "21   2020-03-30\n",
       "22   2020-03-31\n",
       "Name: date, Length: 23, dtype: datetime64[ns]"
      ]
     },
     "execution_count": 10,
     "metadata": {},
     "output_type": "execute_result"
    }
   ],
   "source": [
    "df_spy['date']"
   ]
  },
  {
   "cell_type": "markdown",
   "metadata": {},
   "source": [
    " "
   ]
  },
  {
   "cell_type": "markdown",
   "metadata": {},
   "source": [
    "As we can see from the following code, each column of a `DataFrame` is actually a different kind of `pandas` structure called a `Series`. "
   ]
  },
  {
   "cell_type": "code",
   "execution_count": 11,
   "metadata": {},
   "outputs": [
    {
     "data": {
      "text/plain": [
       "pandas.core.series.Series"
      ]
     },
     "execution_count": 11,
     "metadata": {},
     "output_type": "execute_result"
    }
   ],
   "source": [
    "type(df_spy['close'])"
   ]
  },
  {
   "cell_type": "markdown",
   "metadata": {},
   "source": [
    " "
   ]
  },
  {
   "cell_type": "markdown",
   "metadata": {
    "tags": []
   },
   "source": [
    "Here is a bit of `pandas` inside baseball:\n",
    "\n",
    "- A `DataFrame` is collection of columns that are glued together.\n",
    "\n",
    "- Each column is a `Series`.\n",
    "\n",
    "- A `Series` has two main components: 1) `.values`; 2) `.index`.\n",
    "\n",
    "- The `.values` component of a `Series` is a `numpy.array`."
   ]
  },
  {
   "cell_type": "markdown",
   "metadata": {},
   "source": [
    "Let's look at the `.values` attribute of the `close` column of `df_spy`:"
   ]
  },
  {
   "cell_type": "code",
   "execution_count": 12,
   "metadata": {},
   "outputs": [
    {
     "data": {
      "text/plain": [
       "array([296.26, 309.09, 300.24, 312.86, 302.46, 297.46, 274.23, 288.42,\n",
       "       274.36, 248.11, 269.32, 239.85, 252.8 , 240.  , 240.51, 228.8 ,\n",
       "       222.95, 243.15, 246.79, 261.2 , 253.42, 261.65, 257.75])"
      ]
     },
     "execution_count": 12,
     "metadata": {},
     "output_type": "execute_result"
    }
   ],
   "source": [
    "df_spy['close'].values"
   ]
  },
  {
   "cell_type": "markdown",
   "metadata": {},
   "source": [
    " "
   ]
  },
  {
   "cell_type": "markdown",
   "metadata": {},
   "source": [
    "**Code Challenge:** Verify that the `values` component of the `close` column of `df_spy` is in fact a a `numpy.array`."
   ]
  },
  {
   "cell_type": "code",
   "execution_count": 13,
   "metadata": {},
   "outputs": [
    {
     "data": {
      "text/plain": [
       "numpy.ndarray"
      ]
     },
     "execution_count": 13,
     "metadata": {},
     "output_type": "execute_result"
    }
   ],
   "source": [
    "type(df_spy['close'].values)"
   ]
  },
  {
   "cell_type": "markdown",
   "metadata": {},
   "source": [
    "### Component-wise Column Operations"
   ]
  },
  {
   "cell_type": "markdown",
   "metadata": {},
   "source": [
    "We can perform component-wise (i.e. vector-like) calculations with `DataFrame` columns."
   ]
  },
  {
   "cell_type": "markdown",
   "metadata": {},
   "source": [
    "The following code divides all the `close` prices by 100."
   ]
  },
  {
   "cell_type": "code",
   "execution_count": 14,
   "metadata": {},
   "outputs": [
    {
     "data": {
      "text/plain": [
       "0     2.9626\n",
       "1     3.0909\n",
       "2     3.0024\n",
       "3     3.1286\n",
       "4     3.0246\n",
       "       ...  \n",
       "18    2.4679\n",
       "19    2.6120\n",
       "20    2.5342\n",
       "21    2.6165\n",
       "22    2.5775\n",
       "Name: close, Length: 23, dtype: float64"
      ]
     },
     "execution_count": 14,
     "metadata": {},
     "output_type": "execute_result"
    }
   ],
   "source": [
    "df_spy['close'] / 100"
   ]
  },
  {
   "cell_type": "markdown",
   "metadata": {},
   "source": [
    "We can also perform component-wise calculations between two colums.\n",
    "\n",
    "Let's say we want to calculate the *intraday range* of SPY for each of the trade-dates in `df_spy`; this is the difference between the `high` and the `low` of each day.  We can do this easily from the columns of our `DataFrame`."
   ]
  },
  {
   "cell_type": "code",
   "execution_count": 15,
   "metadata": {},
   "outputs": [
    {
     "data": {
      "text/plain": [
       "0     12.35\n",
       "1     14.70\n",
       "2     16.27\n",
       "3      9.77\n",
       "4      8.46\n",
       "      ...  \n",
       "18    16.60\n",
       "19    13.75\n",
       "20     9.76\n",
       "21     8.90\n",
       "22     7.11\n",
       "Length: 23, dtype: float64"
      ]
     },
     "execution_count": 15,
     "metadata": {},
     "output_type": "execute_result"
    }
   ],
   "source": [
    "df_spy['high'] - df_spy['low']"
   ]
  },
  {
   "cell_type": "markdown",
   "metadata": {},
   "source": [
    " "
   ]
  },
  {
   "cell_type": "markdown",
   "metadata": {},
   "source": [
    "**Code Challenge:** Calculate the difference between the `close` and `open` columns of `df_spy`."
   ]
  },
  {
   "cell_type": "code",
   "execution_count": 16,
   "metadata": {},
   "outputs": [
    {
     "data": {
      "text/plain": [
       "0      7.56\n",
       "1     10.88\n",
       "2     -9.26\n",
       "3      6.74\n",
       "4     -2.52\n",
       "      ...  \n",
       "18     1.92\n",
       "19    11.68\n",
       "20     0.15\n",
       "21     5.95\n",
       "22    -2.81\n",
       "Length: 23, dtype: float64"
      ]
     },
     "execution_count": 16,
     "metadata": {},
     "output_type": "execute_result"
    }
   ],
   "source": [
    "df_spy['close'] - df_spy['open']"
   ]
  },
  {
   "cell_type": "markdown",
   "metadata": {},
   "source": [
    " "
   ]
  },
  {
   "cell_type": "markdown",
   "metadata": {},
   "source": [
    "### Adding Columns via Variable Assignment"
   ]
  },
  {
   "cell_type": "markdown",
   "metadata": {},
   "source": [
    "Let's say we want to save our intraday ranges back into `df_spy` for further analysis later.  The most straight forward to do this is using variable assignment as follows:"
   ]
  },
  {
   "cell_type": "code",
   "execution_count": 17,
   "metadata": {},
   "outputs": [
    {
     "data": {
      "text/html": [
       "<div>\n",
       "<style scoped>\n",
       "    .dataframe tbody tr th:only-of-type {\n",
       "        vertical-align: middle;\n",
       "    }\n",
       "\n",
       "    .dataframe tbody tr th {\n",
       "        vertical-align: top;\n",
       "    }\n",
       "\n",
       "    .dataframe thead th {\n",
       "        text-align: right;\n",
       "    }\n",
       "</style>\n",
       "<table border=\"1\" class=\"dataframe\">\n",
       "  <thead>\n",
       "    <tr style=\"text-align: right;\">\n",
       "      <th></th>\n",
       "      <th>date</th>\n",
       "      <th>high</th>\n",
       "      <th>low</th>\n",
       "      <th>open</th>\n",
       "      <th>close</th>\n",
       "      <th>volume</th>\n",
       "      <th>adj_close</th>\n",
       "      <th>intraday_range</th>\n",
       "    </tr>\n",
       "  </thead>\n",
       "  <tbody>\n",
       "    <tr>\n",
       "      <th>0</th>\n",
       "      <td>2020-02-28</td>\n",
       "      <td>297.89</td>\n",
       "      <td>285.54</td>\n",
       "      <td>288.70</td>\n",
       "      <td>296.26</td>\n",
       "      <td>384975800.0</td>\n",
       "      <td>288.93</td>\n",
       "      <td>12.35</td>\n",
       "    </tr>\n",
       "    <tr>\n",
       "      <th>1</th>\n",
       "      <td>2020-03-02</td>\n",
       "      <td>309.16</td>\n",
       "      <td>294.46</td>\n",
       "      <td>298.21</td>\n",
       "      <td>309.09</td>\n",
       "      <td>238703600.0</td>\n",
       "      <td>301.45</td>\n",
       "      <td>14.70</td>\n",
       "    </tr>\n",
       "    <tr>\n",
       "      <th>2</th>\n",
       "      <td>2020-03-03</td>\n",
       "      <td>313.84</td>\n",
       "      <td>297.57</td>\n",
       "      <td>309.50</td>\n",
       "      <td>300.24</td>\n",
       "      <td>300139100.0</td>\n",
       "      <td>292.82</td>\n",
       "      <td>16.27</td>\n",
       "    </tr>\n",
       "    <tr>\n",
       "      <th>3</th>\n",
       "      <td>2020-03-04</td>\n",
       "      <td>313.10</td>\n",
       "      <td>303.33</td>\n",
       "      <td>306.12</td>\n",
       "      <td>312.86</td>\n",
       "      <td>176613400.0</td>\n",
       "      <td>305.12</td>\n",
       "      <td>9.77</td>\n",
       "    </tr>\n",
       "    <tr>\n",
       "      <th>4</th>\n",
       "      <td>2020-03-05</td>\n",
       "      <td>308.47</td>\n",
       "      <td>300.01</td>\n",
       "      <td>304.98</td>\n",
       "      <td>302.46</td>\n",
       "      <td>186366800.0</td>\n",
       "      <td>294.98</td>\n",
       "      <td>8.46</td>\n",
       "    </tr>\n",
       "  </tbody>\n",
       "</table>\n",
       "</div>"
      ],
      "text/plain": [
       "        date    high     low    open   close       volume  adj_close  \\\n",
       "0 2020-02-28  297.89  285.54  288.70  296.26  384975800.0     288.93   \n",
       "1 2020-03-02  309.16  294.46  298.21  309.09  238703600.0     301.45   \n",
       "2 2020-03-03  313.84  297.57  309.50  300.24  300139100.0     292.82   \n",
       "3 2020-03-04  313.10  303.33  306.12  312.86  176613400.0     305.12   \n",
       "4 2020-03-05  308.47  300.01  304.98  302.46  186366800.0     294.98   \n",
       "\n",
       "   intraday_range  \n",
       "0           12.35  \n",
       "1           14.70  \n",
       "2           16.27  \n",
       "3            9.77  \n",
       "4            8.46  "
      ]
     },
     "execution_count": 17,
     "metadata": {},
     "output_type": "execute_result"
    }
   ],
   "source": [
    "df_spy['intraday_range'] = df_spy['high'] - df_spy['low']\n",
    "df_spy.head()"
   ]
  },
  {
   "cell_type": "markdown",
   "metadata": {},
   "source": [
    "**Code Challenge:**  Add a new column to `df_spy` called `open_to_close` that consists of the difference between the `close` and `open` of each day."
   ]
  },
  {
   "cell_type": "code",
   "execution_count": 18,
   "metadata": {},
   "outputs": [
    {
     "data": {
      "text/html": [
       "<div>\n",
       "<style scoped>\n",
       "    .dataframe tbody tr th:only-of-type {\n",
       "        vertical-align: middle;\n",
       "    }\n",
       "\n",
       "    .dataframe tbody tr th {\n",
       "        vertical-align: top;\n",
       "    }\n",
       "\n",
       "    .dataframe thead th {\n",
       "        text-align: right;\n",
       "    }\n",
       "</style>\n",
       "<table border=\"1\" class=\"dataframe\">\n",
       "  <thead>\n",
       "    <tr style=\"text-align: right;\">\n",
       "      <th></th>\n",
       "      <th>date</th>\n",
       "      <th>high</th>\n",
       "      <th>low</th>\n",
       "      <th>open</th>\n",
       "      <th>close</th>\n",
       "      <th>volume</th>\n",
       "      <th>adj_close</th>\n",
       "      <th>intraday_range</th>\n",
       "      <th>open_to_close</th>\n",
       "    </tr>\n",
       "  </thead>\n",
       "  <tbody>\n",
       "    <tr>\n",
       "      <th>0</th>\n",
       "      <td>2020-02-28</td>\n",
       "      <td>297.89</td>\n",
       "      <td>285.54</td>\n",
       "      <td>288.70</td>\n",
       "      <td>296.26</td>\n",
       "      <td>384975800.0</td>\n",
       "      <td>288.93</td>\n",
       "      <td>12.35</td>\n",
       "      <td>7.56</td>\n",
       "    </tr>\n",
       "    <tr>\n",
       "      <th>1</th>\n",
       "      <td>2020-03-02</td>\n",
       "      <td>309.16</td>\n",
       "      <td>294.46</td>\n",
       "      <td>298.21</td>\n",
       "      <td>309.09</td>\n",
       "      <td>238703600.0</td>\n",
       "      <td>301.45</td>\n",
       "      <td>14.70</td>\n",
       "      <td>10.88</td>\n",
       "    </tr>\n",
       "    <tr>\n",
       "      <th>2</th>\n",
       "      <td>2020-03-03</td>\n",
       "      <td>313.84</td>\n",
       "      <td>297.57</td>\n",
       "      <td>309.50</td>\n",
       "      <td>300.24</td>\n",
       "      <td>300139100.0</td>\n",
       "      <td>292.82</td>\n",
       "      <td>16.27</td>\n",
       "      <td>-9.26</td>\n",
       "    </tr>\n",
       "    <tr>\n",
       "      <th>3</th>\n",
       "      <td>2020-03-04</td>\n",
       "      <td>313.10</td>\n",
       "      <td>303.33</td>\n",
       "      <td>306.12</td>\n",
       "      <td>312.86</td>\n",
       "      <td>176613400.0</td>\n",
       "      <td>305.12</td>\n",
       "      <td>9.77</td>\n",
       "      <td>6.74</td>\n",
       "    </tr>\n",
       "    <tr>\n",
       "      <th>4</th>\n",
       "      <td>2020-03-05</td>\n",
       "      <td>308.47</td>\n",
       "      <td>300.01</td>\n",
       "      <td>304.98</td>\n",
       "      <td>302.46</td>\n",
       "      <td>186366800.0</td>\n",
       "      <td>294.98</td>\n",
       "      <td>8.46</td>\n",
       "      <td>-2.52</td>\n",
       "    </tr>\n",
       "  </tbody>\n",
       "</table>\n",
       "</div>"
      ],
      "text/plain": [
       "        date    high     low    open   close       volume  adj_close  \\\n",
       "0 2020-02-28  297.89  285.54  288.70  296.26  384975800.0     288.93   \n",
       "1 2020-03-02  309.16  294.46  298.21  309.09  238703600.0     301.45   \n",
       "2 2020-03-03  313.84  297.57  309.50  300.24  300139100.0     292.82   \n",
       "3 2020-03-04  313.10  303.33  306.12  312.86  176613400.0     305.12   \n",
       "4 2020-03-05  308.47  300.01  304.98  302.46  186366800.0     294.98   \n",
       "\n",
       "   intraday_range  open_to_close  \n",
       "0           12.35           7.56  \n",
       "1           14.70          10.88  \n",
       "2           16.27          -9.26  \n",
       "3            9.77           6.74  \n",
       "4            8.46          -2.52  "
      ]
     },
     "execution_count": 18,
     "metadata": {},
     "output_type": "execute_result"
    }
   ],
   "source": [
    "df_spy['open_to_close'] = df_spy['close'] - df_spy['open']\n",
    "df_spy.head()"
   ]
  },
  {
   "cell_type": "markdown",
   "metadata": {},
   "source": [
    "### Adding Columns via `.assign()` "
   ]
  },
  {
   "cell_type": "markdown",
   "metadata": {},
   "source": [
    "A powerful, but less intuitive of way of adding a column to a `DataFrame` uses the `.assign()` function, which makes use of `lambda` functions (i.e. anonymous functions).  \n",
    "\n",
    "The following code adds another column called `intraday_range_assign`."
   ]
  },
  {
   "cell_type": "code",
   "execution_count": 19,
   "metadata": {},
   "outputs": [
    {
     "data": {
      "text/html": [
       "<div>\n",
       "<style scoped>\n",
       "    .dataframe tbody tr th:only-of-type {\n",
       "        vertical-align: middle;\n",
       "    }\n",
       "\n",
       "    .dataframe tbody tr th {\n",
       "        vertical-align: top;\n",
       "    }\n",
       "\n",
       "    .dataframe thead th {\n",
       "        text-align: right;\n",
       "    }\n",
       "</style>\n",
       "<table border=\"1\" class=\"dataframe\">\n",
       "  <thead>\n",
       "    <tr style=\"text-align: right;\">\n",
       "      <th></th>\n",
       "      <th>date</th>\n",
       "      <th>high</th>\n",
       "      <th>low</th>\n",
       "      <th>open</th>\n",
       "      <th>close</th>\n",
       "      <th>volume</th>\n",
       "      <th>adj_close</th>\n",
       "      <th>intraday_range</th>\n",
       "      <th>open_to_close</th>\n",
       "      <th>intraday_range_assign</th>\n",
       "    </tr>\n",
       "  </thead>\n",
       "  <tbody>\n",
       "    <tr>\n",
       "      <th>0</th>\n",
       "      <td>2020-02-28</td>\n",
       "      <td>297.89</td>\n",
       "      <td>285.54</td>\n",
       "      <td>288.70</td>\n",
       "      <td>296.26</td>\n",
       "      <td>384975800.0</td>\n",
       "      <td>288.93</td>\n",
       "      <td>12.35</td>\n",
       "      <td>7.56</td>\n",
       "      <td>12.35</td>\n",
       "    </tr>\n",
       "    <tr>\n",
       "      <th>1</th>\n",
       "      <td>2020-03-02</td>\n",
       "      <td>309.16</td>\n",
       "      <td>294.46</td>\n",
       "      <td>298.21</td>\n",
       "      <td>309.09</td>\n",
       "      <td>238703600.0</td>\n",
       "      <td>301.45</td>\n",
       "      <td>14.70</td>\n",
       "      <td>10.88</td>\n",
       "      <td>14.70</td>\n",
       "    </tr>\n",
       "    <tr>\n",
       "      <th>2</th>\n",
       "      <td>2020-03-03</td>\n",
       "      <td>313.84</td>\n",
       "      <td>297.57</td>\n",
       "      <td>309.50</td>\n",
       "      <td>300.24</td>\n",
       "      <td>300139100.0</td>\n",
       "      <td>292.82</td>\n",
       "      <td>16.27</td>\n",
       "      <td>-9.26</td>\n",
       "      <td>16.27</td>\n",
       "    </tr>\n",
       "    <tr>\n",
       "      <th>3</th>\n",
       "      <td>2020-03-04</td>\n",
       "      <td>313.10</td>\n",
       "      <td>303.33</td>\n",
       "      <td>306.12</td>\n",
       "      <td>312.86</td>\n",
       "      <td>176613400.0</td>\n",
       "      <td>305.12</td>\n",
       "      <td>9.77</td>\n",
       "      <td>6.74</td>\n",
       "      <td>9.77</td>\n",
       "    </tr>\n",
       "    <tr>\n",
       "      <th>4</th>\n",
       "      <td>2020-03-05</td>\n",
       "      <td>308.47</td>\n",
       "      <td>300.01</td>\n",
       "      <td>304.98</td>\n",
       "      <td>302.46</td>\n",
       "      <td>186366800.0</td>\n",
       "      <td>294.98</td>\n",
       "      <td>8.46</td>\n",
       "      <td>-2.52</td>\n",
       "      <td>8.46</td>\n",
       "    </tr>\n",
       "    <tr>\n",
       "      <th>...</th>\n",
       "      <td>...</td>\n",
       "      <td>...</td>\n",
       "      <td>...</td>\n",
       "      <td>...</td>\n",
       "      <td>...</td>\n",
       "      <td>...</td>\n",
       "      <td>...</td>\n",
       "      <td>...</td>\n",
       "      <td>...</td>\n",
       "      <td>...</td>\n",
       "    </tr>\n",
       "    <tr>\n",
       "      <th>18</th>\n",
       "      <td>2020-03-25</td>\n",
       "      <td>256.35</td>\n",
       "      <td>239.75</td>\n",
       "      <td>244.87</td>\n",
       "      <td>246.79</td>\n",
       "      <td>299430300.0</td>\n",
       "      <td>242.10</td>\n",
       "      <td>16.60</td>\n",
       "      <td>1.92</td>\n",
       "      <td>16.60</td>\n",
       "    </tr>\n",
       "    <tr>\n",
       "      <th>19</th>\n",
       "      <td>2020-03-26</td>\n",
       "      <td>262.80</td>\n",
       "      <td>249.05</td>\n",
       "      <td>249.52</td>\n",
       "      <td>261.20</td>\n",
       "      <td>257632800.0</td>\n",
       "      <td>256.24</td>\n",
       "      <td>13.75</td>\n",
       "      <td>11.68</td>\n",
       "      <td>13.75</td>\n",
       "    </tr>\n",
       "    <tr>\n",
       "      <th>20</th>\n",
       "      <td>2020-03-27</td>\n",
       "      <td>260.81</td>\n",
       "      <td>251.05</td>\n",
       "      <td>253.27</td>\n",
       "      <td>253.42</td>\n",
       "      <td>224341200.0</td>\n",
       "      <td>248.61</td>\n",
       "      <td>9.76</td>\n",
       "      <td>0.15</td>\n",
       "      <td>9.76</td>\n",
       "    </tr>\n",
       "    <tr>\n",
       "      <th>21</th>\n",
       "      <td>2020-03-30</td>\n",
       "      <td>262.43</td>\n",
       "      <td>253.53</td>\n",
       "      <td>255.70</td>\n",
       "      <td>261.65</td>\n",
       "      <td>171369500.0</td>\n",
       "      <td>256.68</td>\n",
       "      <td>8.90</td>\n",
       "      <td>5.95</td>\n",
       "      <td>8.90</td>\n",
       "    </tr>\n",
       "    <tr>\n",
       "      <th>22</th>\n",
       "      <td>2020-03-31</td>\n",
       "      <td>263.33</td>\n",
       "      <td>256.22</td>\n",
       "      <td>260.56</td>\n",
       "      <td>257.75</td>\n",
       "      <td>194881100.0</td>\n",
       "      <td>252.85</td>\n",
       "      <td>7.11</td>\n",
       "      <td>-2.81</td>\n",
       "      <td>7.11</td>\n",
       "    </tr>\n",
       "  </tbody>\n",
       "</table>\n",
       "<p>23 rows × 10 columns</p>\n",
       "</div>"
      ],
      "text/plain": [
       "         date    high     low    open   close       volume  adj_close  \\\n",
       "0  2020-02-28  297.89  285.54  288.70  296.26  384975800.0     288.93   \n",
       "1  2020-03-02  309.16  294.46  298.21  309.09  238703600.0     301.45   \n",
       "2  2020-03-03  313.84  297.57  309.50  300.24  300139100.0     292.82   \n",
       "3  2020-03-04  313.10  303.33  306.12  312.86  176613400.0     305.12   \n",
       "4  2020-03-05  308.47  300.01  304.98  302.46  186366800.0     294.98   \n",
       "..        ...     ...     ...     ...     ...          ...        ...   \n",
       "18 2020-03-25  256.35  239.75  244.87  246.79  299430300.0     242.10   \n",
       "19 2020-03-26  262.80  249.05  249.52  261.20  257632800.0     256.24   \n",
       "20 2020-03-27  260.81  251.05  253.27  253.42  224341200.0     248.61   \n",
       "21 2020-03-30  262.43  253.53  255.70  261.65  171369500.0     256.68   \n",
       "22 2020-03-31  263.33  256.22  260.56  257.75  194881100.0     252.85   \n",
       "\n",
       "    intraday_range  open_to_close  intraday_range_assign  \n",
       "0            12.35           7.56                  12.35  \n",
       "1            14.70          10.88                  14.70  \n",
       "2            16.27          -9.26                  16.27  \n",
       "3             9.77           6.74                   9.77  \n",
       "4             8.46          -2.52                   8.46  \n",
       "..             ...            ...                    ...  \n",
       "18           16.60           1.92                  16.60  \n",
       "19           13.75          11.68                  13.75  \n",
       "20            9.76           0.15                   9.76  \n",
       "21            8.90           5.95                   8.90  \n",
       "22            7.11          -2.81                   7.11  \n",
       "\n",
       "[23 rows x 10 columns]"
      ]
     },
     "execution_count": 19,
     "metadata": {},
     "output_type": "execute_result"
    }
   ],
   "source": [
    "df_spy.assign(intraday_range_assign = lambda df: df['high'] - df['low'])"
   ]
  },
  {
   "cell_type": "markdown",
   "metadata": {},
   "source": [
    "**Code Challenge:** Verify that the column `intraday_range_assign` was not actually added to the `df_spy`."
   ]
  },
  {
   "cell_type": "code",
   "execution_count": 20,
   "metadata": {},
   "outputs": [
    {
     "data": {
      "text/html": [
       "<div>\n",
       "<style scoped>\n",
       "    .dataframe tbody tr th:only-of-type {\n",
       "        vertical-align: middle;\n",
       "    }\n",
       "\n",
       "    .dataframe tbody tr th {\n",
       "        vertical-align: top;\n",
       "    }\n",
       "\n",
       "    .dataframe thead th {\n",
       "        text-align: right;\n",
       "    }\n",
       "</style>\n",
       "<table border=\"1\" class=\"dataframe\">\n",
       "  <thead>\n",
       "    <tr style=\"text-align: right;\">\n",
       "      <th></th>\n",
       "      <th>date</th>\n",
       "      <th>high</th>\n",
       "      <th>low</th>\n",
       "      <th>open</th>\n",
       "      <th>close</th>\n",
       "      <th>volume</th>\n",
       "      <th>adj_close</th>\n",
       "      <th>intraday_range</th>\n",
       "      <th>open_to_close</th>\n",
       "    </tr>\n",
       "  </thead>\n",
       "  <tbody>\n",
       "    <tr>\n",
       "      <th>0</th>\n",
       "      <td>2020-02-28</td>\n",
       "      <td>297.89</td>\n",
       "      <td>285.54</td>\n",
       "      <td>288.70</td>\n",
       "      <td>296.26</td>\n",
       "      <td>384975800.0</td>\n",
       "      <td>288.93</td>\n",
       "      <td>12.35</td>\n",
       "      <td>7.56</td>\n",
       "    </tr>\n",
       "    <tr>\n",
       "      <th>1</th>\n",
       "      <td>2020-03-02</td>\n",
       "      <td>309.16</td>\n",
       "      <td>294.46</td>\n",
       "      <td>298.21</td>\n",
       "      <td>309.09</td>\n",
       "      <td>238703600.0</td>\n",
       "      <td>301.45</td>\n",
       "      <td>14.70</td>\n",
       "      <td>10.88</td>\n",
       "    </tr>\n",
       "    <tr>\n",
       "      <th>2</th>\n",
       "      <td>2020-03-03</td>\n",
       "      <td>313.84</td>\n",
       "      <td>297.57</td>\n",
       "      <td>309.50</td>\n",
       "      <td>300.24</td>\n",
       "      <td>300139100.0</td>\n",
       "      <td>292.82</td>\n",
       "      <td>16.27</td>\n",
       "      <td>-9.26</td>\n",
       "    </tr>\n",
       "    <tr>\n",
       "      <th>3</th>\n",
       "      <td>2020-03-04</td>\n",
       "      <td>313.10</td>\n",
       "      <td>303.33</td>\n",
       "      <td>306.12</td>\n",
       "      <td>312.86</td>\n",
       "      <td>176613400.0</td>\n",
       "      <td>305.12</td>\n",
       "      <td>9.77</td>\n",
       "      <td>6.74</td>\n",
       "    </tr>\n",
       "    <tr>\n",
       "      <th>4</th>\n",
       "      <td>2020-03-05</td>\n",
       "      <td>308.47</td>\n",
       "      <td>300.01</td>\n",
       "      <td>304.98</td>\n",
       "      <td>302.46</td>\n",
       "      <td>186366800.0</td>\n",
       "      <td>294.98</td>\n",
       "      <td>8.46</td>\n",
       "      <td>-2.52</td>\n",
       "    </tr>\n",
       "  </tbody>\n",
       "</table>\n",
       "</div>"
      ],
      "text/plain": [
       "        date    high     low    open   close       volume  adj_close  \\\n",
       "0 2020-02-28  297.89  285.54  288.70  296.26  384975800.0     288.93   \n",
       "1 2020-03-02  309.16  294.46  298.21  309.09  238703600.0     301.45   \n",
       "2 2020-03-03  313.84  297.57  309.50  300.24  300139100.0     292.82   \n",
       "3 2020-03-04  313.10  303.33  306.12  312.86  176613400.0     305.12   \n",
       "4 2020-03-05  308.47  300.01  304.98  302.46  186366800.0     294.98   \n",
       "\n",
       "   intraday_range  open_to_close  \n",
       "0           12.35           7.56  \n",
       "1           14.70          10.88  \n",
       "2           16.27          -9.26  \n",
       "3            9.77           6.74  \n",
       "4            8.46          -2.52  "
      ]
     },
     "execution_count": 20,
     "metadata": {},
     "output_type": "execute_result"
    }
   ],
   "source": [
    "df_spy.head()"
   ]
  },
  {
   "cell_type": "markdown",
   "metadata": {},
   "source": [
    "In order to modify the original `DataFrame` we will need to reassign to the variable."
   ]
  },
  {
   "cell_type": "code",
   "execution_count": 21,
   "metadata": {},
   "outputs": [
    {
     "data": {
      "text/html": [
       "<div>\n",
       "<style scoped>\n",
       "    .dataframe tbody tr th:only-of-type {\n",
       "        vertical-align: middle;\n",
       "    }\n",
       "\n",
       "    .dataframe tbody tr th {\n",
       "        vertical-align: top;\n",
       "    }\n",
       "\n",
       "    .dataframe thead th {\n",
       "        text-align: right;\n",
       "    }\n",
       "</style>\n",
       "<table border=\"1\" class=\"dataframe\">\n",
       "  <thead>\n",
       "    <tr style=\"text-align: right;\">\n",
       "      <th></th>\n",
       "      <th>date</th>\n",
       "      <th>high</th>\n",
       "      <th>low</th>\n",
       "      <th>open</th>\n",
       "      <th>close</th>\n",
       "      <th>volume</th>\n",
       "      <th>adj_close</th>\n",
       "      <th>intraday_range</th>\n",
       "      <th>open_to_close</th>\n",
       "      <th>intraday_range_assign</th>\n",
       "    </tr>\n",
       "  </thead>\n",
       "  <tbody>\n",
       "    <tr>\n",
       "      <th>0</th>\n",
       "      <td>2020-02-28</td>\n",
       "      <td>297.89</td>\n",
       "      <td>285.54</td>\n",
       "      <td>288.70</td>\n",
       "      <td>296.26</td>\n",
       "      <td>384975800.0</td>\n",
       "      <td>288.93</td>\n",
       "      <td>12.35</td>\n",
       "      <td>7.56</td>\n",
       "      <td>12.35</td>\n",
       "    </tr>\n",
       "    <tr>\n",
       "      <th>1</th>\n",
       "      <td>2020-03-02</td>\n",
       "      <td>309.16</td>\n",
       "      <td>294.46</td>\n",
       "      <td>298.21</td>\n",
       "      <td>309.09</td>\n",
       "      <td>238703600.0</td>\n",
       "      <td>301.45</td>\n",
       "      <td>14.70</td>\n",
       "      <td>10.88</td>\n",
       "      <td>14.70</td>\n",
       "    </tr>\n",
       "    <tr>\n",
       "      <th>2</th>\n",
       "      <td>2020-03-03</td>\n",
       "      <td>313.84</td>\n",
       "      <td>297.57</td>\n",
       "      <td>309.50</td>\n",
       "      <td>300.24</td>\n",
       "      <td>300139100.0</td>\n",
       "      <td>292.82</td>\n",
       "      <td>16.27</td>\n",
       "      <td>-9.26</td>\n",
       "      <td>16.27</td>\n",
       "    </tr>\n",
       "    <tr>\n",
       "      <th>3</th>\n",
       "      <td>2020-03-04</td>\n",
       "      <td>313.10</td>\n",
       "      <td>303.33</td>\n",
       "      <td>306.12</td>\n",
       "      <td>312.86</td>\n",
       "      <td>176613400.0</td>\n",
       "      <td>305.12</td>\n",
       "      <td>9.77</td>\n",
       "      <td>6.74</td>\n",
       "      <td>9.77</td>\n",
       "    </tr>\n",
       "    <tr>\n",
       "      <th>4</th>\n",
       "      <td>2020-03-05</td>\n",
       "      <td>308.47</td>\n",
       "      <td>300.01</td>\n",
       "      <td>304.98</td>\n",
       "      <td>302.46</td>\n",
       "      <td>186366800.0</td>\n",
       "      <td>294.98</td>\n",
       "      <td>8.46</td>\n",
       "      <td>-2.52</td>\n",
       "      <td>8.46</td>\n",
       "    </tr>\n",
       "  </tbody>\n",
       "</table>\n",
       "</div>"
      ],
      "text/plain": [
       "        date    high     low    open   close       volume  adj_close  \\\n",
       "0 2020-02-28  297.89  285.54  288.70  296.26  384975800.0     288.93   \n",
       "1 2020-03-02  309.16  294.46  298.21  309.09  238703600.0     301.45   \n",
       "2 2020-03-03  313.84  297.57  309.50  300.24  300139100.0     292.82   \n",
       "3 2020-03-04  313.10  303.33  306.12  312.86  176613400.0     305.12   \n",
       "4 2020-03-05  308.47  300.01  304.98  302.46  186366800.0     294.98   \n",
       "\n",
       "   intraday_range  open_to_close  intraday_range_assign  \n",
       "0           12.35           7.56                  12.35  \n",
       "1           14.70          10.88                  14.70  \n",
       "2           16.27          -9.26                  16.27  \n",
       "3            9.77           6.74                   9.77  \n",
       "4            8.46          -2.52                   8.46  "
      ]
     },
     "execution_count": 21,
     "metadata": {},
     "output_type": "execute_result"
    }
   ],
   "source": [
    "df_spy = df_spy.assign(intraday_range_assign = lambda df: df['high'] - df['low'])\n",
    "df_spy.head()"
   ]
  },
  {
   "cell_type": "markdown",
   "metadata": {},
   "source": [
    " "
   ]
  },
  {
   "cell_type": "markdown",
   "metadata": {},
   "source": [
    "**Code Challenge:** Use `.assign()` to create a new column in `df_spy`, call it `open_to_close_assign`, that contains the difference between the `close` and `open`."
   ]
  },
  {
   "cell_type": "code",
   "execution_count": 22,
   "metadata": {},
   "outputs": [
    {
     "data": {
      "text/html": [
       "<div>\n",
       "<style scoped>\n",
       "    .dataframe tbody tr th:only-of-type {\n",
       "        vertical-align: middle;\n",
       "    }\n",
       "\n",
       "    .dataframe tbody tr th {\n",
       "        vertical-align: top;\n",
       "    }\n",
       "\n",
       "    .dataframe thead th {\n",
       "        text-align: right;\n",
       "    }\n",
       "</style>\n",
       "<table border=\"1\" class=\"dataframe\">\n",
       "  <thead>\n",
       "    <tr style=\"text-align: right;\">\n",
       "      <th></th>\n",
       "      <th>date</th>\n",
       "      <th>high</th>\n",
       "      <th>low</th>\n",
       "      <th>open</th>\n",
       "      <th>close</th>\n",
       "      <th>volume</th>\n",
       "      <th>adj_close</th>\n",
       "      <th>intraday_range</th>\n",
       "      <th>open_to_close</th>\n",
       "      <th>intraday_range_assign</th>\n",
       "      <th>open_to_close_assign</th>\n",
       "    </tr>\n",
       "  </thead>\n",
       "  <tbody>\n",
       "    <tr>\n",
       "      <th>0</th>\n",
       "      <td>2020-02-28</td>\n",
       "      <td>297.89</td>\n",
       "      <td>285.54</td>\n",
       "      <td>288.70</td>\n",
       "      <td>296.26</td>\n",
       "      <td>384975800.0</td>\n",
       "      <td>288.93</td>\n",
       "      <td>12.35</td>\n",
       "      <td>7.56</td>\n",
       "      <td>12.35</td>\n",
       "      <td>7.56</td>\n",
       "    </tr>\n",
       "    <tr>\n",
       "      <th>1</th>\n",
       "      <td>2020-03-02</td>\n",
       "      <td>309.16</td>\n",
       "      <td>294.46</td>\n",
       "      <td>298.21</td>\n",
       "      <td>309.09</td>\n",
       "      <td>238703600.0</td>\n",
       "      <td>301.45</td>\n",
       "      <td>14.70</td>\n",
       "      <td>10.88</td>\n",
       "      <td>14.70</td>\n",
       "      <td>10.88</td>\n",
       "    </tr>\n",
       "    <tr>\n",
       "      <th>2</th>\n",
       "      <td>2020-03-03</td>\n",
       "      <td>313.84</td>\n",
       "      <td>297.57</td>\n",
       "      <td>309.50</td>\n",
       "      <td>300.24</td>\n",
       "      <td>300139100.0</td>\n",
       "      <td>292.82</td>\n",
       "      <td>16.27</td>\n",
       "      <td>-9.26</td>\n",
       "      <td>16.27</td>\n",
       "      <td>-9.26</td>\n",
       "    </tr>\n",
       "    <tr>\n",
       "      <th>3</th>\n",
       "      <td>2020-03-04</td>\n",
       "      <td>313.10</td>\n",
       "      <td>303.33</td>\n",
       "      <td>306.12</td>\n",
       "      <td>312.86</td>\n",
       "      <td>176613400.0</td>\n",
       "      <td>305.12</td>\n",
       "      <td>9.77</td>\n",
       "      <td>6.74</td>\n",
       "      <td>9.77</td>\n",
       "      <td>6.74</td>\n",
       "    </tr>\n",
       "    <tr>\n",
       "      <th>4</th>\n",
       "      <td>2020-03-05</td>\n",
       "      <td>308.47</td>\n",
       "      <td>300.01</td>\n",
       "      <td>304.98</td>\n",
       "      <td>302.46</td>\n",
       "      <td>186366800.0</td>\n",
       "      <td>294.98</td>\n",
       "      <td>8.46</td>\n",
       "      <td>-2.52</td>\n",
       "      <td>8.46</td>\n",
       "      <td>-2.52</td>\n",
       "    </tr>\n",
       "  </tbody>\n",
       "</table>\n",
       "</div>"
      ],
      "text/plain": [
       "        date    high     low    open   close       volume  adj_close  \\\n",
       "0 2020-02-28  297.89  285.54  288.70  296.26  384975800.0     288.93   \n",
       "1 2020-03-02  309.16  294.46  298.21  309.09  238703600.0     301.45   \n",
       "2 2020-03-03  313.84  297.57  309.50  300.24  300139100.0     292.82   \n",
       "3 2020-03-04  313.10  303.33  306.12  312.86  176613400.0     305.12   \n",
       "4 2020-03-05  308.47  300.01  304.98  302.46  186366800.0     294.98   \n",
       "\n",
       "   intraday_range  open_to_close  intraday_range_assign  open_to_close_assign  \n",
       "0           12.35           7.56                  12.35                  7.56  \n",
       "1           14.70          10.88                  14.70                 10.88  \n",
       "2           16.27          -9.26                  16.27                 -9.26  \n",
       "3            9.77           6.74                   9.77                  6.74  \n",
       "4            8.46          -2.52                   8.46                 -2.52  "
      ]
     },
     "execution_count": 22,
     "metadata": {},
     "output_type": "execute_result"
    }
   ],
   "source": [
    "df_spy = df_spy.assign(open_to_close_assign = lambda df: df['close'] - df['open'])\n",
    "df_spy.head()"
   ]
  },
  {
   "cell_type": "markdown",
   "metadata": {},
   "source": [
    "### Method Chaining"
   ]
  },
  {
   "cell_type": "markdown",
   "metadata": {},
   "source": [
    "The value of `.assign()` becomes clear when we start *chaining* methods together.\n",
    "\n",
    "In order to see this, let's first `drop` the columns that we created"
   ]
  },
  {
   "cell_type": "code",
   "execution_count": 23,
   "metadata": {},
   "outputs": [
    {
     "data": {
      "text/html": [
       "<div>\n",
       "<style scoped>\n",
       "    .dataframe tbody tr th:only-of-type {\n",
       "        vertical-align: middle;\n",
       "    }\n",
       "\n",
       "    .dataframe tbody tr th {\n",
       "        vertical-align: top;\n",
       "    }\n",
       "\n",
       "    .dataframe thead th {\n",
       "        text-align: right;\n",
       "    }\n",
       "</style>\n",
       "<table border=\"1\" class=\"dataframe\">\n",
       "  <thead>\n",
       "    <tr style=\"text-align: right;\">\n",
       "      <th></th>\n",
       "      <th>date</th>\n",
       "      <th>high</th>\n",
       "      <th>low</th>\n",
       "      <th>open</th>\n",
       "      <th>close</th>\n",
       "      <th>volume</th>\n",
       "      <th>adj_close</th>\n",
       "    </tr>\n",
       "  </thead>\n",
       "  <tbody>\n",
       "    <tr>\n",
       "      <th>0</th>\n",
       "      <td>2020-02-28</td>\n",
       "      <td>297.89</td>\n",
       "      <td>285.54</td>\n",
       "      <td>288.70</td>\n",
       "      <td>296.26</td>\n",
       "      <td>384975800.0</td>\n",
       "      <td>288.93</td>\n",
       "    </tr>\n",
       "    <tr>\n",
       "      <th>1</th>\n",
       "      <td>2020-03-02</td>\n",
       "      <td>309.16</td>\n",
       "      <td>294.46</td>\n",
       "      <td>298.21</td>\n",
       "      <td>309.09</td>\n",
       "      <td>238703600.0</td>\n",
       "      <td>301.45</td>\n",
       "    </tr>\n",
       "    <tr>\n",
       "      <th>2</th>\n",
       "      <td>2020-03-03</td>\n",
       "      <td>313.84</td>\n",
       "      <td>297.57</td>\n",
       "      <td>309.50</td>\n",
       "      <td>300.24</td>\n",
       "      <td>300139100.0</td>\n",
       "      <td>292.82</td>\n",
       "    </tr>\n",
       "    <tr>\n",
       "      <th>3</th>\n",
       "      <td>2020-03-04</td>\n",
       "      <td>313.10</td>\n",
       "      <td>303.33</td>\n",
       "      <td>306.12</td>\n",
       "      <td>312.86</td>\n",
       "      <td>176613400.0</td>\n",
       "      <td>305.12</td>\n",
       "    </tr>\n",
       "    <tr>\n",
       "      <th>4</th>\n",
       "      <td>2020-03-05</td>\n",
       "      <td>308.47</td>\n",
       "      <td>300.01</td>\n",
       "      <td>304.98</td>\n",
       "      <td>302.46</td>\n",
       "      <td>186366800.0</td>\n",
       "      <td>294.98</td>\n",
       "    </tr>\n",
       "  </tbody>\n",
       "</table>\n",
       "</div>"
      ],
      "text/plain": [
       "        date    high     low    open   close       volume  adj_close\n",
       "0 2020-02-28  297.89  285.54  288.70  296.26  384975800.0     288.93\n",
       "1 2020-03-02  309.16  294.46  298.21  309.09  238703600.0     301.45\n",
       "2 2020-03-03  313.84  297.57  309.50  300.24  300139100.0     292.82\n",
       "3 2020-03-04  313.10  303.33  306.12  312.86  176613400.0     305.12\n",
       "4 2020-03-05  308.47  300.01  304.98  302.46  186366800.0     294.98"
      ]
     },
     "execution_count": 23,
     "metadata": {},
     "output_type": "execute_result"
    }
   ],
   "source": [
    "lst_cols = ['intraday_range', 'open_to_close', 'intraday_range_assign', 'open_to_close_assign']\n",
    "df_spy.drop(columns=lst_cols, inplace=True)\n",
    "df_spy.head()"
   ]
  },
  {
   "cell_type": "markdown",
   "metadata": {},
   "source": [
    "The following code adds the `intraday` and and `open_to_close` columns: "
   ]
  },
  {
   "cell_type": "code",
   "execution_count": 24,
   "metadata": {},
   "outputs": [
    {
     "data": {
      "text/html": [
       "<div>\n",
       "<style scoped>\n",
       "    .dataframe tbody tr th:only-of-type {\n",
       "        vertical-align: middle;\n",
       "    }\n",
       "\n",
       "    .dataframe tbody tr th {\n",
       "        vertical-align: top;\n",
       "    }\n",
       "\n",
       "    .dataframe thead th {\n",
       "        text-align: right;\n",
       "    }\n",
       "</style>\n",
       "<table border=\"1\" class=\"dataframe\">\n",
       "  <thead>\n",
       "    <tr style=\"text-align: right;\">\n",
       "      <th></th>\n",
       "      <th>date</th>\n",
       "      <th>high</th>\n",
       "      <th>low</th>\n",
       "      <th>open</th>\n",
       "      <th>close</th>\n",
       "      <th>volume</th>\n",
       "      <th>adj_close</th>\n",
       "      <th>intraday_range</th>\n",
       "      <th>open_to_close</th>\n",
       "    </tr>\n",
       "  </thead>\n",
       "  <tbody>\n",
       "    <tr>\n",
       "      <th>0</th>\n",
       "      <td>2020-02-28</td>\n",
       "      <td>297.89</td>\n",
       "      <td>285.54</td>\n",
       "      <td>288.70</td>\n",
       "      <td>296.26</td>\n",
       "      <td>384975800.0</td>\n",
       "      <td>288.93</td>\n",
       "      <td>12.35</td>\n",
       "      <td>7.56</td>\n",
       "    </tr>\n",
       "    <tr>\n",
       "      <th>1</th>\n",
       "      <td>2020-03-02</td>\n",
       "      <td>309.16</td>\n",
       "      <td>294.46</td>\n",
       "      <td>298.21</td>\n",
       "      <td>309.09</td>\n",
       "      <td>238703600.0</td>\n",
       "      <td>301.45</td>\n",
       "      <td>14.70</td>\n",
       "      <td>10.88</td>\n",
       "    </tr>\n",
       "    <tr>\n",
       "      <th>2</th>\n",
       "      <td>2020-03-03</td>\n",
       "      <td>313.84</td>\n",
       "      <td>297.57</td>\n",
       "      <td>309.50</td>\n",
       "      <td>300.24</td>\n",
       "      <td>300139100.0</td>\n",
       "      <td>292.82</td>\n",
       "      <td>16.27</td>\n",
       "      <td>-9.26</td>\n",
       "    </tr>\n",
       "    <tr>\n",
       "      <th>3</th>\n",
       "      <td>2020-03-04</td>\n",
       "      <td>313.10</td>\n",
       "      <td>303.33</td>\n",
       "      <td>306.12</td>\n",
       "      <td>312.86</td>\n",
       "      <td>176613400.0</td>\n",
       "      <td>305.12</td>\n",
       "      <td>9.77</td>\n",
       "      <td>6.74</td>\n",
       "    </tr>\n",
       "    <tr>\n",
       "      <th>4</th>\n",
       "      <td>2020-03-05</td>\n",
       "      <td>308.47</td>\n",
       "      <td>300.01</td>\n",
       "      <td>304.98</td>\n",
       "      <td>302.46</td>\n",
       "      <td>186366800.0</td>\n",
       "      <td>294.98</td>\n",
       "      <td>8.46</td>\n",
       "      <td>-2.52</td>\n",
       "    </tr>\n",
       "  </tbody>\n",
       "</table>\n",
       "</div>"
      ],
      "text/plain": [
       "        date    high     low    open   close       volume  adj_close  \\\n",
       "0 2020-02-28  297.89  285.54  288.70  296.26  384975800.0     288.93   \n",
       "1 2020-03-02  309.16  294.46  298.21  309.09  238703600.0     301.45   \n",
       "2 2020-03-03  313.84  297.57  309.50  300.24  300139100.0     292.82   \n",
       "3 2020-03-04  313.10  303.33  306.12  312.86  176613400.0     305.12   \n",
       "4 2020-03-05  308.47  300.01  304.98  302.46  186366800.0     294.98   \n",
       "\n",
       "   intraday_range  open_to_close  \n",
       "0           12.35           7.56  \n",
       "1           14.70          10.88  \n",
       "2           16.27          -9.26  \n",
       "3            9.77           6.74  \n",
       "4            8.46          -2.52  "
      ]
     },
     "execution_count": 24,
     "metadata": {},
     "output_type": "execute_result"
    }
   ],
   "source": [
    "df_spy = \\\n",
    "    (\n",
    "    df_spy\n",
    "        .assign(intraday_range = lambda df: df['high'] - df['low'])\n",
    "        .assign(open_to_close = lambda df: df['close'] - df['open'])\n",
    "    )\n",
    "df_spy.head()"
   ]
  },
  {
   "cell_type": "markdown",
   "metadata": {},
   "source": [
    " "
   ]
  },
  {
   "cell_type": "markdown",
   "metadata": {},
   "source": [
    "**Code Challenge:** Use `.assign()` to add a two new column to `df_spy`:\n",
    "    \n",
    "1. difference betwee the `close` and `adj_close`\n",
    "1. the average of the `low` and `open`"
   ]
  },
  {
   "cell_type": "code",
   "execution_count": 25,
   "metadata": {},
   "outputs": [
    {
     "data": {
      "text/html": [
       "<div>\n",
       "<style scoped>\n",
       "    .dataframe tbody tr th:only-of-type {\n",
       "        vertical-align: middle;\n",
       "    }\n",
       "\n",
       "    .dataframe tbody tr th {\n",
       "        vertical-align: top;\n",
       "    }\n",
       "\n",
       "    .dataframe thead th {\n",
       "        text-align: right;\n",
       "    }\n",
       "</style>\n",
       "<table border=\"1\" class=\"dataframe\">\n",
       "  <thead>\n",
       "    <tr style=\"text-align: right;\">\n",
       "      <th></th>\n",
       "      <th>date</th>\n",
       "      <th>high</th>\n",
       "      <th>low</th>\n",
       "      <th>open</th>\n",
       "      <th>close</th>\n",
       "      <th>volume</th>\n",
       "      <th>adj_close</th>\n",
       "      <th>intraday_range</th>\n",
       "      <th>open_to_close</th>\n",
       "      <th>div</th>\n",
       "      <th>avg</th>\n",
       "    </tr>\n",
       "  </thead>\n",
       "  <tbody>\n",
       "    <tr>\n",
       "      <th>0</th>\n",
       "      <td>2020-02-28</td>\n",
       "      <td>297.89</td>\n",
       "      <td>285.54</td>\n",
       "      <td>288.70</td>\n",
       "      <td>296.26</td>\n",
       "      <td>384975800.0</td>\n",
       "      <td>288.93</td>\n",
       "      <td>12.35</td>\n",
       "      <td>7.56</td>\n",
       "      <td>7.33</td>\n",
       "      <td>287.120</td>\n",
       "    </tr>\n",
       "    <tr>\n",
       "      <th>1</th>\n",
       "      <td>2020-03-02</td>\n",
       "      <td>309.16</td>\n",
       "      <td>294.46</td>\n",
       "      <td>298.21</td>\n",
       "      <td>309.09</td>\n",
       "      <td>238703600.0</td>\n",
       "      <td>301.45</td>\n",
       "      <td>14.70</td>\n",
       "      <td>10.88</td>\n",
       "      <td>7.64</td>\n",
       "      <td>296.335</td>\n",
       "    </tr>\n",
       "    <tr>\n",
       "      <th>2</th>\n",
       "      <td>2020-03-03</td>\n",
       "      <td>313.84</td>\n",
       "      <td>297.57</td>\n",
       "      <td>309.50</td>\n",
       "      <td>300.24</td>\n",
       "      <td>300139100.0</td>\n",
       "      <td>292.82</td>\n",
       "      <td>16.27</td>\n",
       "      <td>-9.26</td>\n",
       "      <td>7.42</td>\n",
       "      <td>303.535</td>\n",
       "    </tr>\n",
       "    <tr>\n",
       "      <th>3</th>\n",
       "      <td>2020-03-04</td>\n",
       "      <td>313.10</td>\n",
       "      <td>303.33</td>\n",
       "      <td>306.12</td>\n",
       "      <td>312.86</td>\n",
       "      <td>176613400.0</td>\n",
       "      <td>305.12</td>\n",
       "      <td>9.77</td>\n",
       "      <td>6.74</td>\n",
       "      <td>7.74</td>\n",
       "      <td>304.725</td>\n",
       "    </tr>\n",
       "    <tr>\n",
       "      <th>4</th>\n",
       "      <td>2020-03-05</td>\n",
       "      <td>308.47</td>\n",
       "      <td>300.01</td>\n",
       "      <td>304.98</td>\n",
       "      <td>302.46</td>\n",
       "      <td>186366800.0</td>\n",
       "      <td>294.98</td>\n",
       "      <td>8.46</td>\n",
       "      <td>-2.52</td>\n",
       "      <td>7.48</td>\n",
       "      <td>302.495</td>\n",
       "    </tr>\n",
       "  </tbody>\n",
       "</table>\n",
       "</div>"
      ],
      "text/plain": [
       "        date    high     low    open   close       volume  adj_close  \\\n",
       "0 2020-02-28  297.89  285.54  288.70  296.26  384975800.0     288.93   \n",
       "1 2020-03-02  309.16  294.46  298.21  309.09  238703600.0     301.45   \n",
       "2 2020-03-03  313.84  297.57  309.50  300.24  300139100.0     292.82   \n",
       "3 2020-03-04  313.10  303.33  306.12  312.86  176613400.0     305.12   \n",
       "4 2020-03-05  308.47  300.01  304.98  302.46  186366800.0     294.98   \n",
       "\n",
       "   intraday_range  open_to_close   div      avg  \n",
       "0           12.35           7.56  7.33  287.120  \n",
       "1           14.70          10.88  7.64  296.335  \n",
       "2           16.27          -9.26  7.42  303.535  \n",
       "3            9.77           6.74  7.74  304.725  \n",
       "4            8.46          -2.52  7.48  302.495  "
      ]
     },
     "execution_count": 25,
     "metadata": {},
     "output_type": "execute_result"
    }
   ],
   "source": [
    "df_spy = \\\n",
    "    (\n",
    "    df_spy\n",
    "        .assign(div = lambda df: df['close'] - df['adj_close'])\n",
    "        .assign(avg = lambda df: (df['low'] + df['open']) / 2)\n",
    "    )\n",
    "df_spy.head()"
   ]
  },
  {
   "cell_type": "markdown",
   "metadata": {},
   "source": [
    "### Aggregating Calulations on `Series`"
   ]
  },
  {
   "cell_type": "markdown",
   "metadata": {},
   "source": [
    "`Series` have a variety of built-in aggregation functions.\n",
    "\n",
    "For example, we can use the following code to calculate the total SPY volume during March 2020:"
   ]
  },
  {
   "cell_type": "code",
   "execution_count": 26,
   "metadata": {},
   "outputs": [
    {
     "data": {
      "text/plain": [
       "6310993400.0"
      ]
     },
     "execution_count": 26,
     "metadata": {},
     "output_type": "execute_result"
    }
   ],
   "source": [
    "df_spy['volume'].sum()"
   ]
  },
  {
   "cell_type": "markdown",
   "metadata": {},
   "source": [
    "Here some summary statistics on the `intraday_range` column that we added to our `DataFrame` earlier."
   ]
  },
  {
   "cell_type": "code",
   "execution_count": 27,
   "metadata": {},
   "outputs": [
    {
     "name": "stdout",
     "output_type": "stream",
     "text": [
      "Mean:  13.774782608695652\n",
      "St Dev: 4.430055273167614\n",
      "Min: 7.109999999999957\n",
      "Max: 22.960000000000008\n"
     ]
    }
   ],
   "source": [
    "print(\"Mean: \", df_spy['intraday_range'].mean()) # average\n",
    "print(\"St Dev:\", df_spy['intraday_range'].std()) # standard deviation\n",
    "print(\"Min:\" , df_spy['intraday_range'].min()) # minimum\n",
    "print(\"Max:\" , df_spy['intraday_range'].max()) # maximum"
   ]
  },
  {
   "cell_type": "markdown",
   "metadata": {},
   "source": [
    " "
   ]
  },
  {
   "cell_type": "markdown",
   "metadata": {},
   "source": [
    "**Code Challenge:** Calculate the average daily volume for the trade dates in `df_spy`."
   ]
  },
  {
   "cell_type": "code",
   "execution_count": 28,
   "metadata": {},
   "outputs": [
    {
     "data": {
      "text/plain": [
       "274391017.3913044"
      ]
     },
     "execution_count": 28,
     "metadata": {},
     "output_type": "execute_result"
    }
   ],
   "source": [
    "df_spy['volume'].mean()"
   ]
  },
  {
   "cell_type": "markdown",
   "metadata": {},
   "source": [
    "## Related Reading"
   ]
  },
  {
   "cell_type": "markdown",
   "metadata": {},
   "source": [
    "*PDSH* - Section 3.1 - Introducing Pandas Objects\n",
    "\n",
    "*PDSH* - Section 2.1 - Understanding Data Types in Python\n",
    "\n",
    "*PDSH* - Section 2.2 - The Basics of NumPy Arrays\n",
    "\n",
    "*PDSH* - Section 2.3 - Computation on NumPy Arrays: Universal Functions\n",
    "\n",
    "*PDSH* - Section 2.4 - Aggregations: Min, Max, and Everything In Between"
   ]
  }
 ],
 "metadata": {
  "kernelspec": {
   "display_name": "Python 3.7.3",
   "language": "python",
   "name": "py3.7.3"
  },
  "language_info": {
   "codemirror_mode": {
    "name": "ipython",
    "version": 3
   },
   "file_extension": ".py",
   "mimetype": "text/x-python",
   "name": "python",
   "nbconvert_exporter": "python",
   "pygments_lexer": "ipython3",
   "version": "3.7.3"
  }
 },
 "nbformat": 4,
 "nbformat_minor": 4
}
