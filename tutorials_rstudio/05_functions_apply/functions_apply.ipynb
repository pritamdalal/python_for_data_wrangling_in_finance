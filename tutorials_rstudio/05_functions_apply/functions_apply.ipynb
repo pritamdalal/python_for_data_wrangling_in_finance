{
 "cells": [
  {
   "cell_type": "markdown",
   "metadata": {},
   "source": [
    "# Functions and `DataFrame.apply()` Method "
   ]
  },
  {
   "cell_type": "markdown",
   "metadata": {},
   "source": [
    "We have already discussed how to add a new column to a `DataFrame` that is a simple function of existing columns.  \n",
    "\n",
    "Suppose the situation is a little more complicated, and that the column we want to add is some kind of custom (user defined) function of existing columns.\n",
    "\n",
    "In this tutorial we discuss two ways of doing this:\n",
    "\n",
    "1. A `for` loop\n",
    "\n",
    "2. `DataFrame.apply()`\n",
    "\n",
    "We will use a finance task to motivate these two techniques: calculating the payoffs of expiring options."
   ]
  },
  {
   "cell_type": "markdown",
   "metadata": {},
   "source": [
    "### Defining Functions"
   ]
  },
  {
   "cell_type": "markdown",
   "metadata": {},
   "source": [
    "Defining functions in Python is straightforward.  They syntax is simply `def function_name(arguments):`.  The following function squares two numbers."
   ]
  },
  {
   "cell_type": "code",
   "execution_count": 1,
   "metadata": {},
   "outputs": [],
   "source": [
    "##> def square(x):\n",
    "##>     sq = x ** 2\n",
    "##>     return(sq)\n",
    "\n",
    "\n"
   ]
  },
  {
   "cell_type": "markdown",
   "metadata": {},
   "source": [
    "Let's verify that our function works:"
   ]
  },
  {
   "cell_type": "code",
   "execution_count": 2,
   "metadata": {},
   "outputs": [],
   "source": [
    "##> print(square(2))\n",
    "##> print(square(5))\n",
    "\n",
    "\n"
   ]
  },
  {
   "cell_type": "markdown",
   "metadata": {},
   "source": [
    "**Code Challenge:** Write a `cube()` function that cubes a number, and along the way, verify that indentation is required after the `def` statement."
   ]
  },
  {
   "cell_type": "code",
   "execution_count": null,
   "metadata": {},
   "outputs": [],
   "source": [
    "\n",
    "\n",
    "\n",
    "\n"
   ]
  },
  {
   "cell_type": "markdown",
   "metadata": {},
   "source": [
    "### Option Payoff Function"
   ]
  },
  {
   "cell_type": "markdown",
   "metadata": {},
   "source": [
    "Let's now write a more financially interesting function.\n",
    "\n",
    "Options are insurance contracts that are written on top of an underlying stock, much like car insurance is written *on top* of your car.  There are two types of options: *puts* and *calls*.  Put options protect you from the stock price going too low, while call options protect you from the stock price going too high.  Both types have a feature called a *strike* price, which acts much like the deductable of your car insurance.  Options expire sometime in the future,  and the payoff (payout) of the option at the time of the expiration is as follows:\n",
    "\n",
    "Let $K$ be the strike price of an option, and let $S_{T}$ price of its underlying at the time of expiration.  Then the payoff of each type of option is as follows:\n",
    "\n",
    "1. **call**: $\\max(S_T - K, 0)$\n",
    "\n",
    "2. **put**: $\\max(K - S_T, 0)$\n",
    "\n",
    "We can codify this as follows:"
   ]
  },
  {
   "cell_type": "code",
   "execution_count": 3,
   "metadata": {},
   "outputs": [],
   "source": [
    "##> def option_payoff(cp, strike, upx):\n",
    "##>     if cp == 'call':\n",
    "##>         payoff = max(upx - strike, 0)\n",
    "##>     elif cp == 'put':\n",
    "##>         payoff = max(strike - upx, 0)\n",
    "##>     \n",
    "##>     return payoff\n",
    "\n",
    "\n"
   ]
  },
  {
   "cell_type": "markdown",
   "metadata": {},
   "source": [
    "Let's verify that our function works:"
   ]
  },
  {
   "cell_type": "code",
   "execution_count": 4,
   "metadata": {},
   "outputs": [],
   "source": [
    "##> print(option_payoff(\"call\", 100, 110))\n",
    "##> print(option_payoff(\"put\", 100, 110))\n",
    "##> print(option_payoff(\"call\", 100, 90))\n",
    "##> print(option_payoff(\"put\", 100, 90))\n",
    "\n",
    "\n"
   ]
  },
  {
   "cell_type": "markdown",
   "metadata": {},
   "source": [
    "### Loading Packages"
   ]
  },
  {
   "cell_type": "markdown",
   "metadata": {},
   "source": [
    "Let's now load the packages that we will need."
   ]
  },
  {
   "cell_type": "code",
   "execution_count": 5,
   "metadata": {},
   "outputs": [],
   "source": [
    "##> import numpy as np\n",
    "##> import pandas as pd\n",
    "\n",
    "\n"
   ]
  },
  {
   "cell_type": "markdown",
   "metadata": {},
   "source": [
    "### Reading-In Data"
   ]
  },
  {
   "cell_type": "markdown",
   "metadata": {},
   "source": [
    "Next, let's read in a data file called `spy_expiring_options.csv`. \n",
    "\n",
    "This data set consists of 21 different options on `SPY` that expired on November 16, 2018.  \n",
    "\n",
    "The `upx` column is the settle price of `SPY` from that day, and it will be used to calculate the payoff of each of these options."
   ]
  },
  {
   "cell_type": "code",
   "execution_count": 6,
   "metadata": {},
   "outputs": [],
   "source": [
    "##> df_opt = pd.read_csv(\"spy_expiring_option.csv\")\n",
    "##> df_opt = df_opt.round(2)\n",
    "##> df_opt.head()\n",
    "\n",
    "\n"
   ]
  },
  {
   "cell_type": "markdown",
   "metadata": {},
   "source": [
    "### Initializing Payoff Columns"
   ]
  },
  {
   "cell_type": "markdown",
   "metadata": {},
   "source": [
    "Our ultimate objective is to add a column of option payoffs to `df_opt`.  We are going to accomplish this task using two different methods: (1) a `for` loop; (2) the `DataFrame.apply()` method.  \n",
    "\n",
    "As a first step, let's add two columns to `df_opt`,  one for each method, and then initialize them both with `np.nan`, which is a special data type that represents missing numerical data."
   ]
  },
  {
   "cell_type": "code",
   "execution_count": 7,
   "metadata": {},
   "outputs": [],
   "source": [
    "##> df_opt['payoff_loop'] = np.nan\n",
    "##> df_opt['payoff_apply'] = np.nan\n",
    "##> df_opt.head()\n",
    "\n",
    "\n"
   ]
  },
  {
   "cell_type": "markdown",
   "metadata": {},
   "source": [
    "### Calculate `option_payoff` via `for` loop"
   ]
  },
  {
   "cell_type": "markdown",
   "metadata": {},
   "source": [
    "Let's iterate through `df_opt` with a `for` loop and calculate the payoffs one by one.  Notice that we are useing the `.at` indexer which is specifically designed to grab a single value from a column."
   ]
  },
  {
   "cell_type": "code",
   "execution_count": 8,
   "metadata": {},
   "outputs": [],
   "source": [
    "##> for ix in df_opt.index:\n",
    "##>     \n",
    "##>     # grabbing data from dataframe\n",
    "##>     opt_type = df_opt.at[ix, 'type']\n",
    "##>     strike = df_opt.at[ix, 'strike']\n",
    "##>     upx = df_opt.at[ix, 'upx']\n",
    "##>     \n",
    "##>     # calculating payoff\n",
    "##>     payoff = option_payoff(opt_type, strike, upx)\n",
    "##>     \n",
    "##>     # writing payoff to dataframe\n",
    "##>     df_opt.at[ix, 'payoff_loop'] = payoff\n",
    "##>       \n",
    "##> df_opt\n",
    "\n",
    "\n"
   ]
  },
  {
   "cell_type": "markdown",
   "metadata": {},
   "source": [
    "### Calculate `opt_pay` via `.apply()`"
   ]
  },
  {
   "cell_type": "markdown",
   "metadata": {},
   "source": [
    "The `DataFrame.apply()` method allows us to perform these calculations without explicitly iterating through `df_opt` with a `for` loop.  It is a way to *vectorize* user defined functions.\n",
    "\n",
    "In order to make use of `.apply()`, we will have to construct our custom payoff function slightly differently.  The following `opt_pay()` function expects as its argument the row of a `DataFrame`:"
   ]
  },
  {
   "cell_type": "code",
   "execution_count": 9,
   "metadata": {},
   "outputs": [],
   "source": [
    "##> def opt_pay(row):\n",
    "##>     # reading function inputs from DataFrame row\n",
    "##>     cp = row['type']\n",
    "##>     strike = row['strike']\n",
    "##>     upx = row['upx']\n",
    "##>     \n",
    "##>     # option payoff logic\n",
    "##>     if cp == 'call':\n",
    "##>         payoff = max(upx - strike, 0)\n",
    "##>     elif cp == 'put':\n",
    "##>         payoff = max(strike - upx, 0)\n",
    "##>     \n",
    "##>     return payoff\n",
    "\n",
    "\n"
   ]
  },
  {
   "cell_type": "markdown",
   "metadata": {},
   "source": [
    "We can use `.apply()` to calculate the payoffs in a single line of code."
   ]
  },
  {
   "cell_type": "code",
   "execution_count": 10,
   "metadata": {},
   "outputs": [],
   "source": [
    "##> df_opt['payoff_apply'] = df_opt.apply(opt_pay, axis = 1)\n",
    "##> df_opt\n",
    "\n",
    "\n"
   ]
  },
  {
   "cell_type": "markdown",
   "metadata": {},
   "source": [
    "**Code Challenge:** Add a column to `df_opt` that identifies if the `upx` is bigger or smaller than `strike`.  Do this by writing a custom function and then using `DataFrame.apply()`."
   ]
  },
  {
   "cell_type": "code",
   "execution_count": null,
   "metadata": {},
   "outputs": [],
   "source": [
    "\n",
    "\n",
    "\n",
    "\n"
   ]
  },
  {
   "cell_type": "markdown",
   "metadata": {},
   "source": [
    "### Related Reading"
   ]
  },
  {
   "cell_type": "markdown",
   "metadata": {},
   "source": [
    "*WTP* - 8 - Control Flow\n",
    "\n",
    "*WTP* - 9 - Defining Functions"
   ]
  }
 ],
 "metadata": {
  "kernelspec": {
   "display_name": "Python 3.7.3",
   "language": "python",
   "name": "py3.7.3"
  },
  "language_info": {
   "codemirror_mode": {
    "name": "ipython",
    "version": 3
   },
   "file_extension": ".py",
   "mimetype": "text/x-python",
   "name": "python",
   "nbconvert_exporter": "python",
   "pygments_lexer": "ipython3",
   "version": "3.7.3"
  }
 },
 "nbformat": 4,
 "nbformat_minor": 4
}
