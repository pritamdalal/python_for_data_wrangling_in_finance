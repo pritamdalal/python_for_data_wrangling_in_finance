{
 "cells": [
  {
   "cell_type": "markdown",
   "metadata": {},
   "source": [
    "# Python Jumpstart"
   ]
  },
  {
   "cell_type": "markdown",
   "metadata": {},
   "source": [
    "The purpose of this tutorial is to introduce *Jupyter Notebook* files, and to give a glimpse of how to use them to work with financial data. \n",
    "\n",
    "In particular, we will visualize stock index data to observe the leverage effect: when the market suffers losses, prices become more volatile."
   ]
  },
  {
   "cell_type": "markdown",
   "metadata": {},
   "source": [
    "### What is a Notebook?"
   ]
  },
  {
   "cell_type": "markdown",
   "metadata": {},
   "source": [
    "This file - the one you are currently interacting with - is a Jupyter Notebook.  \n",
    "\n",
    "The notebook format conveniently allows you to combine words/sentences, computer code, code output (including plots), and mathematical notation.  Notebooks have proven to be a convenient and productive programming environment for data analysis.\n",
    "\n",
    "For those of you familiar with R, a Jupyter Notebook is similar in functionality to R Markdown notebooks.\n",
    "\n",
    "Behind the scenes of a Jupyter Notebook is a *kernel* that is responsible for executing computations.  The kernel can live locally on your machine or on a remote server."
   ]
  },
  {
   "cell_type": "markdown",
   "metadata": {},
   "source": [
    "### Code Cells"
   ]
  },
  {
   "cell_type": "markdown",
   "metadata": {},
   "source": [
    "A notebook is structured as a sequence of *cells*.  There are two kinds of cells: 1) code cells that contain code; 2) markdown cells which contain markdown or latex."
   ]
  },
  {
   "cell_type": "markdown",
   "metadata": {},
   "source": [
    "The cell below is a code cell - try typing the code that is commented out and the press **shift + enter**."
   ]
  },
  {
   "cell_type": "code",
   "execution_count": null,
   "metadata": {},
   "outputs": [],
   "source": [
    "##> from IPython.display import Image\n",
    "##> Image(\"not_ethical.png\")\n",
    "\n",
    "\n"
   ]
  },
  {
   "cell_type": "markdown",
   "metadata": {},
   "source": [
    " "
   ]
  },
  {
   "cell_type": "markdown",
   "metadata": {},
   "source": [
    "### Edit Mode vs Command Mode"
   ]
  },
  {
   "cell_type": "markdown",
   "metadata": {},
   "source": [
    "There are two modes in a notebook: 1) **edit** mode; 2) **command** mode.  \n",
    "\n",
    "In **edit** mode you are *inside* a cell and you can edit the contents of the cell.  \n",
    "\n",
    "In **command** mode, you are *outside* the cells and you can navigate between them.  "
   ]
  },
  {
   "cell_type": "markdown",
   "metadata": {},
   "source": [
    "### Keyboard Shortcuts"
   ]
  },
  {
   "cell_type": "markdown",
   "metadata": {},
   "source": [
    "Here are some of my favorite keyboard shortcuts:\n",
    "\n",
    "edit mode: **enter**\n",
    "\n",
    "command mode: **esc**\n",
    "\n",
    "navigate up: **k**\n",
    "\n",
    "navigate down: **j**\n",
    "\n",
    "insert cell above: **a**\n",
    "\n",
    "insert cell below: **b**\n",
    "\n",
    "delete cell: **d, d** (press **d** twice)\n",
    "\n",
    "switch to code cell: **y**\n",
    "\n",
    "switch to markup cell: **m**\n",
    "\n",
    "execute and stay on current cell: **ctrl + enter**\n",
    "\n",
    "execute and move down a cell: **shift + enter**"
   ]
  },
  {
   "cell_type": "markdown",
   "metadata": {},
   "source": [
    "### Drop Down Menus"
   ]
  },
  {
   "cell_type": "markdown",
   "metadata": {},
   "source": [
    "Here are a few of the drop down menu functions that I use frequently:"
   ]
  },
  {
   "cell_type": "markdown",
   "metadata": {},
   "source": [
    "*Kernel > Restart Kernel and Clear All Outputs*\n",
    "\n",
    "*Kernel > Restart Kearnel and Run All Cells*\n",
    "\n",
    "*Run > Run All Above Selected Cell*"
   ]
  },
  {
   "cell_type": "markdown",
   "metadata": {},
   "source": [
    "### Importing Packages"
   ]
  },
  {
   "cell_type": "markdown",
   "metadata": {},
   "source": [
    "The power and convenience of Python as a data analysis tool comes from the ecosystem of freely available third party packages.\n",
    "\n",
    "Here are the packages that we will be using in this tutorial:\n",
    "\n",
    "`numpy` - efficient vector and matrix computations\n",
    "\n",
    "`pandas` - working with `DataFrames`\n",
    "\n",
    "`pandas_datareader` - reading data from Yahoo Finance\n",
    "\n",
    "The following code imports these packages and assigns them each an alias."
   ]
  },
  {
   "cell_type": "code",
   "execution_count": null,
   "metadata": {},
   "outputs": [],
   "source": [
    "##> import numpy as np\n",
    "##> import pandas as pd\n",
    "##> import pandas_datareader as pdr\n",
    "\n",
    "\n"
   ]
  },
  {
   "cell_type": "markdown",
   "metadata": {},
   "source": [
    " "
   ]
  },
  {
   "cell_type": "markdown",
   "metadata": {},
   "source": [
    "### Reading-In Stock Data into a `DataFrame`"
   ]
  },
  {
   "cell_type": "markdown",
   "metadata": {},
   "source": [
    "Let's begin by reading in 5 years of SPY price data from Yahoo Finance.  \n",
    "\n",
    "SPY is an ETF that tracks the performace of the SP500 stock index."
   ]
  },
  {
   "cell_type": "code",
   "execution_count": null,
   "metadata": {},
   "outputs": [],
   "source": [
    "##> df_spy = pdr.get_data_yahoo('SPY', start='2014-01-01', end='2019-01-01')\n",
    "##> df_spy = df_spy.round(2)\n",
    "##> df_spy.head()\n",
    "\n",
    "\n"
   ]
  },
  {
   "cell_type": "markdown",
   "metadata": {},
   "source": [
    "Our stock data now lives in the variable called `df_spy`, which is a `pandas` data structure known as a `DataFrame`.  We can see this by using the following code:"
   ]
  },
  {
   "cell_type": "code",
   "execution_count": null,
   "metadata": {},
   "outputs": [],
   "source": [
    "##> type(df_spy)\n",
    "\n"
   ]
  },
  {
   "cell_type": "markdown",
   "metadata": {},
   "source": [
    " "
   ]
  },
  {
   "cell_type": "markdown",
   "metadata": {},
   "source": [
    "### `DataFrame` Index"
   ]
  },
  {
   "cell_type": "markdown",
   "metadata": {},
   "source": [
    "In `pandas`, a `DataFrame` always has an index.  For `df_spy` the `Dates` form the index."
   ]
  },
  {
   "cell_type": "code",
   "execution_count": null,
   "metadata": {},
   "outputs": [],
   "source": [
    "##> df_spy.index\n",
    "\n"
   ]
  },
  {
   "cell_type": "markdown",
   "metadata": {},
   "source": [
    "I don't use indices very much, so let's make the `Date` index just a regular column.  Notice that we can modify `DataFrames` inplace."
   ]
  },
  {
   "cell_type": "code",
   "execution_count": null,
   "metadata": {},
   "outputs": [],
   "source": [
    "##> df_spy.reset_index(inplace=True)\n",
    "##> df_spy\n",
    "\n",
    "\n"
   ]
  },
  {
   "cell_type": "markdown",
   "metadata": {},
   "source": [
    "Notice that `df_spy` still has an index, now it's just a sequence of integers."
   ]
  },
  {
   "cell_type": "code",
   "execution_count": null,
   "metadata": {},
   "outputs": [],
   "source": [
    "##> df_spy.index\n",
    "\n"
   ]
  },
  {
   "cell_type": "markdown",
   "metadata": {},
   "source": [
    " "
   ]
  },
  {
   "cell_type": "markdown",
   "metadata": {},
   "source": [
    "### A Bit of Cleaning"
   ]
  },
  {
   "cell_type": "markdown",
   "metadata": {},
   "source": [
    "As a matter of preference, I like to make my column names snake case."
   ]
  },
  {
   "cell_type": "code",
   "execution_count": null,
   "metadata": {},
   "outputs": [],
   "source": [
    "##> df_spy.columns = df_spy.columns.str.lower().str.replace(' ','_')\n",
    "##> df_spy.head()\n",
    "\n",
    "\n"
   ]
  },
  {
   "cell_type": "markdown",
   "metadata": {},
   "source": [
    "Let's also remove the columns that we won't need.  We first create a `list` of the column names that we want to get rid of and then we use the `DataFrame.drop()` method."
   ]
  },
  {
   "cell_type": "code",
   "execution_count": null,
   "metadata": {},
   "outputs": [],
   "source": [
    "##> lst_cols = ['high', 'low', 'open', 'close', 'volume',]\n",
    "##> df_spy.drop(columns=lst_cols, inplace=True)\n",
    "##> df_spy.head()\n",
    "\n",
    "\n"
   ]
  },
  {
   "cell_type": "markdown",
   "metadata": {},
   "source": [
    "Notice that trailing commas are not an issue in Python."
   ]
  },
  {
   "cell_type": "markdown",
   "metadata": {},
   "source": [
    "### `Series`"
   ]
  },
  {
   "cell_type": "markdown",
   "metadata": {},
   "source": [
    "You can isolate the columns of a `DataFrame` with square brackets as follows:"
   ]
  },
  {
   "cell_type": "code",
   "execution_count": null,
   "metadata": {},
   "outputs": [],
   "source": [
    "##> df_spy['adj_close']\n",
    "\n"
   ]
  },
  {
   "cell_type": "markdown",
   "metadata": {},
   "source": [
    " "
   ]
  },
  {
   "cell_type": "markdown",
   "metadata": {},
   "source": [
    "The columns of a `DataFrame` are a `pandas` data structure called a `Series`."
   ]
  },
  {
   "cell_type": "code",
   "execution_count": null,
   "metadata": {},
   "outputs": [],
   "source": [
    "##> type(df_spy['adj_close'])\n",
    "\n"
   ]
  },
  {
   "cell_type": "markdown",
   "metadata": {},
   "source": [
    " "
   ]
  },
  {
   "cell_type": "markdown",
   "metadata": {},
   "source": [
    "###  `numpy` and `ndarrays`"
   ]
  },
  {
   "cell_type": "markdown",
   "metadata": {},
   "source": [
    "Python is a general purpose programming language and was not created for scientific computing in particular.  One of the foundational packages that makes Python well suited to scientific computing is `numpy`, which has a variety of features including a data type called `ndarrays`.  One of the benefits of `ndarrays` is that they allow for efficient vector and matrix computation."
   ]
  },
  {
   "cell_type": "markdown",
   "metadata": {},
   "source": [
    "The `values` of a `Series` object is a `numpy.ndarray`.  This is one sense in which `pandas` is *built on top of* `numpy`."
   ]
  },
  {
   "cell_type": "code",
   "execution_count": null,
   "metadata": {},
   "outputs": [],
   "source": [
    "##> df_spy['adj_close'].values\n",
    "\n"
   ]
  },
  {
   "cell_type": "code",
   "execution_count": null,
   "metadata": {},
   "outputs": [],
   "source": [
    "##> type(df_spy['adj_close'].values)\n",
    "\n"
   ]
  },
  {
   "cell_type": "markdown",
   "metadata": {},
   "source": [
    " "
   ]
  },
  {
   "cell_type": "markdown",
   "metadata": {},
   "source": [
    "### `Series` Built-In Methods"
   ]
  },
  {
   "cell_type": "markdown",
   "metadata": {},
   "source": [
    "`Series` have a variety of built-in methods that provide convenient summarization and modification functionality.  For example, you can `.sum()` all the elements of the `Series`."
   ]
  },
  {
   "cell_type": "code",
   "execution_count": null,
   "metadata": {},
   "outputs": [],
   "source": [
    "##> df_spy['adj_close'].sum()\n",
    "\n"
   ]
  },
  {
   "cell_type": "markdown",
   "metadata": {},
   "source": [
    "Next, we calculate the standard deviation of all the elements of the `Series`."
   ]
  },
  {
   "cell_type": "code",
   "execution_count": null,
   "metadata": {},
   "outputs": [],
   "source": [
    "##> df_spy['adj_close'].std()\n",
    "\n"
   ]
  },
  {
   "cell_type": "markdown",
   "metadata": {},
   "source": [
    "The `.shift()` built-in method will be useful for calculating returns in the next section."
   ]
  },
  {
   "cell_type": "code",
   "execution_count": null,
   "metadata": {},
   "outputs": [],
   "source": [
    "##> df_spy['adj_close'].shift()\n",
    "\n"
   ]
  },
  {
   "cell_type": "markdown",
   "metadata": {},
   "source": [
    " "
   ]
  },
  {
   "cell_type": "markdown",
   "metadata": {},
   "source": [
    "### Calculating Daily Returns"
   ]
  },
  {
   "cell_type": "markdown",
   "metadata": {},
   "source": [
    "Our analysis analysis of the leverage effect will involve daily returns for all the days in `df_spy`.  Let's calculate those now.\n",
    "\n",
    "Recall that the end-of-day day $t$ return of a stock is defined as: $r_{t} = \\frac{S_{t}}{S_{t-1}} - 1$, where $S_{t}$ is the stock price at end-of-day $t$.\n",
    "\n",
    "Here is a vectorized approach to calculating all the daily returns in a single line of code."
   ]
  },
  {
   "cell_type": "code",
   "execution_count": null,
   "metadata": {},
   "outputs": [],
   "source": [
    "##> df_spy['ret'] = df_spy['adj_close'] / df_spy['adj_close'].shift(1) - 1\n",
    "##> df_spy.head()\n",
    "\n"
   ]
  },
  {
   "cell_type": "markdown",
   "metadata": {},
   "source": [
    "Notice that we can create a new column of a `DataFrame` by using variable assignment syntax."
   ]
  },
  {
   "cell_type": "markdown",
   "metadata": {},
   "source": [
    "### Visualizing Adjusted Close Prices"
   ]
  },
  {
   "cell_type": "markdown",
   "metadata": {},
   "source": [
    "Python has a variety of packages that can be used for visualization.  For this tutorial, we will focus on built-in plotting capabilities of `pandas`.  These capabilities are built on top of the `matplotlib` package, which is the foundation of much of Python's visualization ecosystem."
   ]
  },
  {
   "cell_type": "markdown",
   "metadata": {},
   "source": [
    "`DataFrames` have a built-in `.plot()` method that makes creating simple line graphs quite easy."
   ]
  },
  {
   "cell_type": "code",
   "execution_count": null,
   "metadata": {},
   "outputs": [],
   "source": [
    "##> df_spy.plot(x='date', y='adj_close');\n",
    "\n"
   ]
  },
  {
   "cell_type": "markdown",
   "metadata": {},
   "source": [
    "If we wanted to make this graph more presentable we could do something like:"
   ]
  },
  {
   "cell_type": "code",
   "execution_count": null,
   "metadata": {},
   "outputs": [],
   "source": [
    "##> ax = df_spy.\\\n",
    "##>         plot(\n",
    "##>             x = 'date',\n",
    "##>             y = 'adj_close',\n",
    "##>             title = 'SPY: 2014-2018',\n",
    "##>             grid = True,\n",
    "##>             style = 'k',\n",
    "##>             alpha = 0.75,\n",
    "##>             figsize = (9, 4),\n",
    "##>         );\n",
    "##> ax.set_xlabel('Trade Date');\n",
    "##> ax.set_ylabel('Close Price');\n",
    "\n",
    "\n"
   ]
  },
  {
   "cell_type": "markdown",
   "metadata": {},
   "source": [
    "Notice that the `ax` variable created above is a `matplotlib` object."
   ]
  },
  {
   "cell_type": "code",
   "execution_count": null,
   "metadata": {},
   "outputs": [],
   "source": [
    "##> type(ax)\n",
    "\n"
   ]
  },
  {
   "cell_type": "markdown",
   "metadata": {},
   "source": [
    "  "
   ]
  },
  {
   "cell_type": "markdown",
   "metadata": {},
   "source": [
    "### Visualizing Returns"
   ]
  },
  {
   "cell_type": "markdown",
   "metadata": {},
   "source": [
    "Pandas also gives us the ability to simultaneously plot two different columns of a `DataFrame` in separate subplots of a single graph.  Here is what that code looks like:"
   ]
  },
  {
   "cell_type": "code",
   "execution_count": null,
   "metadata": {},
   "outputs": [],
   "source": [
    "##> df_spy.plot(x='date', y=['adj_close', 'ret',], subplots=True, style='k', alpha=0.75, figsize=(9, 8), grid=True);\n",
    "\n"
   ]
  },
  {
   "cell_type": "markdown",
   "metadata": {},
   "source": [
    "The `returns` graph above is a bit of a hack, but it's used all the time in finance to demonstrate volatility clustering.\n",
    "\n",
    "Notice that whenever there is a sharp drop in the `adj_close` price graph, that the magnitude of the nearby returns becomes large.  In contrast, during periods of steady growth (e.g. all of 2017) the magnitude of the returns is small."
   ]
  },
  {
   "cell_type": "markdown",
   "metadata": {},
   "source": [
    "### Calculating Realized Volatility"
   ]
  },
  {
   "cell_type": "markdown",
   "metadata": {},
   "source": [
    "Realized volatility is defined as the standard deviation of the daily returns; it indicates how much variability in the stock price there has been.  It is a matter of convention to annualize this quantity, so we multiply it by $\\sqrt{252}$.\n",
    "\n",
    "The following vectorized code calculates a rolling 2-month volatility for our SPY price data."
   ]
  },
  {
   "cell_type": "code",
   "execution_count": null,
   "metadata": {},
   "outputs": [],
   "source": [
    "##> df_spy['ret'].rolling(42).std() * np.sqrt(252)\n",
    "\n"
   ]
  },
  {
   "cell_type": "markdown",
   "metadata": {},
   "source": [
    "Let's add these realized volatility calculations to`df_spy` this with the following code: "
   ]
  },
  {
   "cell_type": "code",
   "execution_count": null,
   "metadata": {},
   "outputs": [],
   "source": [
    "##> df_spy['realized_vol'] = df_spy['ret'].rolling(42).std() * np.sqrt(252)\n",
    "##> df_spy\n",
    "\n",
    "\n"
   ]
  },
  {
   "cell_type": "markdown",
   "metadata": {},
   "source": [
    " "
   ]
  },
  {
   "cell_type": "markdown",
   "metadata": {},
   "source": [
    "### Visualizing Realized Volatility"
   ]
  },
  {
   "cell_type": "markdown",
   "metadata": {},
   "source": [
    "We can easily add `realized_vol` to our graph with the following code:"
   ]
  },
  {
   "cell_type": "code",
   "execution_count": null,
   "metadata": {},
   "outputs": [],
   "source": [
    "##> df_spy.plot(x = 'date', y = ['adj_close','ret','realized_vol',], subplots=True, style='k', alpha=0.75, figsize=(9, 12), grid=True);\n",
    "\n"
   ]
  },
  {
   "cell_type": "markdown",
   "metadata": {},
   "source": [
    "This graph is an excellent illustration of the leverage effect.  When SPY suffers losses, there is a spike in realized volatility, which is to say that the magnitude of the nearby returns increases."
   ]
  },
  {
   "cell_type": "markdown",
   "metadata": {},
   "source": [
    "## Further Reading"
   ]
  },
  {
   "cell_type": "markdown",
   "metadata": {},
   "source": [
    "*Python Data Science Handbook* - Jake VanderPlas\n",
    "\n",
    "*Python for Finance* - Yves Hilpisch\n",
    "\n",
    "*Python for Data Analysis* - Wes McKinney\n",
    "\n",
    "*Automate the Boring Stuff* - Al Sweigert"
   ]
  }
 ],
 "metadata": {
  "kernelspec": {
   "display_name": "Python 3.7.3",
   "language": "python",
   "name": "py3.7.3"
  },
  "language_info": {
   "codemirror_mode": {
    "name": "ipython",
    "version": 3
   },
   "file_extension": ".py",
   "mimetype": "text/x-python",
   "name": "python",
   "nbconvert_exporter": "python",
   "pygments_lexer": "ipython3",
   "version": "3.7.3"
  }
 },
 "nbformat": 4,
 "nbformat_minor": 4
}
