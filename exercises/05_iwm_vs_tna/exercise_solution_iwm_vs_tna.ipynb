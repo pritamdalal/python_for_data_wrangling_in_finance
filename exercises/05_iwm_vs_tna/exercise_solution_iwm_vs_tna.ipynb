{
 "cells": [
  {
   "cell_type": "markdown",
   "metadata": {},
   "source": [
    "# Exercise 5 - IWM vs TNA"
   ]
  },
  {
   "cell_type": "markdown",
   "metadata": {},
   "source": [
    "The purpose of this exercise is to perform a correlation and volatility analysis on two ETFs: IWM and TNA. Here is a brief description of each:\n",
    "\n",
    "**IWM** - tracks the Russell 2000 Index.\n",
    "\n",
    "**TNA** - a leveraged ETF who's returns aim to be 300% of the Russell 2000 Index.\n",
    "\n",
    "This exercise is going to be a bit more challenging in that some of the questions involve multiple steps and I won't be walking you through each step."
   ]
  },
  {
   "cell_type": "markdown",
   "metadata": {},
   "source": [
    "#### 0) What should you do at the beginning of any notebook?"
   ]
  },
  {
   "cell_type": "code",
   "execution_count": 1,
   "metadata": {},
   "outputs": [],
   "source": [
    "import numpy as np\n",
    "import pandas as pd"
   ]
  },
  {
   "cell_type": "markdown",
   "metadata": {},
   "source": [
    "#### 1) Based on the above descriptions of the ETFs, if $\\sigma_{I}$ is the volatility of IWM and $\\sigma_{T}$ is the volatility of TNA, what number would expect the volatility ratio $\\sigma_{T} / \\sigma_{I}$ to be close to?"
   ]
  },
  {
   "cell_type": "markdown",
   "metadata": {},
   "source": [
    "*Since TNA is suppose to return 3x of IWM, the volatilty ratio should be close to 3.*"
   ]
  },
  {
   "cell_type": "markdown",
   "metadata": {},
   "source": [
    "#### 2) Read-in the CSV named `iwm_tna_2014_2018.csv` and make sure that the data is from 2014-2018."
   ]
  },
  {
   "cell_type": "code",
   "execution_count": 2,
   "metadata": {},
   "outputs": [
    {
     "data": {
      "text/html": [
       "<div>\n",
       "<style scoped>\n",
       "    .dataframe tbody tr th:only-of-type {\n",
       "        vertical-align: middle;\n",
       "    }\n",
       "\n",
       "    .dataframe tbody tr th {\n",
       "        vertical-align: top;\n",
       "    }\n",
       "\n",
       "    .dataframe thead th {\n",
       "        text-align: right;\n",
       "    }\n",
       "</style>\n",
       "<table border=\"1\" class=\"dataframe\">\n",
       "  <thead>\n",
       "    <tr style=\"text-align: right;\">\n",
       "      <th></th>\n",
       "      <th>symbol</th>\n",
       "      <th>date</th>\n",
       "      <th>open</th>\n",
       "      <th>high</th>\n",
       "      <th>low</th>\n",
       "      <th>close</th>\n",
       "      <th>volume</th>\n",
       "      <th>adjusted</th>\n",
       "      <th>return</th>\n",
       "    </tr>\n",
       "  </thead>\n",
       "  <tbody>\n",
       "    <tr>\n",
       "      <th>0</th>\n",
       "      <td>IWM</td>\n",
       "      <td>2014-01-02</td>\n",
       "      <td>115.089996</td>\n",
       "      <td>115.120003</td>\n",
       "      <td>113.639999</td>\n",
       "      <td>114.110001</td>\n",
       "      <td>44247700</td>\n",
       "      <td>106.608597</td>\n",
       "      <td>0.000000</td>\n",
       "    </tr>\n",
       "    <tr>\n",
       "      <th>1</th>\n",
       "      <td>IWM</td>\n",
       "      <td>2014-01-03</td>\n",
       "      <td>114.529999</td>\n",
       "      <td>114.900002</td>\n",
       "      <td>114.110001</td>\n",
       "      <td>114.690002</td>\n",
       "      <td>26468000</td>\n",
       "      <td>107.150459</td>\n",
       "      <td>0.005083</td>\n",
       "    </tr>\n",
       "    <tr>\n",
       "      <th>2</th>\n",
       "      <td>IWM</td>\n",
       "      <td>2014-01-06</td>\n",
       "      <td>115.220001</td>\n",
       "      <td>115.269997</td>\n",
       "      <td>113.709999</td>\n",
       "      <td>113.760002</td>\n",
       "      <td>36198000</td>\n",
       "      <td>106.281593</td>\n",
       "      <td>-0.008109</td>\n",
       "    </tr>\n",
       "    <tr>\n",
       "      <th>3</th>\n",
       "      <td>IWM</td>\n",
       "      <td>2014-01-07</td>\n",
       "      <td>114.190002</td>\n",
       "      <td>115.160004</td>\n",
       "      <td>114.110001</td>\n",
       "      <td>114.709999</td>\n",
       "      <td>28545300</td>\n",
       "      <td>107.169136</td>\n",
       "      <td>0.008351</td>\n",
       "    </tr>\n",
       "    <tr>\n",
       "      <th>4</th>\n",
       "      <td>IWM</td>\n",
       "      <td>2014-01-08</td>\n",
       "      <td>114.779999</td>\n",
       "      <td>115.080002</td>\n",
       "      <td>114.070000</td>\n",
       "      <td>114.860001</td>\n",
       "      <td>30763600</td>\n",
       "      <td>107.309288</td>\n",
       "      <td>0.001308</td>\n",
       "    </tr>\n",
       "  </tbody>\n",
       "</table>\n",
       "</div>"
      ],
      "text/plain": [
       "  symbol        date        open        high         low       close  \\\n",
       "0    IWM  2014-01-02  115.089996  115.120003  113.639999  114.110001   \n",
       "1    IWM  2014-01-03  114.529999  114.900002  114.110001  114.690002   \n",
       "2    IWM  2014-01-06  115.220001  115.269997  113.709999  113.760002   \n",
       "3    IWM  2014-01-07  114.190002  115.160004  114.110001  114.709999   \n",
       "4    IWM  2014-01-08  114.779999  115.080002  114.070000  114.860001   \n",
       "\n",
       "     volume    adjusted    return  \n",
       "0  44247700  106.608597  0.000000  \n",
       "1  26468000  107.150459  0.005083  \n",
       "2  36198000  106.281593 -0.008109  \n",
       "3  28545300  107.169136  0.008351  \n",
       "4  30763600  107.309288  0.001308  "
      ]
     },
     "execution_count": 2,
     "metadata": {},
     "output_type": "execute_result"
    }
   ],
   "source": [
    "# reading in the data\n",
    "df_iwm_tna = pd.read_csv('../data/iwm_tna_2014_2018.csv')\n",
    "df_iwm_tna.head()"
   ]
  },
  {
   "cell_type": "code",
   "execution_count": 3,
   "metadata": {},
   "outputs": [
    {
     "data": {
      "text/plain": [
       "symbol              object\n",
       "date        datetime64[ns]\n",
       "open               float64\n",
       "high               float64\n",
       "low                float64\n",
       "close              float64\n",
       "volume               int64\n",
       "adjusted           float64\n",
       "return             float64\n",
       "dtype: object"
      ]
     },
     "execution_count": 3,
     "metadata": {},
     "output_type": "execute_result"
    }
   ],
   "source": [
    "# refactoring the `date` column to datetime\n",
    "df_iwm_tna['date'] = pd.to_datetime(df_iwm_tna['date'])\n",
    "df_iwm_tna.dtypes"
   ]
  },
  {
   "cell_type": "code",
   "execution_count": 4,
   "metadata": {},
   "outputs": [
    {
     "name": "stdout",
     "output_type": "stream",
     "text": [
      "2014-01-02 00:00:00\n",
      "2018-12-31 00:00:00\n"
     ]
    }
   ],
   "source": [
    "# printing the first and last dates\n",
    "print(min(df_iwm_tna.date))\n",
    "print(max(df_iwm_tna.date))"
   ]
  },
  {
   "cell_type": "markdown",
   "metadata": {},
   "source": [
    "#### 3) Verify your hypothesis from question #1 by calculating the volatility of IWM and TNA over the entire period in the data set."
   ]
  },
  {
   "cell_type": "code",
   "execution_count": 5,
   "metadata": {},
   "outputs": [],
   "source": [
    "# defining a custom function to calculate volatility from daily returns\n",
    "def volatility(dly_ret):\n",
    "    return np.std(dly_ret) * np.sqrt(252)"
   ]
  },
  {
   "cell_type": "code",
   "execution_count": 6,
   "metadata": {},
   "outputs": [
    {
     "data": {
      "text/html": [
       "<div>\n",
       "<style scoped>\n",
       "    .dataframe tbody tr th:only-of-type {\n",
       "        vertical-align: middle;\n",
       "    }\n",
       "\n",
       "    .dataframe tbody tr th {\n",
       "        vertical-align: top;\n",
       "    }\n",
       "\n",
       "    .dataframe thead th {\n",
       "        text-align: right;\n",
       "    }\n",
       "</style>\n",
       "<table border=\"1\" class=\"dataframe\">\n",
       "  <thead>\n",
       "    <tr style=\"text-align: right;\">\n",
       "      <th></th>\n",
       "      <th>symbol</th>\n",
       "      <th>volatility</th>\n",
       "    </tr>\n",
       "  </thead>\n",
       "  <tbody>\n",
       "    <tr>\n",
       "      <th>0</th>\n",
       "      <td>IWM</td>\n",
       "      <td>0.162563</td>\n",
       "    </tr>\n",
       "    <tr>\n",
       "      <th>1</th>\n",
       "      <td>TNA</td>\n",
       "      <td>0.482408</td>\n",
       "    </tr>\n",
       "  </tbody>\n",
       "</table>\n",
       "</div>"
      ],
      "text/plain": [
       "  symbol  volatility\n",
       "0    IWM    0.162563\n",
       "1    TNA    0.482408"
      ]
     },
     "execution_count": 6,
     "metadata": {},
     "output_type": "execute_result"
    }
   ],
   "source": [
    "# calculating volatility for each symbol using .groupby()\n",
    "# notice that the TNA volatility is about 3 times that of IWM\n",
    "df_iwm_tna.groupby(['symbol'])['return'].agg([volatility]).reset_index()"
   ]
  },
  {
   "cell_type": "markdown",
   "metadata": {},
   "source": [
    "#### 4) The correlation between two random variables  is a number betwee -1 and 1.  A correlation of 1 means the two variables always move in the same direction, a correlation of -1 means that they move in opposite directions.  A value of 0 means that there is no relationship between the direction of their movements.\n",
    "\n",
    "\n",
    "#### What do you think is the correlation between the daily returns of IWM and TNA?\n"
   ]
  },
  {
   "cell_type": "markdown",
   "metadata": {},
   "source": [
    "*Both ETFs attempt to track the Russell 2000 index, so we would expect their correlation to be close to 1.*"
   ]
  },
  {
   "cell_type": "markdown",
   "metadata": {},
   "source": [
    "#### 5) Let's verify your hypothesis from question #4.  Use `numpy.corrcoef(x, y)` to calculate the correlation between the IWM returns and TNA returns."
   ]
  },
  {
   "cell_type": "code",
   "execution_count": 7,
   "metadata": {},
   "outputs": [
    {
     "data": {
      "text/plain": [
       "array([[1.        , 0.99925113],\n",
       "       [0.99925113, 1.        ]])"
      ]
     },
     "execution_count": 7,
     "metadata": {},
     "output_type": "execute_result"
    }
   ],
   "source": [
    "# separating returns for each ETF\n",
    "ser_iwm_ret = df_iwm_tna[df_iwm_tna.symbol == 'IWM']['return']\n",
    "ser_tna_ret = df_iwm_tna[df_iwm_tna.symbol == 'TNA']['return']\n",
    "\n",
    "# calculating the correlation, which is in the off-diagonal of the output, \n",
    "# notice that it is very close to +1\n",
    "np.corrcoef(ser_iwm_ret, ser_tna_ret)"
   ]
  },
  {
   "cell_type": "markdown",
   "metadata": {},
   "source": [
    "#### 6) Calculate the monthly volatilities for IWM and TNA for each month in the data set."
   ]
  },
  {
   "cell_type": "code",
   "execution_count": 8,
   "metadata": {},
   "outputs": [
    {
     "data": {
      "text/html": [
       "<div>\n",
       "<style scoped>\n",
       "    .dataframe tbody tr th:only-of-type {\n",
       "        vertical-align: middle;\n",
       "    }\n",
       "\n",
       "    .dataframe tbody tr th {\n",
       "        vertical-align: top;\n",
       "    }\n",
       "\n",
       "    .dataframe thead th {\n",
       "        text-align: right;\n",
       "    }\n",
       "</style>\n",
       "<table border=\"1\" class=\"dataframe\">\n",
       "  <thead>\n",
       "    <tr style=\"text-align: right;\">\n",
       "      <th></th>\n",
       "      <th>symbol</th>\n",
       "      <th>date</th>\n",
       "      <th>open</th>\n",
       "      <th>high</th>\n",
       "      <th>low</th>\n",
       "      <th>close</th>\n",
       "      <th>volume</th>\n",
       "      <th>adjusted</th>\n",
       "      <th>return</th>\n",
       "      <th>year</th>\n",
       "      <th>month</th>\n",
       "    </tr>\n",
       "  </thead>\n",
       "  <tbody>\n",
       "    <tr>\n",
       "      <th>0</th>\n",
       "      <td>IWM</td>\n",
       "      <td>2014-01-02</td>\n",
       "      <td>115.089996</td>\n",
       "      <td>115.120003</td>\n",
       "      <td>113.639999</td>\n",
       "      <td>114.110001</td>\n",
       "      <td>44247700</td>\n",
       "      <td>106.608597</td>\n",
       "      <td>0.000000</td>\n",
       "      <td>2014</td>\n",
       "      <td>1</td>\n",
       "    </tr>\n",
       "    <tr>\n",
       "      <th>1</th>\n",
       "      <td>IWM</td>\n",
       "      <td>2014-01-03</td>\n",
       "      <td>114.529999</td>\n",
       "      <td>114.900002</td>\n",
       "      <td>114.110001</td>\n",
       "      <td>114.690002</td>\n",
       "      <td>26468000</td>\n",
       "      <td>107.150459</td>\n",
       "      <td>0.005083</td>\n",
       "      <td>2014</td>\n",
       "      <td>1</td>\n",
       "    </tr>\n",
       "    <tr>\n",
       "      <th>2</th>\n",
       "      <td>IWM</td>\n",
       "      <td>2014-01-06</td>\n",
       "      <td>115.220001</td>\n",
       "      <td>115.269997</td>\n",
       "      <td>113.709999</td>\n",
       "      <td>113.760002</td>\n",
       "      <td>36198000</td>\n",
       "      <td>106.281593</td>\n",
       "      <td>-0.008109</td>\n",
       "      <td>2014</td>\n",
       "      <td>1</td>\n",
       "    </tr>\n",
       "    <tr>\n",
       "      <th>3</th>\n",
       "      <td>IWM</td>\n",
       "      <td>2014-01-07</td>\n",
       "      <td>114.190002</td>\n",
       "      <td>115.160004</td>\n",
       "      <td>114.110001</td>\n",
       "      <td>114.709999</td>\n",
       "      <td>28545300</td>\n",
       "      <td>107.169136</td>\n",
       "      <td>0.008351</td>\n",
       "      <td>2014</td>\n",
       "      <td>1</td>\n",
       "    </tr>\n",
       "    <tr>\n",
       "      <th>4</th>\n",
       "      <td>IWM</td>\n",
       "      <td>2014-01-08</td>\n",
       "      <td>114.779999</td>\n",
       "      <td>115.080002</td>\n",
       "      <td>114.070000</td>\n",
       "      <td>114.860001</td>\n",
       "      <td>30763600</td>\n",
       "      <td>107.309288</td>\n",
       "      <td>0.001308</td>\n",
       "      <td>2014</td>\n",
       "      <td>1</td>\n",
       "    </tr>\n",
       "  </tbody>\n",
       "</table>\n",
       "</div>"
      ],
      "text/plain": [
       "  symbol       date        open        high         low       close    volume  \\\n",
       "0    IWM 2014-01-02  115.089996  115.120003  113.639999  114.110001  44247700   \n",
       "1    IWM 2014-01-03  114.529999  114.900002  114.110001  114.690002  26468000   \n",
       "2    IWM 2014-01-06  115.220001  115.269997  113.709999  113.760002  36198000   \n",
       "3    IWM 2014-01-07  114.190002  115.160004  114.110001  114.709999  28545300   \n",
       "4    IWM 2014-01-08  114.779999  115.080002  114.070000  114.860001  30763600   \n",
       "\n",
       "     adjusted    return  year  month  \n",
       "0  106.608597  0.000000  2014      1  \n",
       "1  107.150459  0.005083  2014      1  \n",
       "2  106.281593 -0.008109  2014      1  \n",
       "3  107.169136  0.008351  2014      1  \n",
       "4  107.309288  0.001308  2014      1  "
      ]
     },
     "execution_count": 8,
     "metadata": {},
     "output_type": "execute_result"
    }
   ],
   "source": [
    "# creating month and year columns\n",
    "df_iwm_tna['year'] = df_iwm_tna['date'].dt.year\n",
    "df_iwm_tna['month'] = df_iwm_tna['date'].dt.month\n",
    "df_iwm_tna.head()"
   ]
  },
  {
   "cell_type": "code",
   "execution_count": 9,
   "metadata": {},
   "outputs": [
    {
     "data": {
      "text/html": [
       "<div>\n",
       "<style scoped>\n",
       "    .dataframe tbody tr th:only-of-type {\n",
       "        vertical-align: middle;\n",
       "    }\n",
       "\n",
       "    .dataframe tbody tr th {\n",
       "        vertical-align: top;\n",
       "    }\n",
       "\n",
       "    .dataframe thead th {\n",
       "        text-align: right;\n",
       "    }\n",
       "</style>\n",
       "<table border=\"1\" class=\"dataframe\">\n",
       "  <thead>\n",
       "    <tr style=\"text-align: right;\">\n",
       "      <th></th>\n",
       "      <th>symbol</th>\n",
       "      <th>year</th>\n",
       "      <th>month</th>\n",
       "      <th>volatility</th>\n",
       "    </tr>\n",
       "  </thead>\n",
       "  <tbody>\n",
       "    <tr>\n",
       "      <th>0</th>\n",
       "      <td>IWM</td>\n",
       "      <td>2014</td>\n",
       "      <td>1</td>\n",
       "      <td>0.160876</td>\n",
       "    </tr>\n",
       "    <tr>\n",
       "      <th>1</th>\n",
       "      <td>IWM</td>\n",
       "      <td>2014</td>\n",
       "      <td>2</td>\n",
       "      <td>0.159055</td>\n",
       "    </tr>\n",
       "    <tr>\n",
       "      <th>2</th>\n",
       "      <td>IWM</td>\n",
       "      <td>2014</td>\n",
       "      <td>3</td>\n",
       "      <td>0.157328</td>\n",
       "    </tr>\n",
       "    <tr>\n",
       "      <th>3</th>\n",
       "      <td>IWM</td>\n",
       "      <td>2014</td>\n",
       "      <td>4</td>\n",
       "      <td>0.189052</td>\n",
       "    </tr>\n",
       "    <tr>\n",
       "      <th>4</th>\n",
       "      <td>IWM</td>\n",
       "      <td>2014</td>\n",
       "      <td>5</td>\n",
       "      <td>0.165355</td>\n",
       "    </tr>\n",
       "  </tbody>\n",
       "</table>\n",
       "</div>"
      ],
      "text/plain": [
       "  symbol  year  month  volatility\n",
       "0    IWM  2014      1    0.160876\n",
       "1    IWM  2014      2    0.159055\n",
       "2    IWM  2014      3    0.157328\n",
       "3    IWM  2014      4    0.189052\n",
       "4    IWM  2014      5    0.165355"
      ]
     },
     "execution_count": 9,
     "metadata": {},
     "output_type": "execute_result"
    }
   ],
   "source": [
    "# calculating monthly volatilities with .groupby()\n",
    "df_vol = \\\n",
    "    df_iwm_tna.groupby(['symbol' , 'year', 'month'])['return'].agg([volatility]).reset_index()\n",
    "df_vol.head()"
   ]
  },
  {
   "cell_type": "markdown",
   "metadata": {},
   "source": [
    "#### 6) As we saw in a previous exercise, the volatilty ratio of TNA to IWM is close to 3.0 for the entire period of 2014-2018.  Generate a dataframe that calculates this volaility ratio for each month."
   ]
  },
  {
   "cell_type": "code",
   "execution_count": 10,
   "metadata": {},
   "outputs": [],
   "source": [
    "# putting monthly volatility for each ETF into a separate dataframe\n",
    "df_vol_iwm = df_vol[df_vol.symbol == 'IWM']\n",
    "df_vol_tna = df_vol[df_vol.symbol == 'TNA']"
   ]
  },
  {
   "cell_type": "code",
   "execution_count": 11,
   "metadata": {},
   "outputs": [
    {
     "data": {
      "text/html": [
       "<div>\n",
       "<style scoped>\n",
       "    .dataframe tbody tr th:only-of-type {\n",
       "        vertical-align: middle;\n",
       "    }\n",
       "\n",
       "    .dataframe tbody tr th {\n",
       "        vertical-align: top;\n",
       "    }\n",
       "\n",
       "    .dataframe thead th {\n",
       "        text-align: right;\n",
       "    }\n",
       "</style>\n",
       "<table border=\"1\" class=\"dataframe\">\n",
       "  <thead>\n",
       "    <tr style=\"text-align: right;\">\n",
       "      <th></th>\n",
       "      <th>year</th>\n",
       "      <th>month</th>\n",
       "      <th>volatility_IWM</th>\n",
       "      <th>volatility_TNA</th>\n",
       "    </tr>\n",
       "  </thead>\n",
       "  <tbody>\n",
       "    <tr>\n",
       "      <th>0</th>\n",
       "      <td>2014</td>\n",
       "      <td>1</td>\n",
       "      <td>0.160876</td>\n",
       "      <td>0.465755</td>\n",
       "    </tr>\n",
       "    <tr>\n",
       "      <th>1</th>\n",
       "      <td>2014</td>\n",
       "      <td>2</td>\n",
       "      <td>0.159055</td>\n",
       "      <td>0.478568</td>\n",
       "    </tr>\n",
       "    <tr>\n",
       "      <th>2</th>\n",
       "      <td>2014</td>\n",
       "      <td>3</td>\n",
       "      <td>0.157328</td>\n",
       "      <td>0.462771</td>\n",
       "    </tr>\n",
       "    <tr>\n",
       "      <th>3</th>\n",
       "      <td>2014</td>\n",
       "      <td>4</td>\n",
       "      <td>0.189052</td>\n",
       "      <td>0.559747</td>\n",
       "    </tr>\n",
       "    <tr>\n",
       "      <th>4</th>\n",
       "      <td>2014</td>\n",
       "      <td>5</td>\n",
       "      <td>0.165355</td>\n",
       "      <td>0.494465</td>\n",
       "    </tr>\n",
       "  </tbody>\n",
       "</table>\n",
       "</div>"
      ],
      "text/plain": [
       "   year  month  volatility_IWM  volatility_TNA\n",
       "0  2014      1        0.160876        0.465755\n",
       "1  2014      2        0.159055        0.478568\n",
       "2  2014      3        0.157328        0.462771\n",
       "3  2014      4        0.189052        0.559747\n",
       "4  2014      5        0.165355        0.494465"
      ]
     },
     "execution_count": 11,
     "metadata": {},
     "output_type": "execute_result"
    }
   ],
   "source": [
    "# combining monthly volatilities into a single dataframe with an inner-join\n",
    "df_monthly_vol = \\\n",
    "    pd.merge(df_vol_iwm, df_vol_tna, on=['year', 'month'], suffixes=('_IWM', '_TNA'))\\\n",
    "        [['year', 'month', 'volatility_IWM', 'volatility_TNA']]\n",
    "df_monthly_vol.head()"
   ]
  },
  {
   "cell_type": "code",
   "execution_count": 12,
   "metadata": {},
   "outputs": [
    {
     "data": {
      "text/html": [
       "<div>\n",
       "<style scoped>\n",
       "    .dataframe tbody tr th:only-of-type {\n",
       "        vertical-align: middle;\n",
       "    }\n",
       "\n",
       "    .dataframe tbody tr th {\n",
       "        vertical-align: top;\n",
       "    }\n",
       "\n",
       "    .dataframe thead th {\n",
       "        text-align: right;\n",
       "    }\n",
       "</style>\n",
       "<table border=\"1\" class=\"dataframe\">\n",
       "  <thead>\n",
       "    <tr style=\"text-align: right;\">\n",
       "      <th></th>\n",
       "      <th>year</th>\n",
       "      <th>month</th>\n",
       "      <th>volatility_IWM</th>\n",
       "      <th>volatility_TNA</th>\n",
       "      <th>vol_ratio</th>\n",
       "    </tr>\n",
       "  </thead>\n",
       "  <tbody>\n",
       "    <tr>\n",
       "      <th>0</th>\n",
       "      <td>2014</td>\n",
       "      <td>1</td>\n",
       "      <td>0.160876</td>\n",
       "      <td>0.465755</td>\n",
       "      <td>2.895113</td>\n",
       "    </tr>\n",
       "    <tr>\n",
       "      <th>1</th>\n",
       "      <td>2014</td>\n",
       "      <td>2</td>\n",
       "      <td>0.159055</td>\n",
       "      <td>0.478568</td>\n",
       "      <td>3.008823</td>\n",
       "    </tr>\n",
       "    <tr>\n",
       "      <th>2</th>\n",
       "      <td>2014</td>\n",
       "      <td>3</td>\n",
       "      <td>0.157328</td>\n",
       "      <td>0.462771</td>\n",
       "      <td>2.941444</td>\n",
       "    </tr>\n",
       "    <tr>\n",
       "      <th>3</th>\n",
       "      <td>2014</td>\n",
       "      <td>4</td>\n",
       "      <td>0.189052</td>\n",
       "      <td>0.559747</td>\n",
       "      <td>2.960807</td>\n",
       "    </tr>\n",
       "    <tr>\n",
       "      <th>4</th>\n",
       "      <td>2014</td>\n",
       "      <td>5</td>\n",
       "      <td>0.165355</td>\n",
       "      <td>0.494465</td>\n",
       "      <td>2.990316</td>\n",
       "    </tr>\n",
       "  </tbody>\n",
       "</table>\n",
       "</div>"
      ],
      "text/plain": [
       "   year  month  volatility_IWM  volatility_TNA  vol_ratio\n",
       "0  2014      1        0.160876        0.465755   2.895113\n",
       "1  2014      2        0.159055        0.478568   3.008823\n",
       "2  2014      3        0.157328        0.462771   2.941444\n",
       "3  2014      4        0.189052        0.559747   2.960807\n",
       "4  2014      5        0.165355        0.494465   2.990316"
      ]
     },
     "execution_count": 12,
     "metadata": {},
     "output_type": "execute_result"
    }
   ],
   "source": [
    "# calculating the vol_ratio in a separate column\n",
    "df_monthly_vol['vol_ratio'] = (df_monthly_vol.volatility_TNA / df_monthly_vol.volatility_IWM)\n",
    "df_monthly_vol.head()"
   ]
  },
  {
   "cell_type": "markdown",
   "metadata": {},
   "source": [
    "#### 7) What were the maximum and minimum monthly volatility ratios?"
   ]
  },
  {
   "cell_type": "code",
   "execution_count": 13,
   "metadata": {},
   "outputs": [
    {
     "data": {
      "text/html": [
       "<div>\n",
       "<style scoped>\n",
       "    .dataframe tbody tr th:only-of-type {\n",
       "        vertical-align: middle;\n",
       "    }\n",
       "\n",
       "    .dataframe tbody tr th {\n",
       "        vertical-align: top;\n",
       "    }\n",
       "\n",
       "    .dataframe thead th {\n",
       "        text-align: right;\n",
       "    }\n",
       "</style>\n",
       "<table border=\"1\" class=\"dataframe\">\n",
       "  <thead>\n",
       "    <tr style=\"text-align: right;\">\n",
       "      <th></th>\n",
       "      <th>year</th>\n",
       "      <th>month</th>\n",
       "      <th>volatility_IWM</th>\n",
       "      <th>volatility_TNA</th>\n",
       "      <th>vol_ratio</th>\n",
       "    </tr>\n",
       "  </thead>\n",
       "  <tbody>\n",
       "    <tr>\n",
       "      <th>51</th>\n",
       "      <td>2018</td>\n",
       "      <td>4</td>\n",
       "      <td>0.165525</td>\n",
       "      <td>0.477178</td>\n",
       "      <td>2.882819</td>\n",
       "    </tr>\n",
       "  </tbody>\n",
       "</table>\n",
       "</div>"
      ],
      "text/plain": [
       "    year  month  volatility_IWM  volatility_TNA  vol_ratio\n",
       "51  2018      4        0.165525        0.477178   2.882819"
      ]
     },
     "execution_count": 13,
     "metadata": {},
     "output_type": "execute_result"
    }
   ],
   "source": [
    "# minimum - April 2018\n",
    "df_monthly_vol.sort_values(['vol_ratio']).head(1)"
   ]
  },
  {
   "cell_type": "code",
   "execution_count": 14,
   "metadata": {},
   "outputs": [
    {
     "data": {
      "text/html": [
       "<div>\n",
       "<style scoped>\n",
       "    .dataframe tbody tr th:only-of-type {\n",
       "        vertical-align: middle;\n",
       "    }\n",
       "\n",
       "    .dataframe tbody tr th {\n",
       "        vertical-align: top;\n",
       "    }\n",
       "\n",
       "    .dataframe thead th {\n",
       "        text-align: right;\n",
       "    }\n",
       "</style>\n",
       "<table border=\"1\" class=\"dataframe\">\n",
       "  <thead>\n",
       "    <tr style=\"text-align: right;\">\n",
       "      <th></th>\n",
       "      <th>year</th>\n",
       "      <th>month</th>\n",
       "      <th>volatility_IWM</th>\n",
       "      <th>volatility_TNA</th>\n",
       "      <th>vol_ratio</th>\n",
       "    </tr>\n",
       "  </thead>\n",
       "  <tbody>\n",
       "    <tr>\n",
       "      <th>56</th>\n",
       "      <td>2018</td>\n",
       "      <td>9</td>\n",
       "      <td>0.075781</td>\n",
       "      <td>0.232567</td>\n",
       "      <td>3.068936</td>\n",
       "    </tr>\n",
       "  </tbody>\n",
       "</table>\n",
       "</div>"
      ],
      "text/plain": [
       "    year  month  volatility_IWM  volatility_TNA  vol_ratio\n",
       "56  2018      9        0.075781        0.232567   3.068936"
      ]
     },
     "execution_count": 14,
     "metadata": {},
     "output_type": "execute_result"
    }
   ],
   "source": [
    "# maximum - September 2018\n",
    "df_monthly_vol.sort_values(['vol_ratio'], ascending=False).head(1)"
   ]
  },
  {
   "cell_type": "markdown",
   "metadata": {},
   "source": [
    "#### 8) Calculate the maximum and minimum volatility ratios for each year."
   ]
  },
  {
   "cell_type": "code",
   "execution_count": 15,
   "metadata": {},
   "outputs": [
    {
     "data": {
      "text/html": [
       "<div>\n",
       "<style scoped>\n",
       "    .dataframe tbody tr th:only-of-type {\n",
       "        vertical-align: middle;\n",
       "    }\n",
       "\n",
       "    .dataframe tbody tr th {\n",
       "        vertical-align: top;\n",
       "    }\n",
       "\n",
       "    .dataframe thead th {\n",
       "        text-align: right;\n",
       "    }\n",
       "</style>\n",
       "<table border=\"1\" class=\"dataframe\">\n",
       "  <thead>\n",
       "    <tr style=\"text-align: right;\">\n",
       "      <th></th>\n",
       "      <th>year</th>\n",
       "      <th>amin</th>\n",
       "      <th>amax</th>\n",
       "    </tr>\n",
       "  </thead>\n",
       "  <tbody>\n",
       "    <tr>\n",
       "      <th>0</th>\n",
       "      <td>2014</td>\n",
       "      <td>2.895113</td>\n",
       "      <td>3.008823</td>\n",
       "    </tr>\n",
       "    <tr>\n",
       "      <th>1</th>\n",
       "      <td>2015</td>\n",
       "      <td>2.900046</td>\n",
       "      <td>2.994853</td>\n",
       "    </tr>\n",
       "    <tr>\n",
       "      <th>2</th>\n",
       "      <td>2016</td>\n",
       "      <td>2.952350</td>\n",
       "      <td>3.030261</td>\n",
       "    </tr>\n",
       "    <tr>\n",
       "      <th>3</th>\n",
       "      <td>2017</td>\n",
       "      <td>2.928104</td>\n",
       "      <td>3.012094</td>\n",
       "    </tr>\n",
       "    <tr>\n",
       "      <th>4</th>\n",
       "      <td>2018</td>\n",
       "      <td>2.882819</td>\n",
       "      <td>3.068936</td>\n",
       "    </tr>\n",
       "  </tbody>\n",
       "</table>\n",
       "</div>"
      ],
      "text/plain": [
       "   year      amin      amax\n",
       "0  2014  2.895113  3.008823\n",
       "1  2015  2.900046  2.994853\n",
       "2  2016  2.952350  3.030261\n",
       "3  2017  2.928104  3.012094\n",
       "4  2018  2.882819  3.068936"
      ]
     },
     "execution_count": 15,
     "metadata": {},
     "output_type": "execute_result"
    }
   ],
   "source": [
    "# this can be done by a .groupby()\n",
    "df_monthly_vol.groupby(['year'])['vol_ratio'].agg([np.min, np.max]).reset_index()"
   ]
  }
 ],
 "metadata": {
  "kernelspec": {
   "display_name": "Python 3",
   "language": "python",
   "name": "python3"
  },
  "language_info": {
   "codemirror_mode": {
    "name": "ipython",
    "version": 3
   },
   "file_extension": ".py",
   "mimetype": "text/x-python",
   "name": "python",
   "nbconvert_exporter": "python",
   "pygments_lexer": "ipython3",
   "version": "3.6.8"
  }
 },
 "nbformat": 4,
 "nbformat_minor": 2
}
