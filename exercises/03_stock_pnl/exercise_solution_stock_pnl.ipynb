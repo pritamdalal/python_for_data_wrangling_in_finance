{
 "cells": [
  {
   "cell_type": "markdown",
   "metadata": {},
   "source": [
    "# Exercise 03 - stock pnl"
   ]
  },
  {
   "cell_type": "markdown",
   "metadata": {},
   "source": [
    "The end goal of this exercise is to caculate the daily profit-and-loss on an investment of stock.\n",
    "\n",
    "Profit-and-loss, otherwise known as PNL, is the daily dollar change in the value of an investment or position.\n",
    "\n",
    "Along the way, we are going to use the tools of `if`-`else` statments (tutorial 06), `for` loops (tutorial 06), and `DataFrame` masking (tutorial 05).\n",
    "\n",
    "We will use data from the following location: *../data/index_etf_dec_2018.csv*"
   ]
  },
  {
   "cell_type": "markdown",
   "metadata": {},
   "source": [
    "#### 1) Import the `pandas` and `numpy` packages."
   ]
  },
  {
   "cell_type": "code",
   "execution_count": 1,
   "metadata": {},
   "outputs": [],
   "source": [
    "import pandas as pd\n",
    "import numpy as np"
   ]
  },
  {
   "cell_type": "markdown",
   "metadata": {},
   "source": [
    "#### 2) Read in the data set into a dataframe called `df_etf`."
   ]
  },
  {
   "cell_type": "code",
   "execution_count": 2,
   "metadata": {},
   "outputs": [
    {
     "data": {
      "text/html": [
       "<div>\n",
       "<style scoped>\n",
       "    .dataframe tbody tr th:only-of-type {\n",
       "        vertical-align: middle;\n",
       "    }\n",
       "\n",
       "    .dataframe tbody tr th {\n",
       "        vertical-align: top;\n",
       "    }\n",
       "\n",
       "    .dataframe thead th {\n",
       "        text-align: right;\n",
       "    }\n",
       "</style>\n",
       "<table border=\"1\" class=\"dataframe\">\n",
       "  <thead>\n",
       "    <tr style=\"text-align: right;\">\n",
       "      <th></th>\n",
       "      <th>symbol</th>\n",
       "      <th>date</th>\n",
       "      <th>open</th>\n",
       "      <th>high</th>\n",
       "      <th>low</th>\n",
       "      <th>close</th>\n",
       "      <th>volume</th>\n",
       "      <th>adjusted</th>\n",
       "    </tr>\n",
       "  </thead>\n",
       "  <tbody>\n",
       "    <tr>\n",
       "      <th>0</th>\n",
       "      <td>SPY</td>\n",
       "      <td>2018-12-03</td>\n",
       "      <td>280.279999</td>\n",
       "      <td>280.399994</td>\n",
       "      <td>277.510010</td>\n",
       "      <td>279.299988</td>\n",
       "      <td>103176300</td>\n",
       "      <td>277.678436</td>\n",
       "    </tr>\n",
       "    <tr>\n",
       "      <th>1</th>\n",
       "      <td>SPY</td>\n",
       "      <td>2018-12-04</td>\n",
       "      <td>278.369995</td>\n",
       "      <td>278.850006</td>\n",
       "      <td>269.899994</td>\n",
       "      <td>270.250000</td>\n",
       "      <td>177986000</td>\n",
       "      <td>268.681000</td>\n",
       "    </tr>\n",
       "    <tr>\n",
       "      <th>2</th>\n",
       "      <td>SPY</td>\n",
       "      <td>2018-12-06</td>\n",
       "      <td>265.920013</td>\n",
       "      <td>269.970001</td>\n",
       "      <td>262.440002</td>\n",
       "      <td>269.839996</td>\n",
       "      <td>204185400</td>\n",
       "      <td>268.273376</td>\n",
       "    </tr>\n",
       "    <tr>\n",
       "      <th>3</th>\n",
       "      <td>SPY</td>\n",
       "      <td>2018-12-07</td>\n",
       "      <td>269.459991</td>\n",
       "      <td>271.220001</td>\n",
       "      <td>262.630005</td>\n",
       "      <td>263.570007</td>\n",
       "      <td>161018900</td>\n",
       "      <td>262.039795</td>\n",
       "    </tr>\n",
       "    <tr>\n",
       "      <th>4</th>\n",
       "      <td>SPY</td>\n",
       "      <td>2018-12-10</td>\n",
       "      <td>263.369995</td>\n",
       "      <td>265.160004</td>\n",
       "      <td>258.619995</td>\n",
       "      <td>264.070007</td>\n",
       "      <td>151445900</td>\n",
       "      <td>262.536896</td>\n",
       "    </tr>\n",
       "  </tbody>\n",
       "</table>\n",
       "</div>"
      ],
      "text/plain": [
       "  symbol        date        open        high         low       close  \\\n",
       "0    SPY  2018-12-03  280.279999  280.399994  277.510010  279.299988   \n",
       "1    SPY  2018-12-04  278.369995  278.850006  269.899994  270.250000   \n",
       "2    SPY  2018-12-06  265.920013  269.970001  262.440002  269.839996   \n",
       "3    SPY  2018-12-07  269.459991  271.220001  262.630005  263.570007   \n",
       "4    SPY  2018-12-10  263.369995  265.160004  258.619995  264.070007   \n",
       "\n",
       "      volume    adjusted  \n",
       "0  103176300  277.678436  \n",
       "1  177986000  268.681000  \n",
       "2  204185400  268.273376  \n",
       "3  161018900  262.039795  \n",
       "4  151445900  262.536896  "
      ]
     },
     "execution_count": 2,
     "metadata": {},
     "output_type": "execute_result"
    }
   ],
   "source": [
    "df_etf = pd.read_csv('../data/index_etf_dec_2018.csv')\n",
    "df_etf.head()"
   ]
  },
  {
   "cell_type": "markdown",
   "metadata": {},
   "source": [
    "#### 3) Notice that the `date` column is being read-in as a `object` type.  Convert it to a `datetime` by using the `.to_datetime()` method in `pandas`."
   ]
  },
  {
   "cell_type": "code",
   "execution_count": 3,
   "metadata": {},
   "outputs": [
    {
     "data": {
      "text/plain": [
       "symbol              object\n",
       "date        datetime64[ns]\n",
       "open               float64\n",
       "high               float64\n",
       "low                float64\n",
       "close              float64\n",
       "volume               int64\n",
       "adjusted           float64\n",
       "dtype: object"
      ]
     },
     "execution_count": 3,
     "metadata": {},
     "output_type": "execute_result"
    }
   ],
   "source": [
    "df_etf['date'] = pd.to_datetime(df_etf['date'])\n",
    "df_etf.dtypes"
   ]
  },
  {
   "cell_type": "markdown",
   "metadata": {},
   "source": [
    "#### 3) The following commented code is from tutorial 09.  It adds a `return` column to `df_etf` and then fills it in appropriate.  Modify this code so that it adds a `daily_pnl` column instead, and fills it in.  The daily_pnl is simply the difference between the current price and previous price; for the first day of the month leave it as a `NaN`."
   ]
  },
  {
   "cell_type": "code",
   "execution_count": 4,
   "metadata": {},
   "outputs": [],
   "source": [
    "# df_etf['return'] = np.nan\n",
    "# for ix in range(1, df_etf.shape[0]):\n",
    "    \n",
    "#     # grabbing symbols from df_etf\n",
    "#     curr_sym = df_etf.at[ix, 'symbol']\n",
    "#     prev_sym = df_etf.at[ix-1, 'symbol']\n",
    "    \n",
    "#     # grabbling prices from df_etf\n",
    "#     curr_adj = df_etf.at[ix, 'adjusted']\n",
    "#     prev_adj = df_etf.at[ix-1, 'adjusted']\n",
    "    \n",
    "#     # calculating return\n",
    "#     if curr_sym == prev_sym:\n",
    "#         df_etf.at[ix, 'return'] = (curr_adj / prev_adj) - 1\n",
    "\n",
    "# df_etf.head()"
   ]
  },
  {
   "cell_type": "code",
   "execution_count": 5,
   "metadata": {},
   "outputs": [
    {
     "data": {
      "text/html": [
       "<div>\n",
       "<style scoped>\n",
       "    .dataframe tbody tr th:only-of-type {\n",
       "        vertical-align: middle;\n",
       "    }\n",
       "\n",
       "    .dataframe tbody tr th {\n",
       "        vertical-align: top;\n",
       "    }\n",
       "\n",
       "    .dataframe thead th {\n",
       "        text-align: right;\n",
       "    }\n",
       "</style>\n",
       "<table border=\"1\" class=\"dataframe\">\n",
       "  <thead>\n",
       "    <tr style=\"text-align: right;\">\n",
       "      <th></th>\n",
       "      <th>symbol</th>\n",
       "      <th>date</th>\n",
       "      <th>open</th>\n",
       "      <th>high</th>\n",
       "      <th>low</th>\n",
       "      <th>close</th>\n",
       "      <th>volume</th>\n",
       "      <th>adjusted</th>\n",
       "      <th>daily_pnl</th>\n",
       "    </tr>\n",
       "  </thead>\n",
       "  <tbody>\n",
       "    <tr>\n",
       "      <th>0</th>\n",
       "      <td>SPY</td>\n",
       "      <td>2018-12-03</td>\n",
       "      <td>280.279999</td>\n",
       "      <td>280.399994</td>\n",
       "      <td>277.510010</td>\n",
       "      <td>279.299988</td>\n",
       "      <td>103176300</td>\n",
       "      <td>277.678436</td>\n",
       "      <td>NaN</td>\n",
       "    </tr>\n",
       "    <tr>\n",
       "      <th>1</th>\n",
       "      <td>SPY</td>\n",
       "      <td>2018-12-04</td>\n",
       "      <td>278.369995</td>\n",
       "      <td>278.850006</td>\n",
       "      <td>269.899994</td>\n",
       "      <td>270.250000</td>\n",
       "      <td>177986000</td>\n",
       "      <td>268.681000</td>\n",
       "      <td>-8.997436</td>\n",
       "    </tr>\n",
       "    <tr>\n",
       "      <th>2</th>\n",
       "      <td>SPY</td>\n",
       "      <td>2018-12-06</td>\n",
       "      <td>265.920013</td>\n",
       "      <td>269.970001</td>\n",
       "      <td>262.440002</td>\n",
       "      <td>269.839996</td>\n",
       "      <td>204185400</td>\n",
       "      <td>268.273376</td>\n",
       "      <td>-0.407624</td>\n",
       "    </tr>\n",
       "    <tr>\n",
       "      <th>3</th>\n",
       "      <td>SPY</td>\n",
       "      <td>2018-12-07</td>\n",
       "      <td>269.459991</td>\n",
       "      <td>271.220001</td>\n",
       "      <td>262.630005</td>\n",
       "      <td>263.570007</td>\n",
       "      <td>161018900</td>\n",
       "      <td>262.039795</td>\n",
       "      <td>-6.233581</td>\n",
       "    </tr>\n",
       "    <tr>\n",
       "      <th>4</th>\n",
       "      <td>SPY</td>\n",
       "      <td>2018-12-10</td>\n",
       "      <td>263.369995</td>\n",
       "      <td>265.160004</td>\n",
       "      <td>258.619995</td>\n",
       "      <td>264.070007</td>\n",
       "      <td>151445900</td>\n",
       "      <td>262.536896</td>\n",
       "      <td>0.497101</td>\n",
       "    </tr>\n",
       "  </tbody>\n",
       "</table>\n",
       "</div>"
      ],
      "text/plain": [
       "  symbol       date        open        high         low       close  \\\n",
       "0    SPY 2018-12-03  280.279999  280.399994  277.510010  279.299988   \n",
       "1    SPY 2018-12-04  278.369995  278.850006  269.899994  270.250000   \n",
       "2    SPY 2018-12-06  265.920013  269.970001  262.440002  269.839996   \n",
       "3    SPY 2018-12-07  269.459991  271.220001  262.630005  263.570007   \n",
       "4    SPY 2018-12-10  263.369995  265.160004  258.619995  264.070007   \n",
       "\n",
       "      volume    adjusted  daily_pnl  \n",
       "0  103176300  277.678436        NaN  \n",
       "1  177986000  268.681000  -8.997436  \n",
       "2  204185400  268.273376  -0.407624  \n",
       "3  161018900  262.039795  -6.233581  \n",
       "4  151445900  262.536896   0.497101  "
      ]
     },
     "execution_count": 5,
     "metadata": {},
     "output_type": "execute_result"
    }
   ],
   "source": [
    "df_etf['daily_pnl'] = np.nan\n",
    "for ix in range(1, df_etf.shape[0]):\n",
    "    \n",
    "    # grabbing symbols from df_etf\n",
    "    curr_sym = df_etf.at[ix, 'symbol']\n",
    "    prev_sym = df_etf.at[ix-1, 'symbol']\n",
    "    \n",
    "    # grabbling prices from df_etf\n",
    "    curr_adj = df_etf.at[ix, 'adjusted']\n",
    "    prev_adj = df_etf.at[ix-1, 'adjusted']\n",
    "    \n",
    "    # calculating daily pnl\n",
    "    if curr_sym == prev_sym:\n",
    "        df_etf.at[ix, 'daily_pnl'] = (curr_adj - prev_adj)\n",
    "\n",
    "df_etf.head()"
   ]
  },
  {
   "cell_type": "markdown",
   "metadata": {},
   "source": [
    "#### 4)  Use `DataFrame` masking in conjunction with an aggregation calculation to calculate the monthly PNL for each ETF.  The monthly PNL is the sum of the daily PNLs.  You will use four different masking statements, one for each of the ETFs."
   ]
  },
  {
   "cell_type": "code",
   "execution_count": 6,
   "metadata": {},
   "outputs": [
    {
     "name": "stdout",
     "output_type": "stream",
     "text": [
      "-29.928435999999977\n",
      "-20.706069999999983\n",
      "-18.868362999999988\n",
      "-27.53401199999999\n"
     ]
    }
   ],
   "source": [
    "print(df_etf[df_etf.symbol == 'SPY']['daily_pnl'].sum())\n",
    "print(df_etf[df_etf.symbol == 'IWM']['daily_pnl'].sum())\n",
    "print(df_etf[df_etf.symbol == 'QQQ']['daily_pnl'].sum())\n",
    "print(df_etf[df_etf.symbol == 'DIA']['daily_pnl'].sum())"
   ]
  },
  {
   "cell_type": "markdown",
   "metadata": {},
   "source": [
    "#### 5) Calculate the monthly PNL of a \\$10,000 investment in QQQ during the time period."
   ]
  },
  {
   "cell_type": "code",
   "execution_count": 7,
   "metadata": {},
   "outputs": [
    {
     "data": {
      "text/plain": [
       "36   -1098.029716\n",
       "Name: adjusted, dtype: float64"
      ]
     },
     "execution_count": 7,
     "metadata": {},
     "output_type": "execute_result"
    }
   ],
   "source": [
    "# setting investment size and symbol\n",
    "dbl_investment = 10000\n",
    "symbol = 'QQQ'\n",
    "\n",
    "\n",
    "# grabbing the first date and the first price\n",
    "dt_first = np.min(df_etf.date)\n",
    "dbl_start_price = df_etf[(df_etf.date==dt_first) & (df_etf.symbol == symbol)].adjusted\n",
    "\n",
    "\n",
    "# calculating the number of shares that $10K would buy\n",
    "dbl_shares = dbl_investment / dbl_start_price\n",
    "\n",
    "# calculating monthly pnl\n",
    "dbl_monthly_pnl = \\\n",
    "    (dbl_shares * df_etf[df_etf.symbol == symbol]['daily_pnl'].sum())\n",
    "dbl_monthly_pnl"
   ]
  }
 ],
 "metadata": {
  "kernelspec": {
   "display_name": "Python 3",
   "language": "python",
   "name": "python3"
  },
  "language_info": {
   "codemirror_mode": {
    "name": "ipython",
    "version": 3
   },
   "file_extension": ".py",
   "mimetype": "text/x-python",
   "name": "python",
   "nbconvert_exporter": "python",
   "pygments_lexer": "ipython3",
   "version": "3.6.8"
  }
 },
 "nbformat": 4,
 "nbformat_minor": 2
}
