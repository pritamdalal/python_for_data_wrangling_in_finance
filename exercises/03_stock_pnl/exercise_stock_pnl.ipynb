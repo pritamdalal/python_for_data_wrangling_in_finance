{
 "cells": [
  {
   "cell_type": "markdown",
   "metadata": {},
   "source": [
    "# Exercise 03 - stock pnl"
   ]
  },
  {
   "cell_type": "markdown",
   "metadata": {},
   "source": [
    "The end goal of this exercise is to caculate the daily profit-and-loss on an investment of stock.\n",
    "\n",
    "Profit-and-loss, otherwise known as PNL, is the daily dollar change in the value of an investment or position.\n",
    "\n",
    "Along the way, we are going to use the tools of `if`-`else` statments (tutorial 06), `for` loops (tutorial 06), and `DataFrame` masking (tutorial 05).\n",
    "\n",
    "We will use data from the following location: *../data/index_etf_dec_2018.csv*"
   ]
  },
  {
   "cell_type": "markdown",
   "metadata": {},
   "source": [
    "#### 1) Import the `pandas` and `numpy` packages."
   ]
  },
  {
   "cell_type": "code",
   "execution_count": null,
   "metadata": {},
   "outputs": [],
   "source": [
    "\n"
   ]
  },
  {
   "cell_type": "markdown",
   "metadata": {},
   "source": [
    "#### 2) Read in the data set into a dataframe called `df_etf`."
   ]
  },
  {
   "cell_type": "code",
   "execution_count": null,
   "metadata": {},
   "outputs": [],
   "source": [
    "\n",
    "\n"
   ]
  },
  {
   "cell_type": "markdown",
   "metadata": {},
   "source": [
    "#### 3) Notice that the `date` column is being read-in as a `object` type.  Convert it to a `datetime` by using the `.to_datetime()` method in `pandas`."
   ]
  },
  {
   "cell_type": "code",
   "execution_count": null,
   "metadata": {},
   "outputs": [],
   "source": [
    "\n",
    "\n"
   ]
  },
  {
   "cell_type": "markdown",
   "metadata": {},
   "source": [
    "#### 3) The following commented code is from tutorial 09.  It adds a `return` column to `df_etf` and then fills it in appropriate.  Modify this code so that it adds a `daily_pnl` column instead, and fills it in.  The daily_pnl is simply the difference between the current price and previous price; for the first day of the month leave it as a `NaN`."
   ]
  },
  {
   "cell_type": "code",
   "execution_count": null,
   "metadata": {},
   "outputs": [],
   "source": [
    "# df_etf['return'] = np.nan\n",
    "# for ix in range(1, df_etf.shape[0]):\n",
    "    \n",
    "#     # grabbing symbols from df_etf\n",
    "#     curr_sym = df_etf.at[ix, 'symbol']\n",
    "#     prev_sym = df_etf.at[ix-1, 'symbol']\n",
    "    \n",
    "#     # grabbling prices from df_etf\n",
    "#     curr_adj = df_etf.at[ix, 'adjusted']\n",
    "#     prev_adj = df_etf.at[ix-1, 'adjusted']\n",
    "    \n",
    "#     # calculating return\n",
    "#     if curr_sym == prev_sym:\n",
    "#         df_etf.at[ix, 'return'] = (curr_adj / prev_adj) - 1\n",
    "\n",
    "# df_etf.head()"
   ]
  },
  {
   "cell_type": "code",
   "execution_count": null,
   "metadata": {},
   "outputs": [],
   "source": [
    "\n",
    "\n",
    "\n",
    "\n",
    "\n",
    "\n",
    "\n",
    "\n",
    "\n",
    "\n",
    "\n",
    "\n"
   ]
  },
  {
   "cell_type": "markdown",
   "metadata": {},
   "source": [
    "#### 4)  Use `DataFrame` masking in conjunction with an aggregation calculation to calculate the monthly PNL for each ETF.  The monthly PNL is the sum of the daily PNLs.  You will use four different masking statements, one for each of the ETFs."
   ]
  },
  {
   "cell_type": "code",
   "execution_count": null,
   "metadata": {},
   "outputs": [],
   "source": [
    "\n",
    "\n",
    "\n",
    "\n"
   ]
  },
  {
   "cell_type": "markdown",
   "metadata": {},
   "source": [
    "#### 5) Calculate the monthly PNL of a \\$10,000 investment in QQQ during the time period."
   ]
  },
  {
   "cell_type": "code",
   "execution_count": null,
   "metadata": {},
   "outputs": [],
   "source": [
    "\n",
    "\n",
    "\n",
    "\n",
    "\n",
    "\n",
    "\n",
    "\n"
   ]
  }
 ],
 "metadata": {
  "kernelspec": {
   "display_name": "Python 3",
   "language": "python",
   "name": "python3"
  },
  "language_info": {
   "codemirror_mode": {
    "name": "ipython",
    "version": 3
   },
   "file_extension": ".py",
   "mimetype": "text/x-python",
   "name": "python",
   "nbconvert_exporter": "python",
   "pygments_lexer": "ipython3",
   "version": "3.6.8"
  }
 },
 "nbformat": 4,
 "nbformat_minor": 2
}
