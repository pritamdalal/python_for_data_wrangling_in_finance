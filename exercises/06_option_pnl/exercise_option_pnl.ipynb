{
 "cells": [
  {
   "cell_type": "markdown",
   "metadata": {},
   "source": [
    "# Exercise 6 - calculating option pnl"
   ]
  },
  {
   "cell_type": "markdown",
   "metadata": {},
   "source": [
    "The purpose of the this exercise is to demonstrate how to calculate the PNL for an option trade.  In this class, we won't go deep into option pricing and theory, and PNLs will usually be provided for any analysis that you will be doing.  However, this exercise gives a data-focused introduction to these topics."
   ]
  },
  {
   "cell_type": "markdown",
   "metadata": {},
   "source": [
    "The dataset that we will be using for this exercise are the EOD prices for a call option on SPY, with a strike price of 289 and a expiration date of 9/21/2018.  The prices start on 8/17/2018 and end on the option expiration date.  Each row consists of one day of price data."
   ]
  },
  {
   "cell_type": "markdown",
   "metadata": {},
   "source": [
    "#### 1) What should you do at the beginning of all of your notebooks?"
   ]
  },
  {
   "cell_type": "code",
   "execution_count": null,
   "metadata": {},
   "outputs": [],
   "source": [
    "\n"
   ]
  },
  {
   "cell_type": "markdown",
   "metadata": {},
   "source": [
    "#### 2) Read-in the CSV called `spy_call_pnl.csv`."
   ]
  },
  {
   "cell_type": "code",
   "execution_count": null,
   "metadata": {},
   "outputs": [],
   "source": [
    "\n"
   ]
  },
  {
   "cell_type": "markdown",
   "metadata": {},
   "source": [
    "#### 3) Use `DataFrame` masking to verify that the on the `expiration` date, the `bid`, `ask`, and `mid` are all equal to the payoff of the option.  Also verify that the `delta` of the option is equal to $1.0$ at expiration."
   ]
  },
  {
   "cell_type": "code",
   "execution_count": null,
   "metadata": {},
   "outputs": [],
   "source": [
    "\n"
   ]
  },
  {
   "cell_type": "markdown",
   "metadata": {},
   "source": [
    "#### 4) The following code adds a column called `mid_pnl` to `df_call` and then populates it with the daily-pnl from *selling* this option. Run the code and also analyze what it does.\n",
    "\n",
    "\n",
    "#### In particular, this calculation implements the following logic:\n",
    "\n",
    "#### i. we sell the option at the `mid` price on 8/17/2018 (the execution date)\n",
    "#### ii. we hold the option until expiration\n",
    "#### iii each day we *mark* our position against the `mid`.  \n"
   ]
  },
  {
   "cell_type": "code",
   "execution_count": null,
   "metadata": {},
   "outputs": [],
   "source": [
    "df_call['mid_pnl'] = np.nan # initialing the column with NANs\n",
    "for ix in df_call.index:\n",
    "\n",
    "    if ix == 0:\n",
    "        df_call.at[ix, 'mid_pnl'] = 0 # trade at mid, mark at mid, so always zero\n",
    "    else:\n",
    "        prev_mid = df_call.at[ix - 1, 'mid']\n",
    "        curr_mid = df_call.at[ix, 'mid']\n",
    "        df_call.at[ix, 'mid_pnl'] = prev_mid - curr_mid # marking against mid\n",
    "    \n",
    "\n",
    "df_call.head()"
   ]
  },
  {
   "cell_type": "markdown",
   "metadata": {},
   "source": [
    "#### In the empty cell below you will modify this code to make this calculation more realistic.\n",
    "\n",
    "#### In particular, your modification is going assume: 1) that we sell this option at the `bid`;  2) that we mark our position against the ask at the end of each day.  This is achieved with the following:\n",
    "\n",
    "#### i. Create a new column called `bid_ask_pnl`.\n",
    "\n",
    "#### ii. On the execution date, `bid_ask_pnl` is equal `bid - ask`.\n",
    "\n",
    "#### iii. On all subsequent days, `bid_ask_pnl` is equal to `prev_ask - curr_ask`."
   ]
  },
  {
   "cell_type": "code",
   "execution_count": null,
   "metadata": {},
   "outputs": [],
   "source": [
    "\n",
    "\n",
    "\n",
    "\n",
    "\n",
    "\n",
    "\n",
    "\n",
    "\n"
   ]
  },
  {
   "cell_type": "markdown",
   "metadata": {},
   "source": [
    "#### 5) Verify that the sum of the `mid_pnls` is equal the execution-date `mid` price -less- the option payoff.  Also verify that the sum of the `bid_ask_pnls` is equal to the execution-date `bid` price -less- the option payoff."
   ]
  },
  {
   "cell_type": "code",
   "execution_count": null,
   "metadata": {},
   "outputs": [],
   "source": [
    "\n",
    "\n"
   ]
  },
  {
   "cell_type": "markdown",
   "metadata": {},
   "source": [
    "#### 6) The `delta` of an option is the sensitivity of it's prices to changes in the underlying prices.  The delta is always between 0 and 1.  A `delta` of  1 means that for every one dollar change in the underlying price, there will be a one dollar change in the option price.  A delta of 0.5 means that a one  dollar change in underlying price will result in a 50 cent change in the option price.\n",
    "\n",
    "#### Options that are in-the-money have will have a delta of greater that 0.50.  Options that are out-of-the-money will have a delta of less that 0.50.  Quants usually argue this point analytically.  As data analysts, we will be satisfied to confirm it empirically.\n",
    "\n",
    "#### Show that the average `delta` on days that our option is OTM is less that 0.50.  Also show that the average `delta` on ITM days is greater that 0.50"
   ]
  },
  {
   "cell_type": "code",
   "execution_count": null,
   "metadata": {},
   "outputs": [],
   "source": [
    "\n",
    "\n"
   ]
  }
 ],
 "metadata": {
  "kernelspec": {
   "display_name": "Python 3",
   "language": "python",
   "name": "python3"
  },
  "language_info": {
   "codemirror_mode": {
    "name": "ipython",
    "version": 3
   },
   "file_extension": ".py",
   "mimetype": "text/x-python",
   "name": "python",
   "nbconvert_exporter": "python",
   "pygments_lexer": "ipython3",
   "version": "3.6.8"
  }
 },
 "nbformat": 4,
 "nbformat_minor": 2
}
