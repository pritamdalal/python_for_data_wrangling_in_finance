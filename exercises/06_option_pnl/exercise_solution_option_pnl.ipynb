{
 "cells": [
  {
   "cell_type": "markdown",
   "metadata": {},
   "source": [
    "# Exercise 6 - calculating option pnl"
   ]
  },
  {
   "cell_type": "markdown",
   "metadata": {},
   "source": [
    "The purpose of the this exercise is to demonstrate how to calculate the PNL for an option trade.  In this class, we won't go deep into option pricing and theory, and PNLs will usually be provided for any analysis that you will be doing.  However, this exercise gives a data-focused introduction to these topics."
   ]
  },
  {
   "cell_type": "markdown",
   "metadata": {},
   "source": [
    "The dataset that we will be using for this exercise are the EOD prices for a call option on SPY, with a strike price of 289 and a expiration date of 9/21/2018.  The prices start on 8/17/2018 and end on the option expiration date.  Each row consists of one day of price data."
   ]
  },
  {
   "cell_type": "markdown",
   "metadata": {},
   "source": [
    "#### 1) What should you do at the beginning of all of your notebooks?"
   ]
  },
  {
   "cell_type": "code",
   "execution_count": 1,
   "metadata": {},
   "outputs": [],
   "source": [
    "import pandas as pd\n",
    "import numpy as np"
   ]
  },
  {
   "cell_type": "markdown",
   "metadata": {},
   "source": [
    "#### 2) Read-in the CSV called `spy_call_pnl.csv`."
   ]
  },
  {
   "cell_type": "code",
   "execution_count": 2,
   "metadata": {},
   "outputs": [
    {
     "data": {
      "text/html": [
       "<div>\n",
       "<style scoped>\n",
       "    .dataframe tbody tr th:only-of-type {\n",
       "        vertical-align: middle;\n",
       "    }\n",
       "\n",
       "    .dataframe tbody tr th {\n",
       "        vertical-align: top;\n",
       "    }\n",
       "\n",
       "    .dataframe thead th {\n",
       "        text-align: right;\n",
       "    }\n",
       "</style>\n",
       "<table border=\"1\" class=\"dataframe\">\n",
       "  <thead>\n",
       "    <tr style=\"text-align: right;\">\n",
       "      <th></th>\n",
       "      <th>underlying</th>\n",
       "      <th>upx</th>\n",
       "      <th>type</th>\n",
       "      <th>expiration</th>\n",
       "      <th>data_date</th>\n",
       "      <th>strike</th>\n",
       "      <th>bid</th>\n",
       "      <th>ask</th>\n",
       "      <th>mid</th>\n",
       "      <th>delta</th>\n",
       "    </tr>\n",
       "  </thead>\n",
       "  <tbody>\n",
       "    <tr>\n",
       "      <th>0</th>\n",
       "      <td>SPY</td>\n",
       "      <td>285.019989</td>\n",
       "      <td>call</td>\n",
       "      <td>2018-09-21</td>\n",
       "      <td>2018-08-17</td>\n",
       "      <td>289</td>\n",
       "      <td>1.39</td>\n",
       "      <td>1.41</td>\n",
       "      <td>1.40</td>\n",
       "      <td>0.297905</td>\n",
       "    </tr>\n",
       "    <tr>\n",
       "      <th>1</th>\n",
       "      <td>SPY</td>\n",
       "      <td>285.679993</td>\n",
       "      <td>call</td>\n",
       "      <td>2018-09-21</td>\n",
       "      <td>2018-08-20</td>\n",
       "      <td>289</td>\n",
       "      <td>1.56</td>\n",
       "      <td>1.58</td>\n",
       "      <td>1.57</td>\n",
       "      <td>0.328623</td>\n",
       "    </tr>\n",
       "    <tr>\n",
       "      <th>2</th>\n",
       "      <td>SPY</td>\n",
       "      <td>286.269989</td>\n",
       "      <td>call</td>\n",
       "      <td>2018-09-21</td>\n",
       "      <td>2018-08-21</td>\n",
       "      <td>289</td>\n",
       "      <td>1.73</td>\n",
       "      <td>1.75</td>\n",
       "      <td>1.74</td>\n",
       "      <td>0.351140</td>\n",
       "    </tr>\n",
       "    <tr>\n",
       "      <th>3</th>\n",
       "      <td>SPY</td>\n",
       "      <td>286.209991</td>\n",
       "      <td>call</td>\n",
       "      <td>2018-09-21</td>\n",
       "      <td>2018-08-22</td>\n",
       "      <td>289</td>\n",
       "      <td>1.53</td>\n",
       "      <td>1.55</td>\n",
       "      <td>1.54</td>\n",
       "      <td>0.335256</td>\n",
       "    </tr>\n",
       "    <tr>\n",
       "      <th>4</th>\n",
       "      <td>SPY</td>\n",
       "      <td>285.790009</td>\n",
       "      <td>call</td>\n",
       "      <td>2018-09-21</td>\n",
       "      <td>2018-08-23</td>\n",
       "      <td>289</td>\n",
       "      <td>1.39</td>\n",
       "      <td>1.41</td>\n",
       "      <td>1.40</td>\n",
       "      <td>0.317830</td>\n",
       "    </tr>\n",
       "  </tbody>\n",
       "</table>\n",
       "</div>"
      ],
      "text/plain": [
       "  underlying         upx  type  expiration   data_date  strike   bid   ask  \\\n",
       "0        SPY  285.019989  call  2018-09-21  2018-08-17     289  1.39  1.41   \n",
       "1        SPY  285.679993  call  2018-09-21  2018-08-20     289  1.56  1.58   \n",
       "2        SPY  286.269989  call  2018-09-21  2018-08-21     289  1.73  1.75   \n",
       "3        SPY  286.209991  call  2018-09-21  2018-08-22     289  1.53  1.55   \n",
       "4        SPY  285.790009  call  2018-09-21  2018-08-23     289  1.39  1.41   \n",
       "\n",
       "    mid     delta  \n",
       "0  1.40  0.297905  \n",
       "1  1.57  0.328623  \n",
       "2  1.74  0.351140  \n",
       "3  1.54  0.335256  \n",
       "4  1.40  0.317830  "
      ]
     },
     "execution_count": 2,
     "metadata": {},
     "output_type": "execute_result"
    }
   ],
   "source": [
    "df_call = pd.read_csv('../data/spy_call_pnl.csv')\n",
    "df_call.head()"
   ]
  },
  {
   "cell_type": "markdown",
   "metadata": {},
   "source": [
    "#### 3) Use `DataFrame` masking to verify that the on the `expiration` date, the `bid`, `ask`, and `mid` are all equal to the payoff of the option.  Also verify that the `delta` of the option is equal to $1.0$ at expiration."
   ]
  },
  {
   "cell_type": "code",
   "execution_count": 3,
   "metadata": {},
   "outputs": [
    {
     "data": {
      "text/html": [
       "<div>\n",
       "<style scoped>\n",
       "    .dataframe tbody tr th:only-of-type {\n",
       "        vertical-align: middle;\n",
       "    }\n",
       "\n",
       "    .dataframe tbody tr th {\n",
       "        vertical-align: top;\n",
       "    }\n",
       "\n",
       "    .dataframe thead th {\n",
       "        text-align: right;\n",
       "    }\n",
       "</style>\n",
       "<table border=\"1\" class=\"dataframe\">\n",
       "  <thead>\n",
       "    <tr style=\"text-align: right;\">\n",
       "      <th></th>\n",
       "      <th>underlying</th>\n",
       "      <th>upx</th>\n",
       "      <th>type</th>\n",
       "      <th>expiration</th>\n",
       "      <th>data_date</th>\n",
       "      <th>strike</th>\n",
       "      <th>bid</th>\n",
       "      <th>ask</th>\n",
       "      <th>mid</th>\n",
       "      <th>delta</th>\n",
       "    </tr>\n",
       "  </thead>\n",
       "  <tbody>\n",
       "    <tr>\n",
       "      <th>24</th>\n",
       "      <td>SPY</td>\n",
       "      <td>292.040009</td>\n",
       "      <td>call</td>\n",
       "      <td>2018-09-21</td>\n",
       "      <td>2018-09-21</td>\n",
       "      <td>289</td>\n",
       "      <td>3.040009</td>\n",
       "      <td>3.040009</td>\n",
       "      <td>3.040009</td>\n",
       "      <td>1.0</td>\n",
       "    </tr>\n",
       "  </tbody>\n",
       "</table>\n",
       "</div>"
      ],
      "text/plain": [
       "   underlying         upx  type  expiration   data_date  strike       bid  \\\n",
       "24        SPY  292.040009  call  2018-09-21  2018-09-21     289  3.040009   \n",
       "\n",
       "         ask       mid  delta  \n",
       "24  3.040009  3.040009    1.0  "
      ]
     },
     "execution_count": 3,
     "metadata": {},
     "output_type": "execute_result"
    }
   ],
   "source": [
    "# all prices are equal to 292.04 - 289\n",
    "# delta is equal to 1.0\n",
    "df_call[df_call.data_date == df_call.expiration]"
   ]
  },
  {
   "cell_type": "markdown",
   "metadata": {},
   "source": [
    "#### 4) The following code adds a column called `mid_pnl` to `df_call` and then populates it with the daily-pnl from *selling* this option. Run the code and also analyze what it does.\n",
    "\n",
    "\n",
    "#### In particular, this calculation implements the following logic:\n",
    "\n",
    "#### i. we sell the option at the `mid` price on 8/17/2018 (the execution date)\n",
    "#### ii. we hold the option until expiration\n",
    "#### iii each day we *mark* our position against the `mid`.  \n"
   ]
  },
  {
   "cell_type": "code",
   "execution_count": 4,
   "metadata": {},
   "outputs": [
    {
     "data": {
      "text/html": [
       "<div>\n",
       "<style scoped>\n",
       "    .dataframe tbody tr th:only-of-type {\n",
       "        vertical-align: middle;\n",
       "    }\n",
       "\n",
       "    .dataframe tbody tr th {\n",
       "        vertical-align: top;\n",
       "    }\n",
       "\n",
       "    .dataframe thead th {\n",
       "        text-align: right;\n",
       "    }\n",
       "</style>\n",
       "<table border=\"1\" class=\"dataframe\">\n",
       "  <thead>\n",
       "    <tr style=\"text-align: right;\">\n",
       "      <th></th>\n",
       "      <th>underlying</th>\n",
       "      <th>upx</th>\n",
       "      <th>type</th>\n",
       "      <th>expiration</th>\n",
       "      <th>data_date</th>\n",
       "      <th>strike</th>\n",
       "      <th>bid</th>\n",
       "      <th>ask</th>\n",
       "      <th>mid</th>\n",
       "      <th>delta</th>\n",
       "      <th>mid_pnl</th>\n",
       "    </tr>\n",
       "  </thead>\n",
       "  <tbody>\n",
       "    <tr>\n",
       "      <th>0</th>\n",
       "      <td>SPY</td>\n",
       "      <td>285.019989</td>\n",
       "      <td>call</td>\n",
       "      <td>2018-09-21</td>\n",
       "      <td>2018-08-17</td>\n",
       "      <td>289</td>\n",
       "      <td>1.39</td>\n",
       "      <td>1.41</td>\n",
       "      <td>1.40</td>\n",
       "      <td>0.297905</td>\n",
       "      <td>0.00</td>\n",
       "    </tr>\n",
       "    <tr>\n",
       "      <th>1</th>\n",
       "      <td>SPY</td>\n",
       "      <td>285.679993</td>\n",
       "      <td>call</td>\n",
       "      <td>2018-09-21</td>\n",
       "      <td>2018-08-20</td>\n",
       "      <td>289</td>\n",
       "      <td>1.56</td>\n",
       "      <td>1.58</td>\n",
       "      <td>1.57</td>\n",
       "      <td>0.328623</td>\n",
       "      <td>-0.17</td>\n",
       "    </tr>\n",
       "    <tr>\n",
       "      <th>2</th>\n",
       "      <td>SPY</td>\n",
       "      <td>286.269989</td>\n",
       "      <td>call</td>\n",
       "      <td>2018-09-21</td>\n",
       "      <td>2018-08-21</td>\n",
       "      <td>289</td>\n",
       "      <td>1.73</td>\n",
       "      <td>1.75</td>\n",
       "      <td>1.74</td>\n",
       "      <td>0.351140</td>\n",
       "      <td>-0.17</td>\n",
       "    </tr>\n",
       "    <tr>\n",
       "      <th>3</th>\n",
       "      <td>SPY</td>\n",
       "      <td>286.209991</td>\n",
       "      <td>call</td>\n",
       "      <td>2018-09-21</td>\n",
       "      <td>2018-08-22</td>\n",
       "      <td>289</td>\n",
       "      <td>1.53</td>\n",
       "      <td>1.55</td>\n",
       "      <td>1.54</td>\n",
       "      <td>0.335256</td>\n",
       "      <td>0.20</td>\n",
       "    </tr>\n",
       "    <tr>\n",
       "      <th>4</th>\n",
       "      <td>SPY</td>\n",
       "      <td>285.790009</td>\n",
       "      <td>call</td>\n",
       "      <td>2018-09-21</td>\n",
       "      <td>2018-08-23</td>\n",
       "      <td>289</td>\n",
       "      <td>1.39</td>\n",
       "      <td>1.41</td>\n",
       "      <td>1.40</td>\n",
       "      <td>0.317830</td>\n",
       "      <td>0.14</td>\n",
       "    </tr>\n",
       "  </tbody>\n",
       "</table>\n",
       "</div>"
      ],
      "text/plain": [
       "  underlying         upx  type  expiration   data_date  strike   bid   ask  \\\n",
       "0        SPY  285.019989  call  2018-09-21  2018-08-17     289  1.39  1.41   \n",
       "1        SPY  285.679993  call  2018-09-21  2018-08-20     289  1.56  1.58   \n",
       "2        SPY  286.269989  call  2018-09-21  2018-08-21     289  1.73  1.75   \n",
       "3        SPY  286.209991  call  2018-09-21  2018-08-22     289  1.53  1.55   \n",
       "4        SPY  285.790009  call  2018-09-21  2018-08-23     289  1.39  1.41   \n",
       "\n",
       "    mid     delta  mid_pnl  \n",
       "0  1.40  0.297905     0.00  \n",
       "1  1.57  0.328623    -0.17  \n",
       "2  1.74  0.351140    -0.17  \n",
       "3  1.54  0.335256     0.20  \n",
       "4  1.40  0.317830     0.14  "
      ]
     },
     "execution_count": 4,
     "metadata": {},
     "output_type": "execute_result"
    }
   ],
   "source": [
    "df_call['mid_pnl'] = np.nan # initialing the column with NANs\n",
    "for ix in df_call.index:\n",
    "\n",
    "    if ix == 0:\n",
    "        df_call.at[ix, 'mid_pnl'] = 0 # trade at mid, mark at mid, so always zero\n",
    "    else:\n",
    "        prev_mid = df_call.at[ix - 1, 'mid']\n",
    "        curr_mid = df_call.at[ix, 'mid']\n",
    "        df_call.at[ix, 'mid_pnl'] = prev_mid - curr_mid # marking against mid\n",
    "    \n",
    "\n",
    "df_call.head()"
   ]
  },
  {
   "cell_type": "markdown",
   "metadata": {},
   "source": [
    "#### In the empty cell below you will modify this code to make this calculation more realistic.\n",
    "\n",
    "#### In particular, your modification is going assume: 1) that we sell this option at the `bid`;  2) that we mark our position against the ask at the end of each day.  This is achieved with the following:\n",
    "\n",
    "#### i. Create a new column called `bid_ask_pnl`.\n",
    "\n",
    "#### ii. On the execution date, `bid_ask_pnl` is equal `bid - ask`.\n",
    "\n",
    "#### iii. On all subsequent days, `bid_ask_pnl` is equal to `prev_ask - curr_ask`."
   ]
  },
  {
   "cell_type": "code",
   "execution_count": 5,
   "metadata": {},
   "outputs": [
    {
     "data": {
      "text/html": [
       "<div>\n",
       "<style scoped>\n",
       "    .dataframe tbody tr th:only-of-type {\n",
       "        vertical-align: middle;\n",
       "    }\n",
       "\n",
       "    .dataframe tbody tr th {\n",
       "        vertical-align: top;\n",
       "    }\n",
       "\n",
       "    .dataframe thead th {\n",
       "        text-align: right;\n",
       "    }\n",
       "</style>\n",
       "<table border=\"1\" class=\"dataframe\">\n",
       "  <thead>\n",
       "    <tr style=\"text-align: right;\">\n",
       "      <th></th>\n",
       "      <th>underlying</th>\n",
       "      <th>upx</th>\n",
       "      <th>type</th>\n",
       "      <th>expiration</th>\n",
       "      <th>data_date</th>\n",
       "      <th>strike</th>\n",
       "      <th>bid</th>\n",
       "      <th>ask</th>\n",
       "      <th>mid</th>\n",
       "      <th>delta</th>\n",
       "      <th>mid_pnl</th>\n",
       "      <th>bid_ask_pnl</th>\n",
       "    </tr>\n",
       "  </thead>\n",
       "  <tbody>\n",
       "    <tr>\n",
       "      <th>0</th>\n",
       "      <td>SPY</td>\n",
       "      <td>285.019989</td>\n",
       "      <td>call</td>\n",
       "      <td>2018-09-21</td>\n",
       "      <td>2018-08-17</td>\n",
       "      <td>289</td>\n",
       "      <td>1.39</td>\n",
       "      <td>1.41</td>\n",
       "      <td>1.40</td>\n",
       "      <td>0.297905</td>\n",
       "      <td>0.00</td>\n",
       "      <td>-0.02</td>\n",
       "    </tr>\n",
       "    <tr>\n",
       "      <th>1</th>\n",
       "      <td>SPY</td>\n",
       "      <td>285.679993</td>\n",
       "      <td>call</td>\n",
       "      <td>2018-09-21</td>\n",
       "      <td>2018-08-20</td>\n",
       "      <td>289</td>\n",
       "      <td>1.56</td>\n",
       "      <td>1.58</td>\n",
       "      <td>1.57</td>\n",
       "      <td>0.328623</td>\n",
       "      <td>-0.17</td>\n",
       "      <td>-0.17</td>\n",
       "    </tr>\n",
       "    <tr>\n",
       "      <th>2</th>\n",
       "      <td>SPY</td>\n",
       "      <td>286.269989</td>\n",
       "      <td>call</td>\n",
       "      <td>2018-09-21</td>\n",
       "      <td>2018-08-21</td>\n",
       "      <td>289</td>\n",
       "      <td>1.73</td>\n",
       "      <td>1.75</td>\n",
       "      <td>1.74</td>\n",
       "      <td>0.351140</td>\n",
       "      <td>-0.17</td>\n",
       "      <td>-0.17</td>\n",
       "    </tr>\n",
       "    <tr>\n",
       "      <th>3</th>\n",
       "      <td>SPY</td>\n",
       "      <td>286.209991</td>\n",
       "      <td>call</td>\n",
       "      <td>2018-09-21</td>\n",
       "      <td>2018-08-22</td>\n",
       "      <td>289</td>\n",
       "      <td>1.53</td>\n",
       "      <td>1.55</td>\n",
       "      <td>1.54</td>\n",
       "      <td>0.335256</td>\n",
       "      <td>0.20</td>\n",
       "      <td>0.20</td>\n",
       "    </tr>\n",
       "    <tr>\n",
       "      <th>4</th>\n",
       "      <td>SPY</td>\n",
       "      <td>285.790009</td>\n",
       "      <td>call</td>\n",
       "      <td>2018-09-21</td>\n",
       "      <td>2018-08-23</td>\n",
       "      <td>289</td>\n",
       "      <td>1.39</td>\n",
       "      <td>1.41</td>\n",
       "      <td>1.40</td>\n",
       "      <td>0.317830</td>\n",
       "      <td>0.14</td>\n",
       "      <td>0.14</td>\n",
       "    </tr>\n",
       "  </tbody>\n",
       "</table>\n",
       "</div>"
      ],
      "text/plain": [
       "  underlying         upx  type  expiration   data_date  strike   bid   ask  \\\n",
       "0        SPY  285.019989  call  2018-09-21  2018-08-17     289  1.39  1.41   \n",
       "1        SPY  285.679993  call  2018-09-21  2018-08-20     289  1.56  1.58   \n",
       "2        SPY  286.269989  call  2018-09-21  2018-08-21     289  1.73  1.75   \n",
       "3        SPY  286.209991  call  2018-09-21  2018-08-22     289  1.53  1.55   \n",
       "4        SPY  285.790009  call  2018-09-21  2018-08-23     289  1.39  1.41   \n",
       "\n",
       "    mid     delta  mid_pnl  bid_ask_pnl  \n",
       "0  1.40  0.297905     0.00        -0.02  \n",
       "1  1.57  0.328623    -0.17        -0.17  \n",
       "2  1.74  0.351140    -0.17        -0.17  \n",
       "3  1.54  0.335256     0.20         0.20  \n",
       "4  1.40  0.317830     0.14         0.14  "
      ]
     },
     "execution_count": 5,
     "metadata": {},
     "output_type": "execute_result"
    }
   ],
   "source": [
    "df_call['bid_ask_pnl'] = np.nan\n",
    "for ix in df_call.index:\n",
    "\n",
    "    if ix == 0:\n",
    "        df_call.at[ix, 'bid_ask_pnl'] = \\\n",
    "            df_call.at[ix, 'bid'] - df_call.at[ix, 'ask']\n",
    "    else:\n",
    "        prev_ask = df_call.at[ix - 1, 'ask']\n",
    "        curr_ask = df_call.at[ix, 'ask']\n",
    "        df_call.at[ix, 'bid_ask_pnl'] = prev_ask - curr_ask\n",
    "    \n",
    "\n",
    "df_call.head()"
   ]
  },
  {
   "cell_type": "markdown",
   "metadata": {},
   "source": [
    "#### 5) Verify that the sum of the `mid_pnls` is equal the execution-date `mid` price -less- the option payoff.  Also verify that the sum of the `bid_ask_pnls` is equal to the execution-date `bid` price -less- the option payoff."
   ]
  },
  {
   "cell_type": "code",
   "execution_count": 6,
   "metadata": {},
   "outputs": [
    {
     "name": "stdout",
     "output_type": "stream",
     "text": [
      "-1.640008568763733\n",
      "-1.6500085592269893\n"
     ]
    }
   ],
   "source": [
    "print(np.sum(df_call['mid_pnl']))     # this is the same as 1.40 - (292.04 - 289)\n",
    "print(np.sum(df_call['bid_ask_pnl'])) # this is the same as 1.39 - (292.04 - 289)"
   ]
  },
  {
   "cell_type": "markdown",
   "metadata": {},
   "source": [
    "#### 6) The `delta` of an option is the sensitivity of it's prices to changes in the underlying prices.  The delta is always between 0 and 1.  A `delta` of  1 means that for every one dollar change in the underlying price, there will be a one dollar change in the option price.  A delta of 0.5 means that a one  dollar change in underlying price will result in a 50 cent change in the option price.\n",
    "\n",
    "#### Options that are in-the-money have will have a delta of greater that 0.50.  Options that are out-of-the-money will have a delta of less that 0.50.  Quants usually argue this point analytically.  As data analysts, we will be satisfied to confirm it empirically.\n",
    "\n",
    "#### Show that the average `delta` on days that our option is OTM is less that 0.50.  Also show that the average `delta` on ITM days is greater that 0.50"
   ]
  },
  {
   "cell_type": "code",
   "execution_count": 7,
   "metadata": {},
   "outputs": [
    {
     "data": {
      "text/plain": [
       "0.5953252248901814"
      ]
     },
     "execution_count": 7,
     "metadata": {},
     "output_type": "execute_result"
    }
   ],
   "source": [
    "# ITM\n",
    "np.mean(df_call[df_call.upx > df_call.strike]['delta'])"
   ]
  },
  {
   "cell_type": "code",
   "execution_count": 8,
   "metadata": {},
   "outputs": [
    {
     "data": {
      "text/plain": [
       "0.35653435576037906"
      ]
     },
     "execution_count": 8,
     "metadata": {},
     "output_type": "execute_result"
    }
   ],
   "source": [
    "# OTM\n",
    "np.mean(df_call[df_call.upx <= df_call.strike]['delta'])"
   ]
  }
 ],
 "metadata": {
  "kernelspec": {
   "display_name": "Python 3",
   "language": "python",
   "name": "python3"
  },
  "language_info": {
   "codemirror_mode": {
    "name": "ipython",
    "version": 3
   },
   "file_extension": ".py",
   "mimetype": "text/x-python",
   "name": "python",
   "nbconvert_exporter": "python",
   "pygments_lexer": "ipython3",
   "version": "3.6.8"
  }
 },
 "nbformat": 4,
 "nbformat_minor": 2
}
