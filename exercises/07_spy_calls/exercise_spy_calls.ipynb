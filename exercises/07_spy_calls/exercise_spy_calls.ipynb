{
 "cells": [
  {
   "cell_type": "markdown",
   "metadata": {},
   "source": [
    "# Exercise 7 - an analysis of SPY calls"
   ]
  },
  {
   "cell_type": "markdown",
   "metadata": {},
   "source": [
    "The purpose of this analysis is to perform analysis on a set of 12 SPY option trade from 2018."
   ]
  },
  {
   "cell_type": "markdown",
   "metadata": {},
   "source": [
    "#### 1) What do you do at the beginning of each notebook?"
   ]
  },
  {
   "cell_type": "code",
   "execution_count": null,
   "metadata": {},
   "outputs": [],
   "source": [
    "\n"
   ]
  },
  {
   "cell_type": "markdown",
   "metadata": {},
   "source": [
    "#### 2) Read-in the two CSVs named `spy_2018_call_trade.csv` and `spy_2018_call_pnl.csv`.  Call them `df_trade` and `df_pnl` respectively.  The former consists of data related to the individual trades, the latter gives price-history and pnl data related to the trades."
   ]
  },
  {
   "cell_type": "code",
   "execution_count": null,
   "metadata": {},
   "outputs": [],
   "source": [
    "\n"
   ]
  },
  {
   "cell_type": "markdown",
   "metadata": {},
   "source": [
    "#### 3) Check that there are a total of 12 options represented in `df_trade`.  Recall that an option is uniquely defined by its `underlying`, `type`, `strike`, and `expiration`."
   ]
  },
  {
   "cell_type": "code",
   "execution_count": null,
   "metadata": {},
   "outputs": [],
   "source": [
    "\n",
    "\n"
   ]
  },
  {
   "cell_type": "markdown",
   "metadata": {},
   "source": [
    "#### 4)  Check that there are a total of 12 options represented in `df_pnl`."
   ]
  },
  {
   "cell_type": "code",
   "execution_count": null,
   "metadata": {},
   "outputs": [],
   "source": [
    "\n",
    "\n"
   ]
  },
  {
   "cell_type": "markdown",
   "metadata": {},
   "source": [
    "#### 5) These trades were selected so that on their execution, the options had a delta of close to 0.30.  Verify that this is actually the case."
   ]
  },
  {
   "cell_type": "code",
   "execution_count": null,
   "metadata": {},
   "outputs": [],
   "source": [
    "\n",
    "\n"
   ]
  },
  {
   "cell_type": "markdown",
   "metadata": {},
   "source": [
    "#### 6) Verify that the trade-price for each of the trades is equal to the bid-price on execution date."
   ]
  },
  {
   "cell_type": "code",
   "execution_count": null,
   "metadata": {},
   "outputs": [],
   "source": [
    "\n",
    "\n",
    "\n",
    "\n",
    "\n"
   ]
  },
  {
   "cell_type": "markdown",
   "metadata": {},
   "source": [
    "#### 7) Our data consists of one option trade per monthly expiration in 2018.  Calculate the total PNL by expiration."
   ]
  },
  {
   "cell_type": "code",
   "execution_count": null,
   "metadata": {},
   "outputs": [],
   "source": [
    "\n",
    "\n",
    "\n"
   ]
  },
  {
   "cell_type": "markdown",
   "metadata": {},
   "source": [
    "#### 8) Delta-hedging is a risk-management practice that is foundational to option pricing and option replication.  The details of delta-hedging are beyond the scope of this course, but we'll touch on it a bit in the next few questions.\n",
    "\n",
    "#### The `df_pnl['dly_dh_pnl']` column is the pnl from the delta-hedge that you would hold against the option position.  As a preliminary step, create a new column called `df_pnl['dly_tot_pnl']` that is the sum of the option pnl and the delta-hedge pnl."
   ]
  },
  {
   "cell_type": "code",
   "execution_count": null,
   "metadata": {},
   "outputs": [],
   "source": [
    "\n",
    "\n",
    "\n"
   ]
  },
  {
   "cell_type": "markdown",
   "metadata": {},
   "source": [
    "#### 9) Calculate the daily aggregates of the option-pnl, delta-hedge pnl, and total pnl.  Put these aggregate daily pnls into a dataframe called `df_comparison`."
   ]
  },
  {
   "cell_type": "code",
   "execution_count": null,
   "metadata": {},
   "outputs": [],
   "source": [
    "\n",
    "\n",
    "\n",
    "\n"
   ]
  },
  {
   "cell_type": "markdown",
   "metadata": {},
   "source": [
    "#### 10) Delta-hedging is a *hedge* against the option position, which means the pnl from delta-hedging should move in the opposite direction as the pnl from the option.  If this is the case, what should the correlation be between `dly_opt_pnl` and `dly_dh_pnl`?  Use `np.corrcoef()` on `df_comparison` to verify this."
   ]
  },
  {
   "cell_type": "code",
   "execution_count": null,
   "metadata": {},
   "outputs": [],
   "source": [
    "\n",
    "\n"
   ]
  },
  {
   "cell_type": "markdown",
   "metadata": {},
   "source": [
    "#### 11) A hedge should also reduce the risk of your portfolio.  Check that this is the case be comparing the standard deviation of `dly_opt_pnl` and `dly_tot_pnl`."
   ]
  },
  {
   "cell_type": "code",
   "execution_count": null,
   "metadata": {},
   "outputs": [],
   "source": [
    "\n",
    "\n",
    "\n"
   ]
  }
 ],
 "metadata": {
  "kernelspec": {
   "display_name": "Python 3",
   "language": "python",
   "name": "python3"
  },
  "language_info": {
   "codemirror_mode": {
    "name": "ipython",
    "version": 3
   },
   "file_extension": ".py",
   "mimetype": "text/x-python",
   "name": "python",
   "nbconvert_exporter": "python",
   "pygments_lexer": "ipython3",
   "version": "3.6.8"
  }
 },
 "nbformat": 4,
 "nbformat_minor": 2
}
