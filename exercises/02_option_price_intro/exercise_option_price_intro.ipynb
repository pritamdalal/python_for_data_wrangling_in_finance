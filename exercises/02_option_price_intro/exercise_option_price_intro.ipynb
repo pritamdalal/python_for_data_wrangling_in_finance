{
 "cells": [
  {
   "cell_type": "markdown",
   "metadata": {},
   "source": [
    "## Exercise 02 - option price introduction"
   ]
  },
  {
   "cell_type": "markdown",
   "metadata": {},
   "source": [
    "The purpose of this is to introduce you to a small amount of options data.  You'll perform a few calculations (which aren't all that meaningful) but the real motivation is to get your hand a little dirty with options data.\n",
    "\n",
    "Along the way, you will use some of the *indexing* and *masking* skills that you learned in Tutorials 04 and 05.\n",
    "\n",
    "We will use the data in following location: *data/spy_put.csv*"
   ]
  },
  {
   "cell_type": "markdown",
   "metadata": {},
   "source": [
    "#### 1) Import the `pandas` and `numpy` packages."
   ]
  },
  {
   "cell_type": "code",
   "execution_count": null,
   "metadata": {},
   "outputs": [],
   "source": []
  },
  {
   "cell_type": "markdown",
   "metadata": {},
   "source": [
    "#### 2) Read-in the data into a variable call `df_put`."
   ]
  },
  {
   "cell_type": "code",
   "execution_count": null,
   "metadata": {},
   "outputs": [],
   "source": []
  },
  {
   "cell_type": "markdown",
   "metadata": {},
   "source": [
    "For those of you unfamiliar with options, this might seem a little overwhelming, but don't worry.  You will be able to complete the exercises without any prior knowledge of options.\n",
    "\n",
    "Options are derivatives contracts written on top of shares of stocks.  Unlike stocks, options have an expiration date - on that date they either have some positive payout, or a they are worth nothing.  After expiration they cease to exist.  We are looking at end-of-day prices, for one particular option, for the 21 days before it expires.\n",
    "\n",
    "In particular, this is **put** option that has SPY as its **underlying**. The **expiration date** of our option is 11/16/2018.  The **strike price** of the contract is 274.  \n",
    "\n",
    "Don't worry if this all sounds like gibberish."
   ]
  },
  {
   "cell_type": "markdown",
   "metadata": {},
   "source": [
    "#### 3) Use fancy indexing to create a `DataFrame` that consists of the put's contract features: `underlying_symbol`, `type`, `expiration`, and `strike`.  This won't be a very interesting `DataFrame` because all 21 rows will be the same."
   ]
  },
  {
   "cell_type": "code",
   "execution_count": null,
   "metadata": {},
   "outputs": [],
   "source": []
  },
  {
   "cell_type": "markdown",
   "metadata": {},
   "source": [
    "#### 4) Create a `Series` of booleans, call it `ser_itm`,  by performing a pair-wise comparison of  `df_put['underlying_price']` and `df_put['strike']`.  In particular, check when the underlying price is less than (`<`) the strike price of the option. "
   ]
  },
  {
   "cell_type": "code",
   "execution_count": null,
   "metadata": {},
   "outputs": [],
   "source": []
  },
  {
   "cell_type": "markdown",
   "metadata": {},
   "source": [
    "#### 5) A put is said to be \"in-the-money\" if the price of the underlying is less than strike of the put.  Use masking to select only the rows from `df_put` when the contract is in the money."
   ]
  },
  {
   "cell_type": "code",
   "execution_count": null,
   "metadata": {},
   "outputs": [],
   "source": []
  },
  {
   "cell_type": "markdown",
   "metadata": {},
   "source": [
    "#### 6) Calculate the average delta for days that the put is in-the-money, and also for the days that it is out-of-the-money.  (Hint: find out how to \"negate\" an array of booleans, apply your masking skills, and then apply your aggreation function skills) "
   ]
  },
  {
   "cell_type": "code",
   "execution_count": null,
   "metadata": {},
   "outputs": [],
   "source": []
  },
  {
   "cell_type": "code",
   "execution_count": null,
   "metadata": {},
   "outputs": [],
   "source": []
  }
 ],
 "metadata": {
  "kernelspec": {
   "display_name": "Python 3",
   "language": "python",
   "name": "python3"
  },
  "language_info": {
   "codemirror_mode": {
    "name": "ipython",
    "version": 3
   },
   "file_extension": ".py",
   "mimetype": "text/x-python",
   "name": "python",
   "nbconvert_exporter": "python",
   "pygments_lexer": "ipython3",
   "version": "3.6.8"
  }
 },
 "nbformat": 4,
 "nbformat_minor": 2
}
