{
 "cells": [
  {
   "cell_type": "markdown",
   "metadata": {},
   "source": [
    "# Exercise - Stock PNL"
   ]
  },
  {
   "cell_type": "markdown",
   "metadata": {},
   "source": [
    "The end goal of this exercise is to caculate the daily profit-and-loss on an investment in a stock.\n",
    "\n",
    "Profit-and-loss, otherwise known as PNL, is the daily dollar change in the value of an investment or position.\n",
    "\n",
    "Along the way, we are going to use the tools of `if`-`else` statments, `for` loops, and `DataFrame` masking.\n",
    "\n",
    "We will use data from the following location: *index_etf_dec_2018.csv*"
   ]
  },
  {
   "cell_type": "markdown",
   "metadata": {},
   "source": [
    "#### 1) Import the `pandas` and `numpy` packages."
   ]
  },
  {
   "cell_type": "code",
   "execution_count": 1,
   "metadata": {},
   "outputs": [],
   "source": [
    "import pandas as pd\n",
    "import numpy as np"
   ]
  },
  {
   "cell_type": "markdown",
   "metadata": {},
   "source": [
    "#### 2) Read in the data set into a dataframe called `df_etf`."
   ]
  },
  {
   "cell_type": "code",
   "execution_count": 2,
   "metadata": {},
   "outputs": [
    {
     "data": {
      "text/html": [
       "<div>\n",
       "<style scoped>\n",
       "    .dataframe tbody tr th:only-of-type {\n",
       "        vertical-align: middle;\n",
       "    }\n",
       "\n",
       "    .dataframe tbody tr th {\n",
       "        vertical-align: top;\n",
       "    }\n",
       "\n",
       "    .dataframe thead th {\n",
       "        text-align: right;\n",
       "    }\n",
       "</style>\n",
       "<table border=\"1\" class=\"dataframe\">\n",
       "  <thead>\n",
       "    <tr style=\"text-align: right;\">\n",
       "      <th></th>\n",
       "      <th>symbol</th>\n",
       "      <th>date</th>\n",
       "      <th>open</th>\n",
       "      <th>high</th>\n",
       "      <th>low</th>\n",
       "      <th>close</th>\n",
       "      <th>volume</th>\n",
       "      <th>adjusted</th>\n",
       "    </tr>\n",
       "  </thead>\n",
       "  <tbody>\n",
       "    <tr>\n",
       "      <th>0</th>\n",
       "      <td>SPY</td>\n",
       "      <td>2018-11-30</td>\n",
       "      <td>273.81</td>\n",
       "      <td>276.28</td>\n",
       "      <td>273.45</td>\n",
       "      <td>275.65</td>\n",
       "      <td>98204200</td>\n",
       "      <td>271.53</td>\n",
       "    </tr>\n",
       "    <tr>\n",
       "      <th>1</th>\n",
       "      <td>SPY</td>\n",
       "      <td>2018-12-03</td>\n",
       "      <td>280.28</td>\n",
       "      <td>280.40</td>\n",
       "      <td>277.51</td>\n",
       "      <td>279.30</td>\n",
       "      <td>103176300</td>\n",
       "      <td>275.12</td>\n",
       "    </tr>\n",
       "    <tr>\n",
       "      <th>2</th>\n",
       "      <td>SPY</td>\n",
       "      <td>2018-12-04</td>\n",
       "      <td>278.37</td>\n",
       "      <td>278.85</td>\n",
       "      <td>269.90</td>\n",
       "      <td>270.25</td>\n",
       "      <td>177986000</td>\n",
       "      <td>266.21</td>\n",
       "    </tr>\n",
       "    <tr>\n",
       "      <th>3</th>\n",
       "      <td>SPY</td>\n",
       "      <td>2018-12-06</td>\n",
       "      <td>265.92</td>\n",
       "      <td>269.97</td>\n",
       "      <td>262.44</td>\n",
       "      <td>269.84</td>\n",
       "      <td>204185400</td>\n",
       "      <td>265.80</td>\n",
       "    </tr>\n",
       "    <tr>\n",
       "      <th>4</th>\n",
       "      <td>SPY</td>\n",
       "      <td>2018-12-07</td>\n",
       "      <td>269.46</td>\n",
       "      <td>271.22</td>\n",
       "      <td>262.63</td>\n",
       "      <td>263.57</td>\n",
       "      <td>161018900</td>\n",
       "      <td>259.63</td>\n",
       "    </tr>\n",
       "  </tbody>\n",
       "</table>\n",
       "</div>"
      ],
      "text/plain": [
       "  symbol        date    open    high     low   close     volume  adjusted\n",
       "0    SPY  2018-11-30  273.81  276.28  273.45  275.65   98204200    271.53\n",
       "1    SPY  2018-12-03  280.28  280.40  277.51  279.30  103176300    275.12\n",
       "2    SPY  2018-12-04  278.37  278.85  269.90  270.25  177986000    266.21\n",
       "3    SPY  2018-12-06  265.92  269.97  262.44  269.84  204185400    265.80\n",
       "4    SPY  2018-12-07  269.46  271.22  262.63  263.57  161018900    259.63"
      ]
     },
     "execution_count": 2,
     "metadata": {},
     "output_type": "execute_result"
    }
   ],
   "source": [
    "df_etf = pd.read_csv('index_etf_dec_2018.csv')\n",
    "df_etf = df_etf.round(2)\n",
    "df_etf.head()"
   ]
  },
  {
   "cell_type": "markdown",
   "metadata": {},
   "source": [
    "#### 3) Notice that the `date` column is being read-in as a `object` type.  Convert it to a `datetime` by using the `.to_datetime()` method in `pandas`."
   ]
  },
  {
   "cell_type": "code",
   "execution_count": 3,
   "metadata": {},
   "outputs": [
    {
     "data": {
      "text/plain": [
       "symbol              object\n",
       "date        datetime64[ns]\n",
       "open               float64\n",
       "high               float64\n",
       "low                float64\n",
       "close              float64\n",
       "volume               int64\n",
       "adjusted           float64\n",
       "dtype: object"
      ]
     },
     "execution_count": 3,
     "metadata": {},
     "output_type": "execute_result"
    }
   ],
   "source": [
    "df_etf['date'] = pd.to_datetime(df_etf['date'])\n",
    "df_etf.dtypes"
   ]
  },
  {
   "cell_type": "markdown",
   "metadata": {},
   "source": [
    "#### 3) The following commented code is from tutorial 09.  It adds a `return` column to `df_etf` and then fills it in appropriate.  Modify this code so that it adds a `daily_pnl` column instead, and fills it in.  The daily_pnl is simply the difference between the current price and previous price; for the first day of the month leave it as a `NaN`."
   ]
  },
  {
   "cell_type": "code",
   "execution_count": 4,
   "metadata": {},
   "outputs": [],
   "source": [
    "# df_etf['return'] = np.nan\n",
    "# for ix in range(1, df_etf.shape[0]):\n",
    "    \n",
    "#     # grabbing symbols from df_etf\n",
    "#     curr_sym = df_etf.at[ix, 'symbol']\n",
    "#     prev_sym = df_etf.at[ix-1, 'symbol']\n",
    "    \n",
    "#     # grabbling prices from df_etf\n",
    "#     curr_adj = df_etf.at[ix, 'adjusted']\n",
    "#     prev_adj = df_etf.at[ix-1, 'adjusted']\n",
    "    \n",
    "#     # calculating return\n",
    "#     if curr_sym == prev_sym:\n",
    "#         df_etf.at[ix, 'return'] = (curr_adj / prev_adj) - 1\n",
    "\n",
    "# df_etf.head()"
   ]
  },
  {
   "cell_type": "code",
   "execution_count": 5,
   "metadata": {},
   "outputs": [
    {
     "data": {
      "text/html": [
       "<div>\n",
       "<style scoped>\n",
       "    .dataframe tbody tr th:only-of-type {\n",
       "        vertical-align: middle;\n",
       "    }\n",
       "\n",
       "    .dataframe tbody tr th {\n",
       "        vertical-align: top;\n",
       "    }\n",
       "\n",
       "    .dataframe thead th {\n",
       "        text-align: right;\n",
       "    }\n",
       "</style>\n",
       "<table border=\"1\" class=\"dataframe\">\n",
       "  <thead>\n",
       "    <tr style=\"text-align: right;\">\n",
       "      <th></th>\n",
       "      <th>symbol</th>\n",
       "      <th>date</th>\n",
       "      <th>open</th>\n",
       "      <th>high</th>\n",
       "      <th>low</th>\n",
       "      <th>close</th>\n",
       "      <th>volume</th>\n",
       "      <th>adjusted</th>\n",
       "      <th>daily_pnl</th>\n",
       "    </tr>\n",
       "  </thead>\n",
       "  <tbody>\n",
       "    <tr>\n",
       "      <th>0</th>\n",
       "      <td>SPY</td>\n",
       "      <td>2018-11-30</td>\n",
       "      <td>273.81</td>\n",
       "      <td>276.28</td>\n",
       "      <td>273.45</td>\n",
       "      <td>275.65</td>\n",
       "      <td>98204200</td>\n",
       "      <td>271.53</td>\n",
       "      <td>NaN</td>\n",
       "    </tr>\n",
       "    <tr>\n",
       "      <th>1</th>\n",
       "      <td>SPY</td>\n",
       "      <td>2018-12-03</td>\n",
       "      <td>280.28</td>\n",
       "      <td>280.40</td>\n",
       "      <td>277.51</td>\n",
       "      <td>279.30</td>\n",
       "      <td>103176300</td>\n",
       "      <td>275.12</td>\n",
       "      <td>3.59</td>\n",
       "    </tr>\n",
       "    <tr>\n",
       "      <th>2</th>\n",
       "      <td>SPY</td>\n",
       "      <td>2018-12-04</td>\n",
       "      <td>278.37</td>\n",
       "      <td>278.85</td>\n",
       "      <td>269.90</td>\n",
       "      <td>270.25</td>\n",
       "      <td>177986000</td>\n",
       "      <td>266.21</td>\n",
       "      <td>-8.91</td>\n",
       "    </tr>\n",
       "    <tr>\n",
       "      <th>3</th>\n",
       "      <td>SPY</td>\n",
       "      <td>2018-12-06</td>\n",
       "      <td>265.92</td>\n",
       "      <td>269.97</td>\n",
       "      <td>262.44</td>\n",
       "      <td>269.84</td>\n",
       "      <td>204185400</td>\n",
       "      <td>265.80</td>\n",
       "      <td>-0.41</td>\n",
       "    </tr>\n",
       "    <tr>\n",
       "      <th>4</th>\n",
       "      <td>SPY</td>\n",
       "      <td>2018-12-07</td>\n",
       "      <td>269.46</td>\n",
       "      <td>271.22</td>\n",
       "      <td>262.63</td>\n",
       "      <td>263.57</td>\n",
       "      <td>161018900</td>\n",
       "      <td>259.63</td>\n",
       "      <td>-6.17</td>\n",
       "    </tr>\n",
       "  </tbody>\n",
       "</table>\n",
       "</div>"
      ],
      "text/plain": [
       "  symbol       date    open    high     low   close     volume  adjusted  \\\n",
       "0    SPY 2018-11-30  273.81  276.28  273.45  275.65   98204200    271.53   \n",
       "1    SPY 2018-12-03  280.28  280.40  277.51  279.30  103176300    275.12   \n",
       "2    SPY 2018-12-04  278.37  278.85  269.90  270.25  177986000    266.21   \n",
       "3    SPY 2018-12-06  265.92  269.97  262.44  269.84  204185400    265.80   \n",
       "4    SPY 2018-12-07  269.46  271.22  262.63  263.57  161018900    259.63   \n",
       "\n",
       "   daily_pnl  \n",
       "0        NaN  \n",
       "1       3.59  \n",
       "2      -8.91  \n",
       "3      -0.41  \n",
       "4      -6.17  "
      ]
     },
     "execution_count": 5,
     "metadata": {},
     "output_type": "execute_result"
    }
   ],
   "source": [
    "df_etf['daily_pnl'] = np.nan\n",
    "for ix in range(1, df_etf.shape[0]):\n",
    "    \n",
    "    # grabbing symbols from df_etf\n",
    "    curr_sym = df_etf.at[ix, 'symbol']\n",
    "    prev_sym = df_etf.at[ix-1, 'symbol']\n",
    "    \n",
    "    # grabbling prices from df_etf\n",
    "    curr_adj = df_etf.at[ix, 'adjusted']\n",
    "    prev_adj = df_etf.at[ix-1, 'adjusted']\n",
    "    \n",
    "    # calculating daily pnl\n",
    "    if curr_sym == prev_sym:\n",
    "        df_etf.at[ix, 'daily_pnl'] = (curr_adj - prev_adj)\n",
    "\n",
    "df_etf.head()"
   ]
  },
  {
   "cell_type": "markdown",
   "metadata": {},
   "source": [
    "#### 4)  Use `DataFrame` masking in conjunction with an aggregation calculation to calculate the monthly PNL for each ETF.  The monthly PNL is the sum of the daily PNLs.  You will use four different masking statements, one for each of the ETFs."
   ]
  },
  {
   "cell_type": "code",
   "execution_count": 9,
   "metadata": {},
   "outputs": [
    {
     "name": "stdout",
     "output_type": "stream",
     "text": [
      "-23.91\n",
      "-18.1\n",
      "-14.57\n",
      "-21.31\n"
     ]
    }
   ],
   "source": [
    "print(df_etf[df_etf.symbol == 'SPY']['daily_pnl'].sum().round(2))\n",
    "print(df_etf[df_etf.symbol == 'IWM']['daily_pnl'].sum().round(2))\n",
    "print(df_etf[df_etf.symbol == 'QQQ']['daily_pnl'].sum().round(2))\n",
    "print(df_etf[df_etf.symbol == 'DIA']['daily_pnl'].sum().round(2))"
   ]
  },
  {
   "cell_type": "markdown",
   "metadata": {},
   "source": [
    "#### 5) Calculate the monthly PNL of a \\$10,000 investment in QQQ during the time period."
   ]
  },
  {
   "cell_type": "code",
   "execution_count": 7,
   "metadata": {},
   "outputs": [
    {
     "data": {
      "text/plain": [
       "40   -866.179181\n",
       "Name: adjusted, dtype: float64"
      ]
     },
     "execution_count": 7,
     "metadata": {},
     "output_type": "execute_result"
    }
   ],
   "source": [
    "# setting investment size and symbol\n",
    "dbl_investment = 10000\n",
    "symbol = 'QQQ'\n",
    "\n",
    "\n",
    "# grabbing the first date and the first price\n",
    "dt_first = np.min(df_etf.date)\n",
    "dbl_start_price = df_etf[(df_etf.date==dt_first) & (df_etf.symbol == symbol)].adjusted\n",
    "\n",
    "\n",
    "# calculating the number of shares that $10K would buy\n",
    "dbl_shares = dbl_investment / dbl_start_price\n",
    "\n",
    "# calculating monthly pnl\n",
    "dbl_monthly_pnl = \\\n",
    "    (dbl_shares * df_etf[df_etf.symbol == symbol]['daily_pnl'].sum())\n",
    "dbl_monthly_pnl"
   ]
  }
 ],
 "metadata": {
  "kernelspec": {
   "display_name": "Python 3.7.3",
   "language": "python",
   "name": "py3.7.3"
  },
  "language_info": {
   "codemirror_mode": {
    "name": "ipython",
    "version": 3
   },
   "file_extension": ".py",
   "mimetype": "text/x-python",
   "name": "python",
   "nbconvert_exporter": "python",
   "pygments_lexer": "ipython3",
   "version": "3.7.3"
  }
 },
 "nbformat": 4,
 "nbformat_minor": 4
}
