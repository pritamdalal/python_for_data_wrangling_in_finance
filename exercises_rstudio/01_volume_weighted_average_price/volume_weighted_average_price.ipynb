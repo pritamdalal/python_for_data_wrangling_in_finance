{
 "cells": [
  {
   "cell_type": "markdown",
   "metadata": {},
   "source": [
    "# Exercise - Volume Weighted Average Price"
   ]
  },
  {
   "cell_type": "markdown",
   "metadata": {},
   "source": [
    "The end goal of this exercise is to calculate the volume weighted average close price of SPY over the month of July 2021.\n",
    "\n",
    "This will utilize column-wise operations and aggregation calculations."
   ]
  },
  {
   "cell_type": "markdown",
   "metadata": {},
   "source": [
    "#### 1) Import the `numpy`, `pandas`, and `pandas_datareader` packages."
   ]
  },
  {
   "cell_type": "code",
   "execution_count": null,
   "metadata": {},
   "outputs": [],
   "source": [
    "\n",
    "\n"
   ]
  },
  {
   "cell_type": "markdown",
   "metadata": {},
   "source": [
    "#### 2) Use the `pandas_datareader` to query the SPY data from Yahoo finance.  Assign the data to a variable called `df_spy`."
   ]
  },
  {
   "cell_type": "code",
   "execution_count": null,
   "metadata": {},
   "outputs": [],
   "source": [
    "\n",
    "\n"
   ]
  },
  {
   "cell_type": "markdown",
   "metadata": {},
   "source": [
    "Recall that the volume weighted average price is defined as: $\\sum_{i}\\frac{v_{i}}{v_{m}} \\cdot c_{i}$\n",
    "\n",
    "Where:\n",
    "- $i$ ranges over the days of the month\n",
    "- $v_{i}$ is the volume on day $i$\n",
    "- $v_{m}$ is the total volume over the month\n",
    "- $c_{i}$ is the close price for day $i$"
   ]
  },
  {
   "cell_type": "markdown",
   "metadata": {},
   "source": [
    "The next few steps will walk you through how to calculate this from the data set."
   ]
  },
  {
   "cell_type": "markdown",
   "metadata": {},
   "source": [
    "#### 3) Calculate the total volume for the month using an aggregation calculation on the `volume` column of `df_spy`.  Assign this value to a variable called `total_volume`."
   ]
  },
  {
   "cell_type": "code",
   "execution_count": null,
   "metadata": {},
   "outputs": [],
   "source": [
    "\n",
    "\n"
   ]
  },
  {
   "cell_type": "markdown",
   "metadata": {},
   "source": [
    "#### 4) Add a new column to `df_spy` called `vwap_weight`.  This column will be calculated by taking each day's volume and dividing it by the monthly volume.  This can be done using a component-wise calculation involving the `total_volume` quantity calculated above, and the `volume` column of `df_spy`.\n"
   ]
  },
  {
   "cell_type": "code",
   "execution_count": null,
   "metadata": {},
   "outputs": [],
   "source": [
    "\n",
    "\n"
   ]
  },
  {
   "cell_type": "markdown",
   "metadata": {},
   "source": [
    "#### 4) Verify that `vwap_weights` sum to one by using an aggregation calculation."
   ]
  },
  {
   "cell_type": "code",
   "execution_count": null,
   "metadata": {},
   "outputs": [],
   "source": [
    "\n",
    "\n"
   ]
  },
  {
   "cell_type": "markdown",
   "metadata": {},
   "source": [
    "#### 5) Add a new column to `df_spy` called `weighted_close` that is the component-wise product of the `vwap_weight` and `close` columns."
   ]
  },
  {
   "cell_type": "code",
   "execution_count": null,
   "metadata": {},
   "outputs": [],
   "source": [
    "\n",
    "\n"
   ]
  },
  {
   "cell_type": "markdown",
   "metadata": {},
   "source": [
    "#### 6) The volume-weighted close over the month is now just the sum of the `weighted_prices`.  Calculate it using an aggregation calculation."
   ]
  },
  {
   "cell_type": "code",
   "execution_count": null,
   "metadata": {},
   "outputs": [],
   "source": [
    "\n",
    "\n"
   ]
  }
 ],
 "metadata": {
  "kernelspec": {
   "display_name": "Python 3.7.3",
   "language": "python",
   "name": "py3.7.3"
  },
  "language_info": {
   "codemirror_mode": {
    "name": "ipython",
    "version": 3
   },
   "file_extension": ".py",
   "mimetype": "text/x-python",
   "name": "python",
   "nbconvert_exporter": "python",
   "pygments_lexer": "ipython3",
   "version": "3.7.3"
  }
 },
 "nbformat": 4,
 "nbformat_minor": 4
}
