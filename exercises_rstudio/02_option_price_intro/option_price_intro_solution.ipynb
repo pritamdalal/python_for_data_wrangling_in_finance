{
 "cells": [
  {
   "cell_type": "markdown",
   "metadata": {},
   "source": [
    "## Exercise - Option Price Introduction"
   ]
  },
  {
   "cell_type": "markdown",
   "metadata": {},
   "source": [
    "The purpose of this exercise is to introduce you to a small amount of options data.  You'll perform a few calculations (which aren't all that meaningful) but the real motivation is to get your hands  dirty with some real-world data.\n",
    "\n",
    "Along the way you will use some *indexing* and *querying* skills.\n",
    "\n",
    "We will use the data in *spy_put.csv*"
   ]
  },
  {
   "cell_type": "markdown",
   "metadata": {},
   "source": [
    "#### 1) Import the `pandas` and `numpy` packages."
   ]
  },
  {
   "cell_type": "code",
   "execution_count": 1,
   "metadata": {},
   "outputs": [],
   "source": [
    "import pandas as pd\n",
    "import numpy as np"
   ]
  },
  {
   "cell_type": "markdown",
   "metadata": {},
   "source": [
    "#### 2) Read-in the data into a variable call `df_put`."
   ]
  },
  {
   "cell_type": "code",
   "execution_count": 2,
   "metadata": {},
   "outputs": [
    {
     "data": {
      "text/html": [
       "<div>\n",
       "<style scoped>\n",
       "    .dataframe tbody tr th:only-of-type {\n",
       "        vertical-align: middle;\n",
       "    }\n",
       "\n",
       "    .dataframe tbody tr th {\n",
       "        vertical-align: top;\n",
       "    }\n",
       "\n",
       "    .dataframe thead th {\n",
       "        text-align: right;\n",
       "    }\n",
       "</style>\n",
       "<table border=\"1\" class=\"dataframe\">\n",
       "  <thead>\n",
       "    <tr style=\"text-align: right;\">\n",
       "      <th></th>\n",
       "      <th>underlying_symbol</th>\n",
       "      <th>underlying_price</th>\n",
       "      <th>type</th>\n",
       "      <th>expiration</th>\n",
       "      <th>data_date</th>\n",
       "      <th>d2x</th>\n",
       "      <th>strike</th>\n",
       "      <th>bid</th>\n",
       "      <th>ask</th>\n",
       "      <th>mid</th>\n",
       "      <th>volume</th>\n",
       "      <th>open_interest</th>\n",
       "      <th>implied_vol</th>\n",
       "      <th>delta</th>\n",
       "    </tr>\n",
       "  </thead>\n",
       "  <tbody>\n",
       "    <tr>\n",
       "      <th>0</th>\n",
       "      <td>SPY</td>\n",
       "      <td>276.179688</td>\n",
       "      <td>put</td>\n",
       "      <td>2018-11-16</td>\n",
       "      <td>2018-10-19</td>\n",
       "      <td>20</td>\n",
       "      <td>274</td>\n",
       "      <td>4.24</td>\n",
       "      <td>4.27</td>\n",
       "      <td>4.255</td>\n",
       "      <td>7027</td>\n",
       "      <td>58931</td>\n",
       "      <td>0.174777</td>\n",
       "      <td>0.417679</td>\n",
       "    </tr>\n",
       "    <tr>\n",
       "      <th>1</th>\n",
       "      <td>SPY</td>\n",
       "      <td>275.029999</td>\n",
       "      <td>put</td>\n",
       "      <td>2018-11-16</td>\n",
       "      <td>2018-10-22</td>\n",
       "      <td>19</td>\n",
       "      <td>274</td>\n",
       "      <td>4.28</td>\n",
       "      <td>4.31</td>\n",
       "      <td>4.295</td>\n",
       "      <td>3174</td>\n",
       "      <td>58861</td>\n",
       "      <td>0.167284</td>\n",
       "      <td>0.441894</td>\n",
       "    </tr>\n",
       "    <tr>\n",
       "      <th>2</th>\n",
       "      <td>SPY</td>\n",
       "      <td>273.519989</td>\n",
       "      <td>put</td>\n",
       "      <td>2018-11-16</td>\n",
       "      <td>2018-10-23</td>\n",
       "      <td>18</td>\n",
       "      <td>274</td>\n",
       "      <td>5.09</td>\n",
       "      <td>5.14</td>\n",
       "      <td>5.115</td>\n",
       "      <td>32932</td>\n",
       "      <td>59467</td>\n",
       "      <td>0.176492</td>\n",
       "      <td>0.488031</td>\n",
       "    </tr>\n",
       "    <tr>\n",
       "      <th>3</th>\n",
       "      <td>SPY</td>\n",
       "      <td>265.209991</td>\n",
       "      <td>put</td>\n",
       "      <td>2018-11-16</td>\n",
       "      <td>2018-10-24</td>\n",
       "      <td>17</td>\n",
       "      <td>274</td>\n",
       "      <td>9.59</td>\n",
       "      <td>10.20</td>\n",
       "      <td>9.895</td>\n",
       "      <td>11461</td>\n",
       "      <td>49153</td>\n",
       "      <td>0.190524</td>\n",
       "      <td>0.703797</td>\n",
       "    </tr>\n",
       "    <tr>\n",
       "      <th>4</th>\n",
       "      <td>SPY</td>\n",
       "      <td>270.010010</td>\n",
       "      <td>put</td>\n",
       "      <td>2018-11-16</td>\n",
       "      <td>2018-10-25</td>\n",
       "      <td>16</td>\n",
       "      <td>274</td>\n",
       "      <td>8.11</td>\n",
       "      <td>8.19</td>\n",
       "      <td>8.150</td>\n",
       "      <td>3394</td>\n",
       "      <td>44592</td>\n",
       "      <td>0.196509</td>\n",
       "      <td>0.632242</td>\n",
       "    </tr>\n",
       "  </tbody>\n",
       "</table>\n",
       "</div>"
      ],
      "text/plain": [
       "  underlying_symbol  underlying_price type  expiration   data_date  d2x  \\\n",
       "0               SPY        276.179688  put  2018-11-16  2018-10-19   20   \n",
       "1               SPY        275.029999  put  2018-11-16  2018-10-22   19   \n",
       "2               SPY        273.519989  put  2018-11-16  2018-10-23   18   \n",
       "3               SPY        265.209991  put  2018-11-16  2018-10-24   17   \n",
       "4               SPY        270.010010  put  2018-11-16  2018-10-25   16   \n",
       "\n",
       "   strike   bid    ask    mid  volume  open_interest  implied_vol     delta  \n",
       "0     274  4.24   4.27  4.255    7027          58931     0.174777  0.417679  \n",
       "1     274  4.28   4.31  4.295    3174          58861     0.167284  0.441894  \n",
       "2     274  5.09   5.14  5.115   32932          59467     0.176492  0.488031  \n",
       "3     274  9.59  10.20  9.895   11461          49153     0.190524  0.703797  \n",
       "4     274  8.11   8.19  8.150    3394          44592     0.196509  0.632242  "
      ]
     },
     "execution_count": 2,
     "metadata": {},
     "output_type": "execute_result"
    }
   ],
   "source": [
    "df_put = pd.read_csv('spy_put.csv')\n",
    "df_put.head()"
   ]
  },
  {
   "cell_type": "markdown",
   "metadata": {},
   "source": [
    "For those of you unfamiliar with options, this might seem a little overwhelming, but don't worry.  You will be able to complete the exercises without any prior knowledge of options.\n",
    "\n",
    "Options are insurance contracts written on top of shares of stocks.  Unlike stocks, options have an expiration date - on that date they either have some positive payout, or a they are worth nothing.  After expiration they cease to exist.  In `df_put` we are looking at end-of-day prices, for one particular option, for the 21 days before it expires.\n",
    "\n",
    "In particular, this is a **put** option that has SPY as its **underlying**. The **expiration date** of our option is 11/16/2018.  The **strike price** of the contract is 274.  \n",
    "\n",
    "Don't worry if this all sounds like gibberish."
   ]
  },
  {
   "cell_type": "markdown",
   "metadata": {},
   "source": [
    "#### 3) Use fancy indexing to create a `DataFrame` that consists of the put's contract features: `underlying_symbol`, `type`, `expiration`, and `strike`.  This won't be a very interesting `DataFrame` because all 21 rows will be the same."
   ]
  },
  {
   "cell_type": "code",
   "execution_count": 3,
   "metadata": {},
   "outputs": [
    {
     "data": {
      "text/html": [
       "<div>\n",
       "<style scoped>\n",
       "    .dataframe tbody tr th:only-of-type {\n",
       "        vertical-align: middle;\n",
       "    }\n",
       "\n",
       "    .dataframe tbody tr th {\n",
       "        vertical-align: top;\n",
       "    }\n",
       "\n",
       "    .dataframe thead th {\n",
       "        text-align: right;\n",
       "    }\n",
       "</style>\n",
       "<table border=\"1\" class=\"dataframe\">\n",
       "  <thead>\n",
       "    <tr style=\"text-align: right;\">\n",
       "      <th></th>\n",
       "      <th>underlying_symbol</th>\n",
       "      <th>type</th>\n",
       "      <th>expiration</th>\n",
       "      <th>strike</th>\n",
       "    </tr>\n",
       "  </thead>\n",
       "  <tbody>\n",
       "    <tr>\n",
       "      <th>0</th>\n",
       "      <td>SPY</td>\n",
       "      <td>put</td>\n",
       "      <td>2018-11-16</td>\n",
       "      <td>274</td>\n",
       "    </tr>\n",
       "    <tr>\n",
       "      <th>1</th>\n",
       "      <td>SPY</td>\n",
       "      <td>put</td>\n",
       "      <td>2018-11-16</td>\n",
       "      <td>274</td>\n",
       "    </tr>\n",
       "    <tr>\n",
       "      <th>2</th>\n",
       "      <td>SPY</td>\n",
       "      <td>put</td>\n",
       "      <td>2018-11-16</td>\n",
       "      <td>274</td>\n",
       "    </tr>\n",
       "    <tr>\n",
       "      <th>3</th>\n",
       "      <td>SPY</td>\n",
       "      <td>put</td>\n",
       "      <td>2018-11-16</td>\n",
       "      <td>274</td>\n",
       "    </tr>\n",
       "    <tr>\n",
       "      <th>4</th>\n",
       "      <td>SPY</td>\n",
       "      <td>put</td>\n",
       "      <td>2018-11-16</td>\n",
       "      <td>274</td>\n",
       "    </tr>\n",
       "  </tbody>\n",
       "</table>\n",
       "</div>"
      ],
      "text/plain": [
       "  underlying_symbol type  expiration  strike\n",
       "0               SPY  put  2018-11-16     274\n",
       "1               SPY  put  2018-11-16     274\n",
       "2               SPY  put  2018-11-16     274\n",
       "3               SPY  put  2018-11-16     274\n",
       "4               SPY  put  2018-11-16     274"
      ]
     },
     "execution_count": 3,
     "metadata": {},
     "output_type": "execute_result"
    }
   ],
   "source": [
    "df_put[['underlying_symbol', 'type', 'expiration', 'strike']].head() # alternative 1"
   ]
  },
  {
   "cell_type": "code",
   "execution_count": 4,
   "metadata": {},
   "outputs": [
    {
     "data": {
      "text/html": [
       "<div>\n",
       "<style scoped>\n",
       "    .dataframe tbody tr th:only-of-type {\n",
       "        vertical-align: middle;\n",
       "    }\n",
       "\n",
       "    .dataframe tbody tr th {\n",
       "        vertical-align: top;\n",
       "    }\n",
       "\n",
       "    .dataframe thead th {\n",
       "        text-align: right;\n",
       "    }\n",
       "</style>\n",
       "<table border=\"1\" class=\"dataframe\">\n",
       "  <thead>\n",
       "    <tr style=\"text-align: right;\">\n",
       "      <th></th>\n",
       "      <th>underlying_symbol</th>\n",
       "      <th>type</th>\n",
       "      <th>expiration</th>\n",
       "      <th>strike</th>\n",
       "    </tr>\n",
       "  </thead>\n",
       "  <tbody>\n",
       "    <tr>\n",
       "      <th>0</th>\n",
       "      <td>SPY</td>\n",
       "      <td>put</td>\n",
       "      <td>2018-11-16</td>\n",
       "      <td>274</td>\n",
       "    </tr>\n",
       "    <tr>\n",
       "      <th>1</th>\n",
       "      <td>SPY</td>\n",
       "      <td>put</td>\n",
       "      <td>2018-11-16</td>\n",
       "      <td>274</td>\n",
       "    </tr>\n",
       "    <tr>\n",
       "      <th>2</th>\n",
       "      <td>SPY</td>\n",
       "      <td>put</td>\n",
       "      <td>2018-11-16</td>\n",
       "      <td>274</td>\n",
       "    </tr>\n",
       "    <tr>\n",
       "      <th>3</th>\n",
       "      <td>SPY</td>\n",
       "      <td>put</td>\n",
       "      <td>2018-11-16</td>\n",
       "      <td>274</td>\n",
       "    </tr>\n",
       "    <tr>\n",
       "      <th>4</th>\n",
       "      <td>SPY</td>\n",
       "      <td>put</td>\n",
       "      <td>2018-11-16</td>\n",
       "      <td>274</td>\n",
       "    </tr>\n",
       "  </tbody>\n",
       "</table>\n",
       "</div>"
      ],
      "text/plain": [
       "  underlying_symbol type  expiration  strike\n",
       "0               SPY  put  2018-11-16     274\n",
       "1               SPY  put  2018-11-16     274\n",
       "2               SPY  put  2018-11-16     274\n",
       "3               SPY  put  2018-11-16     274\n",
       "4               SPY  put  2018-11-16     274"
      ]
     },
     "execution_count": 4,
     "metadata": {},
     "output_type": "execute_result"
    }
   ],
   "source": [
    "df_put.loc[:, ['underlying_symbol', 'type', 'expiration', 'strike']].head() # alternative 2"
   ]
  },
  {
   "cell_type": "markdown",
   "metadata": {},
   "source": [
    "#### 4) Create a `Series` of booleans, call it `ser_itm`,  by performing a pair-wise comparison of  `df_put['underlying_price']` and `df_put['strike']`.  In particular, check when the underlying price is less than the strike price of the option. "
   ]
  },
  {
   "cell_type": "code",
   "execution_count": 5,
   "metadata": {},
   "outputs": [
    {
     "data": {
      "text/plain": [
       "0    False\n",
       "1    False\n",
       "2     True\n",
       "3     True\n",
       "4     True\n",
       "dtype: bool"
      ]
     },
     "execution_count": 5,
     "metadata": {},
     "output_type": "execute_result"
    }
   ],
   "source": [
    "ser_itm = df_put['underlying_price'] < df_put['strike']\n",
    "ser_itm.head()"
   ]
  },
  {
   "cell_type": "markdown",
   "metadata": {},
   "source": [
    "#### 5) A put is said to be \"in-the-money\" if the price of the `underlying_price` is less than `strike`.  Use masking and `.query()` to select only the rows from `df_put` when the contract is in-the-money."
   ]
  },
  {
   "cell_type": "code",
   "execution_count": 6,
   "metadata": {},
   "outputs": [
    {
     "data": {
      "text/html": [
       "<div>\n",
       "<style scoped>\n",
       "    .dataframe tbody tr th:only-of-type {\n",
       "        vertical-align: middle;\n",
       "    }\n",
       "\n",
       "    .dataframe tbody tr th {\n",
       "        vertical-align: top;\n",
       "    }\n",
       "\n",
       "    .dataframe thead th {\n",
       "        text-align: right;\n",
       "    }\n",
       "</style>\n",
       "<table border=\"1\" class=\"dataframe\">\n",
       "  <thead>\n",
       "    <tr style=\"text-align: right;\">\n",
       "      <th></th>\n",
       "      <th>underlying_symbol</th>\n",
       "      <th>underlying_price</th>\n",
       "      <th>type</th>\n",
       "      <th>expiration</th>\n",
       "      <th>data_date</th>\n",
       "      <th>d2x</th>\n",
       "      <th>strike</th>\n",
       "      <th>bid</th>\n",
       "      <th>ask</th>\n",
       "      <th>mid</th>\n",
       "      <th>volume</th>\n",
       "      <th>open_interest</th>\n",
       "      <th>implied_vol</th>\n",
       "      <th>delta</th>\n",
       "    </tr>\n",
       "  </thead>\n",
       "  <tbody>\n",
       "    <tr>\n",
       "      <th>2</th>\n",
       "      <td>SPY</td>\n",
       "      <td>273.519989</td>\n",
       "      <td>put</td>\n",
       "      <td>2018-11-16</td>\n",
       "      <td>2018-10-23</td>\n",
       "      <td>18</td>\n",
       "      <td>274</td>\n",
       "      <td>5.09</td>\n",
       "      <td>5.14</td>\n",
       "      <td>5.115</td>\n",
       "      <td>32932</td>\n",
       "      <td>59467</td>\n",
       "      <td>0.176492</td>\n",
       "      <td>0.488031</td>\n",
       "    </tr>\n",
       "    <tr>\n",
       "      <th>3</th>\n",
       "      <td>SPY</td>\n",
       "      <td>265.209991</td>\n",
       "      <td>put</td>\n",
       "      <td>2018-11-16</td>\n",
       "      <td>2018-10-24</td>\n",
       "      <td>17</td>\n",
       "      <td>274</td>\n",
       "      <td>9.59</td>\n",
       "      <td>10.20</td>\n",
       "      <td>9.895</td>\n",
       "      <td>11461</td>\n",
       "      <td>49153</td>\n",
       "      <td>0.190524</td>\n",
       "      <td>0.703797</td>\n",
       "    </tr>\n",
       "    <tr>\n",
       "      <th>4</th>\n",
       "      <td>SPY</td>\n",
       "      <td>270.010010</td>\n",
       "      <td>put</td>\n",
       "      <td>2018-11-16</td>\n",
       "      <td>2018-10-25</td>\n",
       "      <td>16</td>\n",
       "      <td>274</td>\n",
       "      <td>8.11</td>\n",
       "      <td>8.19</td>\n",
       "      <td>8.150</td>\n",
       "      <td>3394</td>\n",
       "      <td>44592</td>\n",
       "      <td>0.196509</td>\n",
       "      <td>0.632242</td>\n",
       "    </tr>\n",
       "    <tr>\n",
       "      <th>5</th>\n",
       "      <td>SPY</td>\n",
       "      <td>265.220001</td>\n",
       "      <td>put</td>\n",
       "      <td>2018-11-16</td>\n",
       "      <td>2018-10-26</td>\n",
       "      <td>15</td>\n",
       "      <td>274</td>\n",
       "      <td>9.93</td>\n",
       "      <td>10.26</td>\n",
       "      <td>10.095</td>\n",
       "      <td>2387</td>\n",
       "      <td>44294</td>\n",
       "      <td>0.202849</td>\n",
       "      <td>0.711129</td>\n",
       "    </tr>\n",
       "    <tr>\n",
       "      <th>6</th>\n",
       "      <td>SPY</td>\n",
       "      <td>263.690002</td>\n",
       "      <td>put</td>\n",
       "      <td>2018-11-16</td>\n",
       "      <td>2018-10-29</td>\n",
       "      <td>14</td>\n",
       "      <td>274</td>\n",
       "      <td>11.39</td>\n",
       "      <td>11.86</td>\n",
       "      <td>11.625</td>\n",
       "      <td>741</td>\n",
       "      <td>43408</td>\n",
       "      <td>0.193238</td>\n",
       "      <td>0.792172</td>\n",
       "    </tr>\n",
       "  </tbody>\n",
       "</table>\n",
       "</div>"
      ],
      "text/plain": [
       "  underlying_symbol  underlying_price type  expiration   data_date  d2x  \\\n",
       "2               SPY        273.519989  put  2018-11-16  2018-10-23   18   \n",
       "3               SPY        265.209991  put  2018-11-16  2018-10-24   17   \n",
       "4               SPY        270.010010  put  2018-11-16  2018-10-25   16   \n",
       "5               SPY        265.220001  put  2018-11-16  2018-10-26   15   \n",
       "6               SPY        263.690002  put  2018-11-16  2018-10-29   14   \n",
       "\n",
       "   strike    bid    ask     mid  volume  open_interest  implied_vol     delta  \n",
       "2     274   5.09   5.14   5.115   32932          59467     0.176492  0.488031  \n",
       "3     274   9.59  10.20   9.895   11461          49153     0.190524  0.703797  \n",
       "4     274   8.11   8.19   8.150    3394          44592     0.196509  0.632242  \n",
       "5     274   9.93  10.26  10.095    2387          44294     0.202849  0.711129  \n",
       "6     274  11.39  11.86  11.625     741          43408     0.193238  0.792172  "
      ]
     },
     "execution_count": 6,
     "metadata": {},
     "output_type": "execute_result"
    }
   ],
   "source": [
    "df_put[ser_itm].head()"
   ]
  },
  {
   "cell_type": "code",
   "execution_count": 7,
   "metadata": {},
   "outputs": [
    {
     "data": {
      "text/html": [
       "<div>\n",
       "<style scoped>\n",
       "    .dataframe tbody tr th:only-of-type {\n",
       "        vertical-align: middle;\n",
       "    }\n",
       "\n",
       "    .dataframe tbody tr th {\n",
       "        vertical-align: top;\n",
       "    }\n",
       "\n",
       "    .dataframe thead th {\n",
       "        text-align: right;\n",
       "    }\n",
       "</style>\n",
       "<table border=\"1\" class=\"dataframe\">\n",
       "  <thead>\n",
       "    <tr style=\"text-align: right;\">\n",
       "      <th></th>\n",
       "      <th>underlying_symbol</th>\n",
       "      <th>underlying_price</th>\n",
       "      <th>type</th>\n",
       "      <th>expiration</th>\n",
       "      <th>data_date</th>\n",
       "      <th>d2x</th>\n",
       "      <th>strike</th>\n",
       "      <th>bid</th>\n",
       "      <th>ask</th>\n",
       "      <th>mid</th>\n",
       "      <th>volume</th>\n",
       "      <th>open_interest</th>\n",
       "      <th>implied_vol</th>\n",
       "      <th>delta</th>\n",
       "    </tr>\n",
       "  </thead>\n",
       "  <tbody>\n",
       "    <tr>\n",
       "      <th>2</th>\n",
       "      <td>SPY</td>\n",
       "      <td>273.519989</td>\n",
       "      <td>put</td>\n",
       "      <td>2018-11-16</td>\n",
       "      <td>2018-10-23</td>\n",
       "      <td>18</td>\n",
       "      <td>274</td>\n",
       "      <td>5.09</td>\n",
       "      <td>5.14</td>\n",
       "      <td>5.115</td>\n",
       "      <td>32932</td>\n",
       "      <td>59467</td>\n",
       "      <td>0.176492</td>\n",
       "      <td>0.488031</td>\n",
       "    </tr>\n",
       "    <tr>\n",
       "      <th>3</th>\n",
       "      <td>SPY</td>\n",
       "      <td>265.209991</td>\n",
       "      <td>put</td>\n",
       "      <td>2018-11-16</td>\n",
       "      <td>2018-10-24</td>\n",
       "      <td>17</td>\n",
       "      <td>274</td>\n",
       "      <td>9.59</td>\n",
       "      <td>10.20</td>\n",
       "      <td>9.895</td>\n",
       "      <td>11461</td>\n",
       "      <td>49153</td>\n",
       "      <td>0.190524</td>\n",
       "      <td>0.703797</td>\n",
       "    </tr>\n",
       "    <tr>\n",
       "      <th>4</th>\n",
       "      <td>SPY</td>\n",
       "      <td>270.010010</td>\n",
       "      <td>put</td>\n",
       "      <td>2018-11-16</td>\n",
       "      <td>2018-10-25</td>\n",
       "      <td>16</td>\n",
       "      <td>274</td>\n",
       "      <td>8.11</td>\n",
       "      <td>8.19</td>\n",
       "      <td>8.150</td>\n",
       "      <td>3394</td>\n",
       "      <td>44592</td>\n",
       "      <td>0.196509</td>\n",
       "      <td>0.632242</td>\n",
       "    </tr>\n",
       "    <tr>\n",
       "      <th>5</th>\n",
       "      <td>SPY</td>\n",
       "      <td>265.220001</td>\n",
       "      <td>put</td>\n",
       "      <td>2018-11-16</td>\n",
       "      <td>2018-10-26</td>\n",
       "      <td>15</td>\n",
       "      <td>274</td>\n",
       "      <td>9.93</td>\n",
       "      <td>10.26</td>\n",
       "      <td>10.095</td>\n",
       "      <td>2387</td>\n",
       "      <td>44294</td>\n",
       "      <td>0.202849</td>\n",
       "      <td>0.711129</td>\n",
       "    </tr>\n",
       "    <tr>\n",
       "      <th>6</th>\n",
       "      <td>SPY</td>\n",
       "      <td>263.690002</td>\n",
       "      <td>put</td>\n",
       "      <td>2018-11-16</td>\n",
       "      <td>2018-10-29</td>\n",
       "      <td>14</td>\n",
       "      <td>274</td>\n",
       "      <td>11.39</td>\n",
       "      <td>11.86</td>\n",
       "      <td>11.625</td>\n",
       "      <td>741</td>\n",
       "      <td>43408</td>\n",
       "      <td>0.193238</td>\n",
       "      <td>0.792172</td>\n",
       "    </tr>\n",
       "  </tbody>\n",
       "</table>\n",
       "</div>"
      ],
      "text/plain": [
       "  underlying_symbol  underlying_price type  expiration   data_date  d2x  \\\n",
       "2               SPY        273.519989  put  2018-11-16  2018-10-23   18   \n",
       "3               SPY        265.209991  put  2018-11-16  2018-10-24   17   \n",
       "4               SPY        270.010010  put  2018-11-16  2018-10-25   16   \n",
       "5               SPY        265.220001  put  2018-11-16  2018-10-26   15   \n",
       "6               SPY        263.690002  put  2018-11-16  2018-10-29   14   \n",
       "\n",
       "   strike    bid    ask     mid  volume  open_interest  implied_vol     delta  \n",
       "2     274   5.09   5.14   5.115   32932          59467     0.176492  0.488031  \n",
       "3     274   9.59  10.20   9.895   11461          49153     0.190524  0.703797  \n",
       "4     274   8.11   8.19   8.150    3394          44592     0.196509  0.632242  \n",
       "5     274   9.93  10.26  10.095    2387          44294     0.202849  0.711129  \n",
       "6     274  11.39  11.86  11.625     741          43408     0.193238  0.792172  "
      ]
     },
     "execution_count": 7,
     "metadata": {},
     "output_type": "execute_result"
    }
   ],
   "source": [
    "df_put.query('underlying_price < strike').head()"
   ]
  },
  {
   "cell_type": "markdown",
   "metadata": {},
   "source": [
    "#### 6) Calculate the average `delta` for days that the put is in-the-money, and also for the days that it is out-of-the-money.  (Hint: find out how to \"negate\" an array of booleans, apply your masking skills, and then apply an aggregation function)."
   ]
  },
  {
   "cell_type": "code",
   "execution_count": 8,
   "metadata": {},
   "outputs": [
    {
     "data": {
      "text/plain": [
       "0.653652024181308"
      ]
     },
     "execution_count": 8,
     "metadata": {},
     "output_type": "execute_result"
    }
   ],
   "source": [
    "df_put[ser_itm]['delta'].mean()"
   ]
  },
  {
   "cell_type": "code",
   "execution_count": 9,
   "metadata": {},
   "outputs": [
    {
     "data": {
      "text/plain": [
       "0.31517216213921667"
      ]
     },
     "execution_count": 9,
     "metadata": {},
     "output_type": "execute_result"
    }
   ],
   "source": [
    "df_put[~(ser_itm)]['delta'].mean()"
   ]
  },
  {
   "cell_type": "code",
   "execution_count": 10,
   "metadata": {},
   "outputs": [
    {
     "data": {
      "text/plain": [
       "0.653652024181308"
      ]
     },
     "execution_count": 10,
     "metadata": {},
     "output_type": "execute_result"
    }
   ],
   "source": [
    "df_put.query('underlying_price < strike')['delta'].mean()"
   ]
  },
  {
   "cell_type": "code",
   "execution_count": 11,
   "metadata": {},
   "outputs": [
    {
     "data": {
      "text/plain": [
       "0.31517216213921667"
      ]
     },
     "execution_count": 11,
     "metadata": {},
     "output_type": "execute_result"
    }
   ],
   "source": [
    "df_put.query('underlying_price >= strike')['delta'].mean()"
   ]
  }
 ],
 "metadata": {
  "kernelspec": {
   "display_name": "Python 3.7.3",
   "language": "python",
   "name": "py3.7.3"
  },
  "language_info": {
   "codemirror_mode": {
    "name": "ipython",
    "version": 3
   },
   "file_extension": ".py",
   "mimetype": "text/x-python",
   "name": "python",
   "nbconvert_exporter": "python",
   "pygments_lexer": "ipython3",
   "version": "3.7.3"
  }
 },
 "nbformat": 4,
 "nbformat_minor": 4
}
